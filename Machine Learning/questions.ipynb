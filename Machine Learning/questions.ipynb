{
 "cells": [
  {
   "cell_type": "markdown",
   "metadata": {},
   "source": [
    "# Exercises for \"Hands-on with Pydata: How to Build a Minimal Recommendation Engine\""
   ]
  },
  {
   "cell_type": "markdown",
   "metadata": {},
   "source": [
    "# Systems check: imports and files"
   ]
  },
  {
   "cell_type": "code",
   "execution_count": 1,
   "metadata": {
    "collapsed": false
   },
   "outputs": [],
   "source": [
    "import numpy as np\n",
    "import pandas as pd"
   ]
  },
  {
   "cell_type": "markdown",
   "metadata": {},
   "source": [
    "# Pandas questions: Series and DataFrames\n",
    "## 1. Adding a column in a DataFrame"
   ]
  },
  {
   "cell_type": "code",
   "execution_count": 2,
   "metadata": {
    "collapsed": false
   },
   "outputs": [
    {
     "data": {
      "text/html": [
       "<div>\n",
       "<style>\n",
       "    .dataframe thead tr:only-child th {\n",
       "        text-align: right;\n",
       "    }\n",
       "\n",
       "    .dataframe thead th {\n",
       "        text-align: left;\n",
       "    }\n",
       "\n",
       "    .dataframe tbody tr th {\n",
       "        vertical-align: top;\n",
       "    }\n",
       "</style>\n",
       "<table border=\"1\" class=\"dataframe\">\n",
       "  <thead>\n",
       "    <tr style=\"text-align: right;\">\n",
       "      <th></th>\n",
       "      <th>col1</th>\n",
       "    </tr>\n",
       "  </thead>\n",
       "  <tbody>\n",
       "    <tr>\n",
       "      <th>0</th>\n",
       "      <td>1</td>\n",
       "    </tr>\n",
       "    <tr>\n",
       "      <th>1</th>\n",
       "      <td>2</td>\n",
       "    </tr>\n",
       "    <tr>\n",
       "      <th>2</th>\n",
       "      <td>3</td>\n",
       "    </tr>\n",
       "    <tr>\n",
       "      <th>3</th>\n",
       "      <td>4</td>\n",
       "    </tr>\n",
       "  </tbody>\n",
       "</table>\n",
       "</div>"
      ],
      "text/plain": [
       "   col1\n",
       "0     1\n",
       "1     2\n",
       "2     3\n",
       "3     4"
      ]
     },
     "execution_count": 2,
     "metadata": {},
     "output_type": "execute_result"
    }
   ],
   "source": [
    "# given the following DataFrame, add a new column to it\n",
    "df = pd.DataFrame({'col1': [1,2,3,4]})\n",
    "df"
   ]
  },
  {
   "cell_type": "markdown",
   "metadata": {},
   "source": [
    "## 2. Deleting a row in a DataFrame"
   ]
  },
  {
   "cell_type": "code",
   "execution_count": 3,
   "metadata": {
    "collapsed": false
   },
   "outputs": [
    {
     "data": {
      "text/html": [
       "<div>\n",
       "<style>\n",
       "    .dataframe thead tr:only-child th {\n",
       "        text-align: right;\n",
       "    }\n",
       "\n",
       "    .dataframe thead th {\n",
       "        text-align: left;\n",
       "    }\n",
       "\n",
       "    .dataframe tbody tr th {\n",
       "        vertical-align: top;\n",
       "    }\n",
       "</style>\n",
       "<table border=\"1\" class=\"dataframe\">\n",
       "  <thead>\n",
       "    <tr style=\"text-align: right;\">\n",
       "      <th></th>\n",
       "      <th>col1</th>\n",
       "    </tr>\n",
       "  </thead>\n",
       "  <tbody>\n",
       "    <tr>\n",
       "      <th>a</th>\n",
       "      <td>1</td>\n",
       "    </tr>\n",
       "    <tr>\n",
       "      <th>b</th>\n",
       "      <td>2</td>\n",
       "    </tr>\n",
       "    <tr>\n",
       "      <th>c</th>\n",
       "      <td>3</td>\n",
       "    </tr>\n",
       "    <tr>\n",
       "      <th>d</th>\n",
       "      <td>4</td>\n",
       "    </tr>\n",
       "  </tbody>\n",
       "</table>\n",
       "</div>"
      ],
      "text/plain": [
       "   col1\n",
       "a     1\n",
       "b     2\n",
       "c     3\n",
       "d     4"
      ]
     },
     "execution_count": 3,
     "metadata": {},
     "output_type": "execute_result"
    }
   ],
   "source": [
    "# given the following DataFrame, delete row 'd' from it\n",
    "df = pd.DataFrame({'col1': [1,2,3,4]}, index = ['a','b','c','d'])\n",
    "df"
   ]
  },
  {
   "cell_type": "markdown",
   "metadata": {},
   "source": [
    "## 3. Creating a DataFrame from a few Series"
   ]
  },
  {
   "cell_type": "code",
   "execution_count": 5,
   "metadata": {
    "collapsed": false
   },
   "outputs": [
    {
     "data": {
      "text/html": [
       "<div>\n",
       "<style>\n",
       "    .dataframe thead tr:only-child th {\n",
       "        text-align: right;\n",
       "    }\n",
       "\n",
       "    .dataframe thead th {\n",
       "        text-align: left;\n",
       "    }\n",
       "\n",
       "    .dataframe tbody tr th {\n",
       "        vertical-align: top;\n",
       "    }\n",
       "</style>\n",
       "<table border=\"1\" class=\"dataframe\">\n",
       "  <thead>\n",
       "    <tr style=\"text-align: right;\">\n",
       "      <th></th>\n",
       "      <th>col1</th>\n",
       "      <th>col2</th>\n",
       "      <th>col3</th>\n",
       "    </tr>\n",
       "  </thead>\n",
       "  <tbody>\n",
       "    <tr>\n",
       "      <th>0</th>\n",
       "      <td>-0.574196</td>\n",
       "      <td>0.660319</td>\n",
       "      <td>-0.431792</td>\n",
       "    </tr>\n",
       "    <tr>\n",
       "      <th>1</th>\n",
       "      <td>-0.069982</td>\n",
       "      <td>0.308090</td>\n",
       "      <td>0.659886</td>\n",
       "    </tr>\n",
       "    <tr>\n",
       "      <th>2</th>\n",
       "      <td>-1.315193</td>\n",
       "      <td>1.385178</td>\n",
       "      <td>0.515006</td>\n",
       "    </tr>\n",
       "    <tr>\n",
       "      <th>3</th>\n",
       "      <td>0.533424</td>\n",
       "      <td>-0.537994</td>\n",
       "      <td>-0.891257</td>\n",
       "    </tr>\n",
       "    <tr>\n",
       "      <th>4</th>\n",
       "      <td>-0.695879</td>\n",
       "      <td>-0.544731</td>\n",
       "      <td>0.093379</td>\n",
       "    </tr>\n",
       "    <tr>\n",
       "      <th>5</th>\n",
       "      <td>-2.556850</td>\n",
       "      <td>-1.340070</td>\n",
       "      <td>-0.011012</td>\n",
       "    </tr>\n",
       "  </tbody>\n",
       "</table>\n",
       "</div>"
      ],
      "text/plain": [
       "       col1      col2      col3\n",
       "0 -0.574196  0.660319 -0.431792\n",
       "1 -0.069982  0.308090  0.659886\n",
       "2 -1.315193  1.385178  0.515006\n",
       "3  0.533424 -0.537994 -0.891257\n",
       "4 -0.695879 -0.544731  0.093379\n",
       "5 -2.556850 -1.340070 -0.011012"
      ]
     },
     "execution_count": 5,
     "metadata": {},
     "output_type": "execute_result"
    }
   ],
   "source": [
    "# given the following three Series, create a DataFrame such that it holds them as its columns\n",
    "ser_1 = pd.Series(np.random.randn(6))\n",
    "ser_2 = pd.Series(np.random.randn(6))\n",
    "ser_3 = pd.Series(np.random.randn(6))\n",
    "pd.DataFrame({'col1':ser_1, 'col2':ser_2, 'col3':ser_3})"
   ]
  },
  {
   "cell_type": "markdown",
   "metadata": {},
   "source": [
    "# Pandas questions: Indexing"
   ]
  },
  {
   "cell_type": "markdown",
   "metadata": {},
   "source": [
    "## 1. Indexing into a specific column"
   ]
  },
  {
   "cell_type": "code",
   "execution_count": 6,
   "metadata": {
    "collapsed": false
   },
   "outputs": [
    {
     "data": {
      "text/html": [
       "<div>\n",
       "<style>\n",
       "    .dataframe thead tr:only-child th {\n",
       "        text-align: right;\n",
       "    }\n",
       "\n",
       "    .dataframe thead th {\n",
       "        text-align: left;\n",
       "    }\n",
       "\n",
       "    .dataframe tbody tr th {\n",
       "        vertical-align: top;\n",
       "    }\n",
       "</style>\n",
       "<table border=\"1\" class=\"dataframe\">\n",
       "  <thead>\n",
       "    <tr style=\"text-align: right;\">\n",
       "      <th></th>\n",
       "      <th>col_1</th>\n",
       "      <th>col_2</th>\n",
       "      <th>col_3</th>\n",
       "    </tr>\n",
       "  </thead>\n",
       "  <tbody>\n",
       "    <tr>\n",
       "      <th>obs1</th>\n",
       "      <td>0.12</td>\n",
       "      <td>0.9</td>\n",
       "      <td>NaN</td>\n",
       "    </tr>\n",
       "    <tr>\n",
       "      <th>obs2</th>\n",
       "      <td>7.00</td>\n",
       "      <td>9.0</td>\n",
       "      <td>NaN</td>\n",
       "    </tr>\n",
       "    <tr>\n",
       "      <th>obs3</th>\n",
       "      <td>45.00</td>\n",
       "      <td>34.0</td>\n",
       "      <td>NaN</td>\n",
       "    </tr>\n",
       "    <tr>\n",
       "      <th>obs4</th>\n",
       "      <td>10.00</td>\n",
       "      <td>11.0</td>\n",
       "      <td>NaN</td>\n",
       "    </tr>\n",
       "  </tbody>\n",
       "</table>\n",
       "</div>"
      ],
      "text/plain": [
       "      col_1  col_2 col_3\n",
       "obs1   0.12    0.9   NaN\n",
       "obs2   7.00    9.0   NaN\n",
       "obs3  45.00   34.0   NaN\n",
       "obs4  10.00   11.0   NaN"
      ]
     },
     "execution_count": 6,
     "metadata": {},
     "output_type": "execute_result"
    }
   ],
   "source": [
    "# given the following DataFrame, try to index into the 'col_2' column\n",
    "df = pd.DataFrame(data={'col_1': [0.12, 7, 45, 10], 'col_2': [0.9, 9, 34, 11]},\n",
    "                  columns=['col_1', 'col_2', 'col_3'],\n",
    "                  index=['obs1', 'obs2', 'obs3', 'obs4'])\n",
    "df"
   ]
  },
  {
   "cell_type": "markdown",
   "metadata": {},
   "source": [
    "## 2. Label-based indexing"
   ]
  },
  {
   "cell_type": "code",
   "execution_count": 9,
   "metadata": {
    "collapsed": false
   },
   "outputs": [
    {
     "data": {
      "text/plain": [
       "col_1     45\n",
       "col_2     34\n",
       "col_3    NaN\n",
       "Name: obs3, dtype: object"
      ]
     },
     "execution_count": 9,
     "metadata": {},
     "output_type": "execute_result"
    }
   ],
   "source": [
    "# using the same DataFrame, index into the row whose index is 'obs3'\n",
    "df.loc['obs3']"
   ]
  },
  {
   "cell_type": "markdown",
   "metadata": {},
   "source": [
    "## 2. Position-based indexing"
   ]
  },
  {
   "cell_type": "code",
   "execution_count": 12,
   "metadata": {
    "collapsed": false
   },
   "outputs": [
    {
     "data": {
      "text/plain": [
       "0.12"
      ]
     },
     "execution_count": 12,
     "metadata": {},
     "output_type": "execute_result"
    }
   ],
   "source": [
    "# using the same DataFrame, index into into its first row\n",
    "df.iloc[0,0]"
   ]
  },
  {
   "cell_type": "markdown",
   "metadata": {},
   "source": [
    "# Mini-Challenge prep: data loading\n",
    "\n",
    "## 1. How to load the `users` and `movies` portions of MovieLens"
   ]
  },
  {
   "cell_type": "code",
   "execution_count": 13,
   "metadata": {
    "collapsed": false
   },
   "outputs": [
    {
     "name": "stderr",
     "output_type": "stream",
     "text": [
      "C:\\Users\\Alfredo\\Anaconda3\\lib\\site-packages\\ipykernel\\__main__.py:5: ParserWarning: Falling back to the 'python' engine because the 'c' engine does not support regex separators (separators > 1 char and different from '\\s+' are interpreted as regex); you can avoid this warning by specifying engine='python'.\n",
      "C:\\Users\\Alfredo\\Anaconda3\\lib\\site-packages\\ipykernel\\__main__.py:9: ParserWarning: Falling back to the 'python' engine because the 'c' engine does not support regex separators (separators > 1 char and different from '\\s+' are interpreted as regex); you can avoid this warning by specifying engine='python'.\n"
     ]
    }
   ],
   "source": [
    "import pandas as pd\n",
    "\n",
    "users = pd.read_table('data/ml-1m/users.dat',\n",
    "                      sep='::', header=None,\n",
    "                      names=['user_id', 'gender', 'age', 'occupation', 'zip'])\n",
    "\n",
    "movies = pd.read_table('data/ml-1m/movies.dat',\n",
    "                       sep='::', header=None,\n",
    "                       names=['movie_id', 'title', 'genres'])"
   ]
  },
  {
   "cell_type": "markdown",
   "metadata": {},
   "source": [
    "## 2. How to load the training and testing subsets"
   ]
  },
  {
   "cell_type": "code",
   "execution_count": 18,
   "metadata": {
    "collapsed": false
   },
   "outputs": [],
   "source": [
    "# subset version (hosted notebook)\n",
    "movielens_train = pd.read_csv('data/movielens_train.csv', index_col=0, encoding='latin1')\n",
    "movielens_test = pd.read_csv('data/movielens_test.csv', index_col=0, encoding='latin1')"
   ]
  },
  {
   "cell_type": "code",
   "execution_count": 20,
   "metadata": {
    "collapsed": false
   },
   "outputs": [
    {
     "data": {
      "text/html": [
       "<div>\n",
       "<style>\n",
       "    .dataframe thead tr:only-child th {\n",
       "        text-align: right;\n",
       "    }\n",
       "\n",
       "    .dataframe thead th {\n",
       "        text-align: left;\n",
       "    }\n",
       "\n",
       "    .dataframe tbody tr th {\n",
       "        vertical-align: top;\n",
       "    }\n",
       "</style>\n",
       "<table border=\"1\" class=\"dataframe\">\n",
       "  <thead>\n",
       "    <tr style=\"text-align: right;\">\n",
       "      <th></th>\n",
       "      <th>user_id</th>\n",
       "      <th>movie_id</th>\n",
       "      <th>rating</th>\n",
       "      <th>timestamp</th>\n",
       "      <th>gender</th>\n",
       "      <th>age</th>\n",
       "      <th>occupation</th>\n",
       "      <th>zip</th>\n",
       "      <th>title</th>\n",
       "      <th>genres</th>\n",
       "      <th>for_testing</th>\n",
       "    </tr>\n",
       "  </thead>\n",
       "  <tbody>\n",
       "    <tr>\n",
       "      <th>593263</th>\n",
       "      <td>3562</td>\n",
       "      <td>3798</td>\n",
       "      <td>4</td>\n",
       "      <td>967332344</td>\n",
       "      <td>F</td>\n",
       "      <td>25</td>\n",
       "      <td>6</td>\n",
       "      <td>32812</td>\n",
       "      <td>What Lies Beneath (2000)</td>\n",
       "      <td>Thriller</td>\n",
       "      <td>False</td>\n",
       "    </tr>\n",
       "    <tr>\n",
       "      <th>235597</th>\n",
       "      <td>1051</td>\n",
       "      <td>3793</td>\n",
       "      <td>4</td>\n",
       "      <td>974958593</td>\n",
       "      <td>F</td>\n",
       "      <td>25</td>\n",
       "      <td>0</td>\n",
       "      <td>60513</td>\n",
       "      <td>X-Men (2000)</td>\n",
       "      <td>Action|Sci-Fi</td>\n",
       "      <td>False</td>\n",
       "    </tr>\n",
       "    <tr>\n",
       "      <th>219003</th>\n",
       "      <td>3727</td>\n",
       "      <td>2366</td>\n",
       "      <td>3</td>\n",
       "      <td>966309522</td>\n",
       "      <td>M</td>\n",
       "      <td>35</td>\n",
       "      <td>7</td>\n",
       "      <td>74401</td>\n",
       "      <td>King Kong (1933)</td>\n",
       "      <td>Action|Adventure|Horror</td>\n",
       "      <td>False</td>\n",
       "    </tr>\n",
       "    <tr>\n",
       "      <th>685090</th>\n",
       "      <td>4666</td>\n",
       "      <td>1094</td>\n",
       "      <td>3</td>\n",
       "      <td>963843918</td>\n",
       "      <td>M</td>\n",
       "      <td>35</td>\n",
       "      <td>1</td>\n",
       "      <td>53704</td>\n",
       "      <td>Crying Game, The (1992)</td>\n",
       "      <td>Drama|Romance|War</td>\n",
       "      <td>False</td>\n",
       "    </tr>\n",
       "    <tr>\n",
       "      <th>312377</th>\n",
       "      <td>3261</td>\n",
       "      <td>1095</td>\n",
       "      <td>4</td>\n",
       "      <td>968251750</td>\n",
       "      <td>M</td>\n",
       "      <td>45</td>\n",
       "      <td>20</td>\n",
       "      <td>87505</td>\n",
       "      <td>Glengarry Glen Ross (1992)</td>\n",
       "      <td>Drama</td>\n",
       "      <td>False</td>\n",
       "    </tr>\n",
       "  </tbody>\n",
       "</table>\n",
       "</div>"
      ],
      "text/plain": [
       "        user_id  movie_id  rating  timestamp gender  age  occupation    zip  \\\n",
       "593263     3562      3798       4  967332344      F   25           6  32812   \n",
       "235597     1051      3793       4  974958593      F   25           0  60513   \n",
       "219003     3727      2366       3  966309522      M   35           7  74401   \n",
       "685090     4666      1094       3  963843918      M   35           1  53704   \n",
       "312377     3261      1095       4  968251750      M   45          20  87505   \n",
       "\n",
       "                             title                   genres  for_testing  \n",
       "593263    What Lies Beneath (2000)                 Thriller        False  \n",
       "235597                X-Men (2000)            Action|Sci-Fi        False  \n",
       "219003            King Kong (1933)  Action|Adventure|Horror        False  \n",
       "685090     Crying Game, The (1992)        Drama|Romance|War        False  \n",
       "312377  Glengarry Glen Ross (1992)                    Drama        False  "
      ]
     },
     "execution_count": 20,
     "metadata": {},
     "output_type": "execute_result"
    }
   ],
   "source": [
    "movielens_train.head()"
   ]
  },
  {
   "cell_type": "code",
   "execution_count": 21,
   "metadata": {
    "collapsed": false
   },
   "outputs": [
    {
     "data": {
      "text/html": [
       "<div>\n",
       "<style>\n",
       "    .dataframe thead tr:only-child th {\n",
       "        text-align: right;\n",
       "    }\n",
       "\n",
       "    .dataframe thead th {\n",
       "        text-align: left;\n",
       "    }\n",
       "\n",
       "    .dataframe tbody tr th {\n",
       "        vertical-align: top;\n",
       "    }\n",
       "</style>\n",
       "<table border=\"1\" class=\"dataframe\">\n",
       "  <thead>\n",
       "    <tr style=\"text-align: right;\">\n",
       "      <th></th>\n",
       "      <th>user_id</th>\n",
       "      <th>movie_id</th>\n",
       "      <th>rating</th>\n",
       "      <th>timestamp</th>\n",
       "      <th>gender</th>\n",
       "      <th>age</th>\n",
       "      <th>occupation</th>\n",
       "      <th>zip</th>\n",
       "      <th>title</th>\n",
       "      <th>genres</th>\n",
       "      <th>for_testing</th>\n",
       "    </tr>\n",
       "  </thead>\n",
       "  <tbody>\n",
       "    <tr>\n",
       "      <th>693323</th>\n",
       "      <td>4653</td>\n",
       "      <td>2648</td>\n",
       "      <td>4</td>\n",
       "      <td>975532459</td>\n",
       "      <td>M</td>\n",
       "      <td>35</td>\n",
       "      <td>12</td>\n",
       "      <td>95051</td>\n",
       "      <td>Frankenstein (1931)</td>\n",
       "      <td>Horror</td>\n",
       "      <td>False</td>\n",
       "    </tr>\n",
       "    <tr>\n",
       "      <th>24177</th>\n",
       "      <td>2259</td>\n",
       "      <td>1270</td>\n",
       "      <td>4</td>\n",
       "      <td>974591524</td>\n",
       "      <td>F</td>\n",
       "      <td>56</td>\n",
       "      <td>16</td>\n",
       "      <td>70503</td>\n",
       "      <td>Back to the Future (1985)</td>\n",
       "      <td>Comedy|Sci-Fi</td>\n",
       "      <td>False</td>\n",
       "    </tr>\n",
       "    <tr>\n",
       "      <th>202202</th>\n",
       "      <td>3032</td>\n",
       "      <td>1378</td>\n",
       "      <td>5</td>\n",
       "      <td>970343147</td>\n",
       "      <td>M</td>\n",
       "      <td>25</td>\n",
       "      <td>0</td>\n",
       "      <td>47303</td>\n",
       "      <td>Young Guns (1988)</td>\n",
       "      <td>Action|Comedy|Western</td>\n",
       "      <td>False</td>\n",
       "    </tr>\n",
       "    <tr>\n",
       "      <th>262003</th>\n",
       "      <td>3029</td>\n",
       "      <td>2289</td>\n",
       "      <td>4</td>\n",
       "      <td>972846393</td>\n",
       "      <td>M</td>\n",
       "      <td>18</td>\n",
       "      <td>4</td>\n",
       "      <td>92037</td>\n",
       "      <td>Player, The (1992)</td>\n",
       "      <td>Comedy|Drama</td>\n",
       "      <td>False</td>\n",
       "    </tr>\n",
       "    <tr>\n",
       "      <th>777848</th>\n",
       "      <td>4186</td>\n",
       "      <td>2403</td>\n",
       "      <td>3</td>\n",
       "      <td>1017931262</td>\n",
       "      <td>M</td>\n",
       "      <td>25</td>\n",
       "      <td>7</td>\n",
       "      <td>33308</td>\n",
       "      <td>First Blood (1982)</td>\n",
       "      <td>Action</td>\n",
       "      <td>False</td>\n",
       "    </tr>\n",
       "  </tbody>\n",
       "</table>\n",
       "</div>"
      ],
      "text/plain": [
       "        user_id  movie_id  rating   timestamp gender  age  occupation    zip  \\\n",
       "693323     4653      2648       4   975532459      M   35          12  95051   \n",
       "24177      2259      1270       4   974591524      F   56          16  70503   \n",
       "202202     3032      1378       5   970343147      M   25           0  47303   \n",
       "262003     3029      2289       4   972846393      M   18           4  92037   \n",
       "777848     4186      2403       3  1017931262      M   25           7  33308   \n",
       "\n",
       "                            title                 genres  for_testing  \n",
       "693323        Frankenstein (1931)                 Horror        False  \n",
       "24177   Back to the Future (1985)          Comedy|Sci-Fi        False  \n",
       "202202          Young Guns (1988)  Action|Comedy|Western        False  \n",
       "262003         Player, The (1992)           Comedy|Drama        False  \n",
       "777848         First Blood (1982)                 Action        False  "
      ]
     },
     "execution_count": 21,
     "metadata": {},
     "output_type": "execute_result"
    }
   ],
   "source": [
    "movielens_test.head()"
   ]
  },
  {
   "cell_type": "markdown",
   "metadata": {},
   "source": [
    "# Mini-Challenge prep: evaluation functions\n",
    "\n",
    "These are the two functions that you will need to test your `estimate` method."
   ]
  },
  {
   "cell_type": "code",
   "execution_count": 22,
   "metadata": {
    "collapsed": false
   },
   "outputs": [],
   "source": [
    "def compute_rmse(y_pred, y_true):\n",
    "    \"\"\" Compute Root Mean Squared Error. \"\"\"\n",
    "    \n",
    "    return np.sqrt(np.mean(np.power(y_pred - y_true, 2)))"
   ]
  },
  {
   "cell_type": "code",
   "execution_count": 23,
   "metadata": {
    "collapsed": false
   },
   "outputs": [],
   "source": [
    "def evaluate(estimate_f):\n",
    "    \"\"\" RMSE-based predictive performance evaluation with pandas. \"\"\"\n",
    "    \n",
    "    ids_to_estimate = zip(movielens_test.user_id, movielens_test.movie_id)\n",
    "    estimated = np.array([estimate_f(u,i) for (u,i) in ids_to_estimate])\n",
    "    real = movielens_test.rating.values\n",
    "    return compute_rmse(estimated, real)"
   ]
  },
  {
   "cell_type": "markdown",
   "metadata": {},
   "source": [
    "Test a dummy solution!"
   ]
  },
  {
   "cell_type": "code",
   "execution_count": 24,
   "metadata": {
    "collapsed": false
   },
   "outputs": [],
   "source": [
    "def my_estimate_func(user_id, movie_id):\n",
    "    return 3.0"
   ]
  },
  {
   "cell_type": "markdown",
   "metadata": {},
   "source": [
    "You can test for performance with the following line, which assumes that your function is called `my_estimate_func`:"
   ]
  },
  {
   "cell_type": "code",
   "execution_count": 26,
   "metadata": {
    "collapsed": false
   },
   "outputs": [
    {
     "name": "stdout",
     "output_type": "stream",
     "text": [
      "RMSE for my estimate function: 1.23237195265\n"
     ]
    }
   ],
   "source": [
    "print ('RMSE for my estimate function: %s' % evaluate(my_estimate_func))"
   ]
  },
  {
   "cell_type": "markdown",
   "metadata": {},
   "source": [
    "# Reco systems questions: Minimal reco engine v1.0"
   ]
  },
  {
   "cell_type": "markdown",
   "metadata": {},
   "source": [
    "## 1. Simple collaborative filtering using mean ratings"
   ]
  },
  {
   "cell_type": "code",
   "execution_count": 34,
   "metadata": {
    "collapsed": false
   },
   "outputs": [
    {
     "data": {
      "text/plain": [
       "4.0"
      ]
     },
     "execution_count": 34,
     "metadata": {},
     "output_type": "execute_result"
    }
   ],
   "source": [
    "# write an 'estimate' function that computes the mean rating of a particular user\n",
    "def collab_mean(user_id, movie_id):\n",
    "    # first, index into all ratings of this movie\n",
    "    i_cond = movielens_train.movie_id == movie_id\n",
    "    \n",
    "    # second, compute the mean of those ratings\n",
    "    return movielens_train.loc[i_cond, 'rating'].mean()\n",
    "\n",
    "    \n",
    "# try it out for a user_id, movie_id pair\n",
    "collab_mean(4653, 2648)"
   ]
  },
  {
   "cell_type": "markdown",
   "metadata": {},
   "source": [
    "# Mini-Challenge: first round\n",
    "Implement an `estimate` function of your own using other similarity notions, eg.:\n",
    "\n",
    "- collaborative filter based on age similarities\n",
    "- collaborative filter based on zip code similarities\n",
    "- collaborative filter based on occupation similarities\n",
    "- content filter based on movie genre"
   ]
  },
  {
   "cell_type": "code",
   "execution_count": 35,
   "metadata": {
    "collapsed": false
   },
   "outputs": [
    {
     "data": {
      "text/html": [
       "<div>\n",
       "<style>\n",
       "    .dataframe thead tr:only-child th {\n",
       "        text-align: right;\n",
       "    }\n",
       "\n",
       "    .dataframe thead th {\n",
       "        text-align: left;\n",
       "    }\n",
       "\n",
       "    .dataframe tbody tr th {\n",
       "        vertical-align: top;\n",
       "    }\n",
       "</style>\n",
       "<table border=\"1\" class=\"dataframe\">\n",
       "  <thead>\n",
       "    <tr style=\"text-align: right;\">\n",
       "      <th></th>\n",
       "      <th>user_id</th>\n",
       "      <th>movie_id</th>\n",
       "      <th>rating</th>\n",
       "      <th>timestamp</th>\n",
       "      <th>gender</th>\n",
       "      <th>age</th>\n",
       "      <th>occupation</th>\n",
       "      <th>zip</th>\n",
       "      <th>title</th>\n",
       "      <th>genres</th>\n",
       "      <th>for_testing</th>\n",
       "    </tr>\n",
       "  </thead>\n",
       "  <tbody>\n",
       "    <tr>\n",
       "      <th>693112</th>\n",
       "      <td>1717</td>\n",
       "      <td>2648</td>\n",
       "      <td>5</td>\n",
       "      <td>974706281</td>\n",
       "      <td>F</td>\n",
       "      <td>50</td>\n",
       "      <td>6</td>\n",
       "      <td>30307</td>\n",
       "      <td>Frankenstein (1931)</td>\n",
       "      <td>Horror</td>\n",
       "      <td>False</td>\n",
       "    </tr>\n",
       "    <tr>\n",
       "      <th>693286</th>\n",
       "      <td>4260</td>\n",
       "      <td>2648</td>\n",
       "      <td>3</td>\n",
       "      <td>965322649</td>\n",
       "      <td>M</td>\n",
       "      <td>25</td>\n",
       "      <td>16</td>\n",
       "      <td>59079</td>\n",
       "      <td>Frankenstein (1931)</td>\n",
       "      <td>Horror</td>\n",
       "      <td>False</td>\n",
       "    </tr>\n",
       "  </tbody>\n",
       "</table>\n",
       "</div>"
      ],
      "text/plain": [
       "        user_id  movie_id  rating  timestamp gender  age  occupation    zip  \\\n",
       "693112     1717      2648       5  974706281      F   50           6  30307   \n",
       "693286     4260      2648       3  965322649      M   25          16  59079   \n",
       "\n",
       "                      title  genres  for_testing  \n",
       "693112  Frankenstein (1931)  Horror        False  \n",
       "693286  Frankenstein (1931)  Horror        False  "
      ]
     },
     "execution_count": 35,
     "metadata": {},
     "output_type": "execute_result"
    }
   ],
   "source": [
    "movielens_train[movielens_train.movie_id==2648]"
   ]
  },
  {
   "cell_type": "markdown",
   "metadata": {},
   "source": [
    "### Age"
   ]
  },
  {
   "cell_type": "code",
   "execution_count": 48,
   "metadata": {
    "collapsed": false
   },
   "outputs": [
    {
     "data": {
      "text/plain": [
       "3.704156479217604"
      ]
     },
     "execution_count": 48,
     "metadata": {},
     "output_type": "execute_result"
    }
   ],
   "source": [
    "def filt_age(age, movie_id):\n",
    "    \n",
    "    item_condition=movielens_train.age==age\n",
    "    item_condtion=movielens_train.loc[item_condition, 'movie_id']==movie_id\n",
    "    return movielens_train.loc[item_condition, 'rating'].mean()\n",
    "    \n",
    "\n",
    "filt_age(50, 3348)"
   ]
  },
  {
   "cell_type": "markdown",
   "metadata": {},
   "source": [
    "### Occupation"
   ]
  },
  {
   "cell_type": "code",
   "execution_count": 44,
   "metadata": {
    "collapsed": false
   },
   "outputs": [
    {
     "data": {
      "text/plain": [
       "3.373015873015873"
      ]
     },
     "execution_count": 44,
     "metadata": {},
     "output_type": "execute_result"
    }
   ],
   "source": [
    "def filt_occupation(occupation, movie_id):\n",
    "    \n",
    "    item_condition=movielens_train.occupation==occupation\n",
    "    item_condtion=movielens_train.loc[item_condition, 'movie_id']==movie_id\n",
    "    return movielens_train.loc[item_condition, 'rating'].mean()\n",
    "\n",
    "\n",
    "filt_occupation(10, 2148)"
   ]
  },
  {
   "cell_type": "markdown",
   "metadata": {},
   "source": [
    "### Genre"
   ]
  },
  {
   "cell_type": "code",
   "execution_count": 49,
   "metadata": {
    "collapsed": false
   },
   "outputs": [
    {
     "data": {
      "text/plain": [
       "3.7360912981455066"
      ]
     },
     "execution_count": 49,
     "metadata": {},
     "output_type": "execute_result"
    }
   ],
   "source": [
    "def filt_genre(genre, movie_id):\n",
    "    \n",
    "    item_condition=movielens_train.genres==genre\n",
    "    item_condtion=movielens_train.loc[item_condition, 'movie_id']==movie_id\n",
    "    return movielens_train.loc[item_condition, 'rating'].mean()\n",
    "\n",
    "\n",
    "filt_genre('Drama', 2648)"
   ]
  },
  {
   "cell_type": "markdown",
   "metadata": {},
   "source": [
    "# Mini-Challenge: second round\n",
    "Implement an `estimate` function of your own using other custom similarity notions, eg.:\n",
    "\n",
    "- euclidean\n",
    "- cosine"
   ]
  },
  {
   "cell_type": "code",
   "execution_count": 65,
   "metadata": {
    "collapsed": false
   },
   "outputs": [
    {
     "data": {
      "text/plain": [
       "593263    3798\n",
       "235597    3793\n",
       "219003    2366\n",
       "685090    1094\n",
       "312377    1095\n",
       "916102    3317\n",
       "757805    3707\n",
       "216517    1036\n",
       "28065      527\n",
       "284940    2959\n",
       "677643     466\n",
       "241780     296\n",
       "487663    3704\n",
       "647317    2533\n",
       "8747      1287\n",
       "8203      1197\n",
       "926550    2448\n",
       "637336     293\n",
       "900406    2793\n",
       "612863    1645\n",
       "662005    2085\n",
       "773298    2313\n",
       "707370    3000\n",
       "994951    3368\n",
       "30581     1097\n",
       "538648    2021\n",
       "799606     846\n",
       "821550    1946\n",
       "309693      24\n",
       "388758    1673\n",
       "          ... \n",
       "548487    2108\n",
       "56665     3114\n",
       "880205    1011\n",
       "491480    1025\n",
       "248580       6\n",
       "278225    3176\n",
       "152149    1124\n",
       "737848    3104\n",
       "716473    2671\n",
       "162703     920\n",
       "928420    2092\n",
       "107273    2858\n",
       "349073    1997\n",
       "139488      95\n",
       "256262    3083\n",
       "888129    1280\n",
       "950896    3921\n",
       "668851    2253\n",
       "739828      11\n",
       "393014     223\n",
       "500935    3087\n",
       "397583    1777\n",
       "424247    1252\n",
       "942640    3901\n",
       "249648    3006\n",
       "418478    1307\n",
       "730445    1249\n",
       "502516    3591\n",
       "888991     766\n",
       "466639    2096\n",
       "Name: movie_id, Length: 5838, dtype: int64"
      ]
     },
     "execution_count": 65,
     "metadata": {},
     "output_type": "execute_result"
    }
   ],
   "source": [
    "s1 = movielens_train.iloc[:,0]\n",
    "s2 = movielens_train.iloc[:,1]"
   ]
  },
  {
   "cell_type": "code",
   "execution_count": 66,
   "metadata": {
    "collapsed": false
   },
   "outputs": [
    {
     "data": {
      "text/plain": [
       "5.5996532506751466e-06"
      ]
     },
     "execution_count": 66,
     "metadata": {},
     "output_type": "execute_result"
    }
   ],
   "source": [
    "def euclidean(s1, s2):\n",
    "    \"\"\"Take two pd.Series objects and return their euclidean 'similarity'.\"\"\"\n",
    "    diff = s1 - s2\n",
    "    return 1 / (1 + np.sqrt(np.sum(diff ** 2)))\n",
    "\n",
    "euclidean(s1,s2)"
   ]
  }
 ],
 "metadata": {
  "kernelspec": {
   "display_name": "Python 3",
   "language": "python",
   "name": "python3"
  },
  "language_info": {
   "codemirror_mode": {
    "name": "ipython",
    "version": 3
   },
   "file_extension": ".py",
   "mimetype": "text/x-python",
   "name": "python",
   "nbconvert_exporter": "python",
   "pygments_lexer": "ipython3",
   "version": "3.6.0"
  }
 },
 "nbformat": 4,
 "nbformat_minor": 0
}
