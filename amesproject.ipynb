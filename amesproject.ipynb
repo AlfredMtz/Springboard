{
 "cells": [
  {
   "cell_type": "code",
<<<<<<< HEAD
   "execution_count": 13,
=======
   "execution_count": 2,
>>>>>>> 9422094f036dcb57070123bd645ae3bca17569bb
   "metadata": {
    "collapsed": true
   },
   "outputs": [],
   "source": [
    "%matplotlib inline\n",
    "import pandas as pd"
   ]
  },
  {
   "cell_type": "code",
<<<<<<< HEAD
   "execution_count": 14,
=======
   "execution_count": 7,
>>>>>>> 9422094f036dcb57070123bd645ae3bca17569bb
   "metadata": {
    "collapsed": false
   },
   "outputs": [
    {
     "data": {
      "text/html": [
       "<style>body {\n",
       "    margin: 0;\n",
       "    font-family: Helvetica;\n",
       "}\n",
       "table.dataframe {\n",
       "    border-collapse: collapse;\n",
       "    border: none;\n",
       "}\n",
       "table.dataframe tr {\n",
       "    border: none;\n",
       "}\n",
       "table.dataframe td, table.dataframe th {\n",
       "    margin: 0;\n",
       "    border: 1px solid white;\n",
       "    padding-left: 0.25em;\n",
       "    padding-right: 0.25em;\n",
       "}\n",
       "table.dataframe th:not(:empty) {\n",
       "    background-color: #fec;\n",
       "    text-align: left;\n",
       "    font-weight: normal;\n",
       "}\n",
       "table.dataframe tr:nth-child(2) th:empty {\n",
       "    border-left: none;\n",
       "    border-right: 1px dashed #888;\n",
       "}\n",
       "table.dataframe td {\n",
       "    border: 2px solid #ccf;\n",
       "    background-color: #f4f4ff;\n",
       "}\n",
       "h3 {\n",
       "    color: white;\n",
       "    background-color: black;\n",
       "    padding: 0.5em;\n",
       "}\n",
       "</style>"
      ],
      "text/plain": [
       "<IPython.core.display.HTML object>"
      ]
     },
<<<<<<< HEAD
     "execution_count": 14,
=======
     "execution_count": 7,
>>>>>>> 9422094f036dcb57070123bd645ae3bca17569bb
     "metadata": {},
     "output_type": "execute_result"
    }
   ],
   "source": [
    "from IPython.core.display import HTML\n",
    "css = open('style-table.css').read() + open('style-notebook.css').read()\n",
    "HTML('<style>{}</style>'.format(css))"
   ]
  },
  {
   "cell_type": "code",
<<<<<<< HEAD
   "execution_count": 15,
=======
   "execution_count": 11,
>>>>>>> 9422094f036dcb57070123bd645ae3bca17569bb
   "metadata": {
    "collapsed": false
   },
   "outputs": [
    {
     "data": {
      "text/html": [
       "<div>\n",
       "<style>\n",
       "    .dataframe thead tr:only-child th {\n",
       "        text-align: right;\n",
       "    }\n",
       "\n",
       "    .dataframe thead th {\n",
       "        text-align: left;\n",
       "    }\n",
       "\n",
       "    .dataframe tbody tr th {\n",
       "        vertical-align: top;\n",
       "    }\n",
       "</style>\n",
       "<table border=\"1\" class=\"dataframe\">\n",
       "  <thead>\n",
       "    <tr style=\"text-align: right;\">\n",
       "      <th></th>\n",
       "      <th>Id</th>\n",
       "      <th>MSSubClass</th>\n",
       "      <th>MSZoning</th>\n",
       "      <th>LotFrontage</th>\n",
       "      <th>LotArea</th>\n",
       "      <th>Street</th>\n",
       "      <th>Alley</th>\n",
       "      <th>LotShape</th>\n",
       "      <th>LandContour</th>\n",
       "      <th>Utilities</th>\n",
       "      <th>...</th>\n",
<<<<<<< HEAD
       "      <th>ScreenPorch</th>\n",
=======
>>>>>>> 9422094f036dcb57070123bd645ae3bca17569bb
       "      <th>PoolArea</th>\n",
       "      <th>PoolQC</th>\n",
       "      <th>Fence</th>\n",
       "      <th>MiscFeature</th>\n",
       "      <th>MiscVal</th>\n",
       "      <th>MoSold</th>\n",
       "      <th>YrSold</th>\n",
       "      <th>SaleType</th>\n",
       "      <th>SaleCondition</th>\n",
<<<<<<< HEAD
=======
       "      <th>SalePrice</th>\n",
>>>>>>> 9422094f036dcb57070123bd645ae3bca17569bb
       "    </tr>\n",
       "  </thead>\n",
       "  <tbody>\n",
       "    <tr>\n",
<<<<<<< HEAD
       "      <th>1454</th>\n",
       "      <td>2915</td>\n",
       "      <td>160</td>\n",
       "      <td>RM</td>\n",
       "      <td>21.0</td>\n",
       "      <td>1936</td>\n",
=======
       "      <th>0</th>\n",
       "      <td>1461</td>\n",
       "      <td>20</td>\n",
       "      <td>RH</td>\n",
       "      <td>80.0</td>\n",
       "      <td>11622</td>\n",
>>>>>>> 9422094f036dcb57070123bd645ae3bca17569bb
       "      <td>Pave</td>\n",
       "      <td>NaN</td>\n",
       "      <td>Reg</td>\n",
       "      <td>Lvl</td>\n",
       "      <td>AllPub</td>\n",
       "      <td>...</td>\n",
       "      <td>0</td>\n",
<<<<<<< HEAD
       "      <td>0</td>\n",
       "      <td>NaN</td>\n",
       "      <td>NaN</td>\n",
       "      <td>NaN</td>\n",
       "      <td>0</td>\n",
       "      <td>6</td>\n",
       "      <td>2006</td>\n",
       "      <td>WD</td>\n",
       "      <td>Normal</td>\n",
       "    </tr>\n",
       "    <tr>\n",
       "      <th>1455</th>\n",
       "      <td>2916</td>\n",
       "      <td>160</td>\n",
       "      <td>RM</td>\n",
       "      <td>21.0</td>\n",
       "      <td>1894</td>\n",
       "      <td>Pave</td>\n",
       "      <td>NaN</td>\n",
       "      <td>Reg</td>\n",
=======
       "      <td>NaN</td>\n",
       "      <td>MnPrv</td>\n",
       "      <td>NaN</td>\n",
       "      <td>0</td>\n",
       "      <td>6</td>\n",
       "      <td>2010</td>\n",
       "      <td>WD</td>\n",
       "      <td>Normal</td>\n",
       "      <td>169277.0525</td>\n",
       "    </tr>\n",
       "    <tr>\n",
       "      <th>1</th>\n",
       "      <td>1462</td>\n",
       "      <td>20</td>\n",
       "      <td>RL</td>\n",
       "      <td>81.0</td>\n",
       "      <td>14267</td>\n",
       "      <td>Pave</td>\n",
       "      <td>NaN</td>\n",
       "      <td>IR1</td>\n",
>>>>>>> 9422094f036dcb57070123bd645ae3bca17569bb
       "      <td>Lvl</td>\n",
       "      <td>AllPub</td>\n",
       "      <td>...</td>\n",
       "      <td>0</td>\n",
<<<<<<< HEAD
       "      <td>0</td>\n",
       "      <td>NaN</td>\n",
       "      <td>NaN</td>\n",
       "      <td>NaN</td>\n",
       "      <td>0</td>\n",
       "      <td>4</td>\n",
       "      <td>2006</td>\n",
       "      <td>WD</td>\n",
       "      <td>Abnorml</td>\n",
       "    </tr>\n",
       "    <tr>\n",
       "      <th>1456</th>\n",
       "      <td>2917</td>\n",
       "      <td>20</td>\n",
       "      <td>RL</td>\n",
       "      <td>160.0</td>\n",
       "      <td>20000</td>\n",
       "      <td>Pave</td>\n",
       "      <td>NaN</td>\n",
       "      <td>Reg</td>\n",
=======
       "      <td>NaN</td>\n",
       "      <td>NaN</td>\n",
       "      <td>Gar2</td>\n",
       "      <td>12500</td>\n",
       "      <td>6</td>\n",
       "      <td>2010</td>\n",
       "      <td>WD</td>\n",
       "      <td>Normal</td>\n",
       "      <td>187758.3940</td>\n",
       "    </tr>\n",
       "    <tr>\n",
       "      <th>2</th>\n",
       "      <td>1463</td>\n",
       "      <td>60</td>\n",
       "      <td>RL</td>\n",
       "      <td>74.0</td>\n",
       "      <td>13830</td>\n",
       "      <td>Pave</td>\n",
       "      <td>NaN</td>\n",
       "      <td>IR1</td>\n",
>>>>>>> 9422094f036dcb57070123bd645ae3bca17569bb
       "      <td>Lvl</td>\n",
       "      <td>AllPub</td>\n",
       "      <td>...</td>\n",
       "      <td>0</td>\n",
<<<<<<< HEAD
       "      <td>0</td>\n",
       "      <td>NaN</td>\n",
       "      <td>NaN</td>\n",
       "      <td>NaN</td>\n",
       "      <td>0</td>\n",
       "      <td>9</td>\n",
       "      <td>2006</td>\n",
       "      <td>WD</td>\n",
       "      <td>Abnorml</td>\n",
       "    </tr>\n",
       "    <tr>\n",
       "      <th>1457</th>\n",
       "      <td>2918</td>\n",
       "      <td>85</td>\n",
       "      <td>RL</td>\n",
       "      <td>62.0</td>\n",
       "      <td>10441</td>\n",
       "      <td>Pave</td>\n",
       "      <td>NaN</td>\n",
       "      <td>Reg</td>\n",
=======
       "      <td>NaN</td>\n",
       "      <td>MnPrv</td>\n",
       "      <td>NaN</td>\n",
       "      <td>0</td>\n",
       "      <td>3</td>\n",
       "      <td>2010</td>\n",
       "      <td>WD</td>\n",
       "      <td>Normal</td>\n",
       "      <td>183583.6836</td>\n",
       "    </tr>\n",
       "    <tr>\n",
       "      <th>3</th>\n",
       "      <td>1464</td>\n",
       "      <td>60</td>\n",
       "      <td>RL</td>\n",
       "      <td>78.0</td>\n",
       "      <td>9978</td>\n",
       "      <td>Pave</td>\n",
       "      <td>NaN</td>\n",
       "      <td>IR1</td>\n",
>>>>>>> 9422094f036dcb57070123bd645ae3bca17569bb
       "      <td>Lvl</td>\n",
       "      <td>AllPub</td>\n",
       "      <td>...</td>\n",
       "      <td>0</td>\n",
<<<<<<< HEAD
       "      <td>0</td>\n",
       "      <td>NaN</td>\n",
       "      <td>MnPrv</td>\n",
       "      <td>Shed</td>\n",
       "      <td>700</td>\n",
       "      <td>7</td>\n",
       "      <td>2006</td>\n",
       "      <td>WD</td>\n",
       "      <td>Normal</td>\n",
       "    </tr>\n",
       "    <tr>\n",
       "      <th>1458</th>\n",
       "      <td>2919</td>\n",
       "      <td>60</td>\n",
       "      <td>RL</td>\n",
       "      <td>74.0</td>\n",
       "      <td>9627</td>\n",
       "      <td>Pave</td>\n",
       "      <td>NaN</td>\n",
       "      <td>Reg</td>\n",
       "      <td>Lvl</td>\n",
       "      <td>AllPub</td>\n",
       "      <td>...</td>\n",
       "      <td>0</td>\n",
       "      <td>0</td>\n",
=======
       "      <td>NaN</td>\n",
       "      <td>NaN</td>\n",
       "      <td>NaN</td>\n",
       "      <td>0</td>\n",
       "      <td>6</td>\n",
       "      <td>2010</td>\n",
       "      <td>WD</td>\n",
       "      <td>Normal</td>\n",
       "      <td>179317.4775</td>\n",
       "    </tr>\n",
       "    <tr>\n",
       "      <th>4</th>\n",
       "      <td>1465</td>\n",
       "      <td>120</td>\n",
       "      <td>RL</td>\n",
       "      <td>43.0</td>\n",
       "      <td>5005</td>\n",
       "      <td>Pave</td>\n",
       "      <td>NaN</td>\n",
       "      <td>IR1</td>\n",
       "      <td>HLS</td>\n",
       "      <td>AllPub</td>\n",
       "      <td>...</td>\n",
       "      <td>0</td>\n",
>>>>>>> 9422094f036dcb57070123bd645ae3bca17569bb
       "      <td>NaN</td>\n",
       "      <td>NaN</td>\n",
       "      <td>NaN</td>\n",
       "      <td>0</td>\n",
<<<<<<< HEAD
       "      <td>11</td>\n",
       "      <td>2006</td>\n",
       "      <td>WD</td>\n",
       "      <td>Normal</td>\n",
       "    </tr>\n",
       "  </tbody>\n",
       "</table>\n",
       "<p>5 rows × 80 columns</p>\n",
       "</div>"
      ],
      "text/plain": [
       "        Id  MSSubClass MSZoning  LotFrontage  LotArea Street Alley LotShape  \\\n",
       "1454  2915         160       RM         21.0     1936   Pave   NaN      Reg   \n",
       "1455  2916         160       RM         21.0     1894   Pave   NaN      Reg   \n",
       "1456  2917          20       RL        160.0    20000   Pave   NaN      Reg   \n",
       "1457  2918          85       RL         62.0    10441   Pave   NaN      Reg   \n",
       "1458  2919          60       RL         74.0     9627   Pave   NaN      Reg   \n",
       "\n",
       "     LandContour Utilities      ...       ScreenPorch PoolArea PoolQC  Fence  \\\n",
       "1454         Lvl    AllPub      ...                 0        0    NaN    NaN   \n",
       "1455         Lvl    AllPub      ...                 0        0    NaN    NaN   \n",
       "1456         Lvl    AllPub      ...                 0        0    NaN    NaN   \n",
       "1457         Lvl    AllPub      ...                 0        0    NaN  MnPrv   \n",
       "1458         Lvl    AllPub      ...                 0        0    NaN    NaN   \n",
       "\n",
       "     MiscFeature MiscVal MoSold  YrSold  SaleType  SaleCondition  \n",
       "1454         NaN       0      6    2006        WD         Normal  \n",
       "1455         NaN       0      4    2006        WD        Abnorml  \n",
       "1456         NaN       0      9    2006        WD        Abnorml  \n",
       "1457        Shed     700      7    2006        WD         Normal  \n",
       "1458         NaN       0     11    2006        WD         Normal  \n",
       "\n",
       "[5 rows x 80 columns]"
      ]
     },
     "execution_count": 15,
=======
       "      <td>1</td>\n",
       "      <td>2010</td>\n",
       "      <td>WD</td>\n",
       "      <td>Normal</td>\n",
       "      <td>150730.0800</td>\n",
       "    </tr>\n",
       "  </tbody>\n",
       "</table>\n",
       "<p>5 rows × 81 columns</p>\n",
       "</div>"
      ],
      "text/plain": [
       "     Id  MSSubClass MSZoning  LotFrontage  LotArea Street Alley LotShape  \\\n",
       "0  1461          20       RH         80.0    11622   Pave   NaN      Reg   \n",
       "1  1462          20       RL         81.0    14267   Pave   NaN      IR1   \n",
       "2  1463          60       RL         74.0    13830   Pave   NaN      IR1   \n",
       "3  1464          60       RL         78.0     9978   Pave   NaN      IR1   \n",
       "4  1465         120       RL         43.0     5005   Pave   NaN      IR1   \n",
       "\n",
       "  LandContour Utilities     ...      PoolArea PoolQC  Fence MiscFeature  \\\n",
       "0         Lvl    AllPub     ...             0    NaN  MnPrv         NaN   \n",
       "1         Lvl    AllPub     ...             0    NaN    NaN        Gar2   \n",
       "2         Lvl    AllPub     ...             0    NaN  MnPrv         NaN   \n",
       "3         Lvl    AllPub     ...             0    NaN    NaN         NaN   \n",
       "4         HLS    AllPub     ...             0    NaN    NaN         NaN   \n",
       "\n",
       "  MiscVal MoSold YrSold  SaleType  SaleCondition    SalePrice  \n",
       "0       0      6   2010        WD         Normal  169277.0525  \n",
       "1   12500      6   2010        WD         Normal  187758.3940  \n",
       "2       0      3   2010        WD         Normal  183583.6836  \n",
       "3       0      6   2010        WD         Normal  179317.4775  \n",
       "4       0      1   2010        WD         Normal  150730.0800  \n",
       "\n",
       "[5 rows x 81 columns]"
      ]
     },
     "execution_count": 11,
>>>>>>> 9422094f036dcb57070123bd645ae3bca17569bb
     "metadata": {},
     "output_type": "execute_result"
    }
   ],
   "source": [
<<<<<<< HEAD
    "dtitles = pd.DataFrame.from_csv('data/test.csv', index_col=None)\n",
    "dtitles.tail()"
=======
    "titles = pd.DataFrame.from_csv('data/td_housing.csv', index_col=None)\n",
    "titles.head()"
>>>>>>> 9422094f036dcb57070123bd645ae3bca17569bb
   ]
  },
  {
   "cell_type": "code",
<<<<<<< HEAD
   "execution_count": 16,
   "metadata": {
    "collapsed": false
   },
   "outputs": [
    {
     "data": {
      "text/html": [
       "<div>\n",
       "<style>\n",
       "    .dataframe thead tr:only-child th {\n",
       "        text-align: right;\n",
       "    }\n",
       "\n",
       "    .dataframe thead th {\n",
       "        text-align: left;\n",
       "    }\n",
       "\n",
       "    .dataframe tbody tr th {\n",
       "        vertical-align: top;\n",
       "    }\n",
       "</style>\n",
       "<table border=\"1\" class=\"dataframe\">\n",
       "  <thead>\n",
       "    <tr style=\"text-align: right;\">\n",
       "      <th></th>\n",
       "      <th>Id</th>\n",
       "      <th>SalePrice</th>\n",
       "    </tr>\n",
       "  </thead>\n",
       "  <tbody>\n",
       "    <tr>\n",
       "      <th>0</th>\n",
       "      <td>1461</td>\n",
       "      <td>169277.0525</td>\n",
       "    </tr>\n",
       "    <tr>\n",
       "      <th>1</th>\n",
       "      <td>1462</td>\n",
       "      <td>187758.3940</td>\n",
       "    </tr>\n",
       "    <tr>\n",
       "      <th>2</th>\n",
       "      <td>1463</td>\n",
       "      <td>183583.6836</td>\n",
       "    </tr>\n",
       "    <tr>\n",
       "      <th>3</th>\n",
       "      <td>1464</td>\n",
       "      <td>179317.4775</td>\n",
       "    </tr>\n",
       "    <tr>\n",
       "      <th>4</th>\n",
       "      <td>1465</td>\n",
       "      <td>150730.0800</td>\n",
       "    </tr>\n",
       "  </tbody>\n",
       "</table>\n",
       "</div>"
      ],
      "text/plain": [
       "     Id    SalePrice\n",
       "0  1461  169277.0525\n",
       "1  1462  187758.3940\n",
       "2  1463  183583.6836\n",
       "3  1464  179317.4775\n",
       "4  1465  150730.0800"
      ]
     },
     "execution_count": 16,
     "metadata": {},
     "output_type": "execute_result"
    }
   ],
   "source": [
    "dprices = pd.DataFrame.from_csv('data/sample_submission.csv', index_col=None)\n",
    "dprices.head()"
=======
   "execution_count": 12,
   "metadata": {
    "collapsed": true
   },
   "outputs": [],
   "source": [
    "# Number of houses sold each month for the year 2007?"
>>>>>>> 9422094f036dcb57070123bd645ae3bca17569bb
   ]
  },
  {
   "cell_type": "code",
<<<<<<< HEAD
   "execution_count": 89,
=======
   "execution_count": 40,
>>>>>>> 9422094f036dcb57070123bd645ae3bca17569bb
   "metadata": {
    "collapsed": false
   },
   "outputs": [
    {
     "data": {
      "text/html": [
       "<div>\n",
       "<style>\n",
       "    .dataframe thead tr:only-child th {\n",
       "        text-align: right;\n",
       "    }\n",
       "\n",
       "    .dataframe thead th {\n",
       "        text-align: left;\n",
       "    }\n",
       "\n",
       "    .dataframe tbody tr th {\n",
       "        vertical-align: top;\n",
       "    }\n",
       "</style>\n",
       "<table border=\"1\" class=\"dataframe\">\n",
       "  <thead>\n",
       "    <tr style=\"text-align: right;\">\n",
       "      <th></th>\n",
       "      <th>Id</th>\n",
       "      <th>MSSubClass</th>\n",
       "      <th>MSZoning</th>\n",
       "      <th>LotFrontage</th>\n",
       "      <th>LotArea</th>\n",
       "      <th>Street</th>\n",
       "      <th>Alley</th>\n",
       "      <th>LotShape</th>\n",
       "      <th>LandContour</th>\n",
       "      <th>Utilities</th>\n",
       "      <th>...</th>\n",
       "      <th>PoolArea</th>\n",
       "      <th>PoolQC</th>\n",
       "      <th>Fence</th>\n",
       "      <th>MiscFeature</th>\n",
       "      <th>MiscVal</th>\n",
       "      <th>MoSold</th>\n",
       "      <th>YrSold</th>\n",
       "      <th>SaleType</th>\n",
       "      <th>SaleCondition</th>\n",
       "      <th>SalePrice</th>\n",
       "    </tr>\n",
       "  </thead>\n",
       "  <tbody>\n",
       "    <tr>\n",
<<<<<<< HEAD
       "      <th>0</th>\n",
       "      <td>1461</td>\n",
       "      <td>20</td>\n",
       "      <td>RH</td>\n",
       "      <td>80.0</td>\n",
       "      <td>11622</td>\n",
=======
       "      <th>791</th>\n",
       "      <td>2252</td>\n",
       "      <td>20</td>\n",
       "      <td>RL</td>\n",
       "      <td>85.0</td>\n",
       "      <td>10667</td>\n",
>>>>>>> 9422094f036dcb57070123bd645ae3bca17569bb
       "      <td>Pave</td>\n",
       "      <td>NaN</td>\n",
       "      <td>Reg</td>\n",
       "      <td>Lvl</td>\n",
       "      <td>AllPub</td>\n",
       "      <td>...</td>\n",
       "      <td>0</td>\n",
       "      <td>NaN</td>\n",
<<<<<<< HEAD
       "      <td>MnPrv</td>\n",
       "      <td>NaN</td>\n",
       "      <td>0</td>\n",
       "      <td>6</td>\n",
       "      <td>2010</td>\n",
       "      <td>WD</td>\n",
       "      <td>Normal</td>\n",
       "      <td>169277.0525</td>\n",
       "    </tr>\n",
       "    <tr>\n",
       "      <th>1</th>\n",
       "      <td>1462</td>\n",
       "      <td>20</td>\n",
       "      <td>RL</td>\n",
       "      <td>81.0</td>\n",
       "      <td>14267</td>\n",
       "      <td>Pave</td>\n",
       "      <td>NaN</td>\n",
       "      <td>IR1</td>\n",
       "      <td>Lvl</td>\n",
=======
       "      <td>NaN</td>\n",
       "      <td>NaN</td>\n",
       "      <td>0</td>\n",
       "      <td>3</td>\n",
       "      <td>2007</td>\n",
       "      <td>WD</td>\n",
       "      <td>Normal</td>\n",
       "      <td>180051.8092</td>\n",
       "    </tr>\n",
       "    <tr>\n",
       "      <th>792</th>\n",
       "      <td>2253</td>\n",
       "      <td>80</td>\n",
       "      <td>RL</td>\n",
       "      <td>56.0</td>\n",
       "      <td>8872</td>\n",
       "      <td>Pave</td>\n",
       "      <td>NaN</td>\n",
       "      <td>IR1</td>\n",
       "      <td>HLS</td>\n",
>>>>>>> 9422094f036dcb57070123bd645ae3bca17569bb
       "      <td>AllPub</td>\n",
       "      <td>...</td>\n",
       "      <td>0</td>\n",
       "      <td>NaN</td>\n",
       "      <td>NaN</td>\n",
<<<<<<< HEAD
       "      <td>Gar2</td>\n",
       "      <td>12500</td>\n",
       "      <td>6</td>\n",
       "      <td>2010</td>\n",
       "      <td>WD</td>\n",
       "      <td>Normal</td>\n",
       "      <td>187758.3940</td>\n",
       "    </tr>\n",
       "    <tr>\n",
       "      <th>2</th>\n",
       "      <td>1463</td>\n",
       "      <td>60</td>\n",
       "      <td>RL</td>\n",
       "      <td>74.0</td>\n",
       "      <td>13830</td>\n",
=======
       "      <td>NaN</td>\n",
       "      <td>0</td>\n",
       "      <td>3</td>\n",
       "      <td>2007</td>\n",
       "      <td>WD</td>\n",
       "      <td>Normal</td>\n",
       "      <td>176519.1803</td>\n",
       "    </tr>\n",
       "    <tr>\n",
       "      <th>793</th>\n",
       "      <td>2254</td>\n",
       "      <td>80</td>\n",
       "      <td>RL</td>\n",
       "      <td>NaN</td>\n",
       "      <td>10147</td>\n",
>>>>>>> 9422094f036dcb57070123bd645ae3bca17569bb
       "      <td>Pave</td>\n",
       "      <td>NaN</td>\n",
       "      <td>IR1</td>\n",
       "      <td>Lvl</td>\n",
       "      <td>AllPub</td>\n",
       "      <td>...</td>\n",
       "      <td>0</td>\n",
       "      <td>NaN</td>\n",
       "      <td>MnPrv</td>\n",
       "      <td>NaN</td>\n",
       "      <td>0</td>\n",
       "      <td>3</td>\n",
<<<<<<< HEAD
       "      <td>2010</td>\n",
       "      <td>WD</td>\n",
       "      <td>Normal</td>\n",
       "      <td>183583.6836</td>\n",
       "    </tr>\n",
       "    <tr>\n",
       "      <th>3</th>\n",
       "      <td>1464</td>\n",
       "      <td>60</td>\n",
       "      <td>RL</td>\n",
       "      <td>78.0</td>\n",
       "      <td>9978</td>\n",
=======
       "      <td>2007</td>\n",
       "      <td>WD</td>\n",
       "      <td>Normal</td>\n",
       "      <td>179028.4292</td>\n",
       "    </tr>\n",
       "    <tr>\n",
       "      <th>794</th>\n",
       "      <td>2255</td>\n",
       "      <td>60</td>\n",
       "      <td>RL</td>\n",
       "      <td>NaN</td>\n",
       "      <td>8637</td>\n",
>>>>>>> 9422094f036dcb57070123bd645ae3bca17569bb
       "      <td>Pave</td>\n",
       "      <td>NaN</td>\n",
       "      <td>IR1</td>\n",
       "      <td>Lvl</td>\n",
       "      <td>AllPub</td>\n",
       "      <td>...</td>\n",
       "      <td>0</td>\n",
       "      <td>NaN</td>\n",
       "      <td>NaN</td>\n",
       "      <td>NaN</td>\n",
       "      <td>0</td>\n",
<<<<<<< HEAD
       "      <td>6</td>\n",
       "      <td>2010</td>\n",
       "      <td>WD</td>\n",
       "      <td>Normal</td>\n",
       "      <td>179317.4775</td>\n",
       "    </tr>\n",
       "  </tbody>\n",
       "</table>\n",
       "<p>4 rows × 81 columns</p>\n",
       "</div>"
      ],
      "text/plain": [
       "     Id  MSSubClass MSZoning  LotFrontage  LotArea Street Alley LotShape  \\\n",
       "0  1461          20       RH         80.0    11622   Pave   NaN      Reg   \n",
       "1  1462          20       RL         81.0    14267   Pave   NaN      IR1   \n",
       "2  1463          60       RL         74.0    13830   Pave   NaN      IR1   \n",
       "3  1464          60       RL         78.0     9978   Pave   NaN      IR1   \n",
       "\n",
       "  LandContour Utilities     ...      PoolArea PoolQC  Fence MiscFeature  \\\n",
       "0         Lvl    AllPub     ...             0    NaN  MnPrv         NaN   \n",
       "1         Lvl    AllPub     ...             0    NaN    NaN        Gar2   \n",
       "2         Lvl    AllPub     ...             0    NaN  MnPrv         NaN   \n",
       "3         Lvl    AllPub     ...             0    NaN    NaN         NaN   \n",
       "\n",
       "  MiscVal MoSold YrSold  SaleType  SaleCondition    SalePrice  \n",
       "0       0      6   2010        WD         Normal  169277.0525  \n",
       "1   12500      6   2010        WD         Normal  187758.3940  \n",
       "2       0      3   2010        WD         Normal  183583.6836  \n",
       "3       0      6   2010        WD         Normal  179317.4775  \n",
       "\n",
       "[4 rows x 81 columns]"
      ]
     },
     "execution_count": 89,
=======
       "      <td>4</td>\n",
       "      <td>2007</td>\n",
       "      <td>WD</td>\n",
       "      <td>Abnorml</td>\n",
       "      <td>177161.5839</td>\n",
       "    </tr>\n",
       "    <tr>\n",
       "      <th>795</th>\n",
       "      <td>2256</td>\n",
       "      <td>60</td>\n",
       "      <td>RL</td>\n",
       "      <td>63.0</td>\n",
       "      <td>7875</td>\n",
       "      <td>Pave</td>\n",
       "      <td>NaN</td>\n",
       "      <td>Reg</td>\n",
       "      <td>Lvl</td>\n",
       "      <td>AllPub</td>\n",
       "      <td>...</td>\n",
       "      <td>0</td>\n",
       "      <td>NaN</td>\n",
       "      <td>NaN</td>\n",
       "      <td>NaN</td>\n",
       "      <td>0</td>\n",
       "      <td>8</td>\n",
       "      <td>2007</td>\n",
       "      <td>WD</td>\n",
       "      <td>Normal</td>\n",
       "      <td>180081.5088</td>\n",
       "    </tr>\n",
       "  </tbody>\n",
       "</table>\n",
       "<p>5 rows × 81 columns</p>\n",
       "</div>"
      ],
      "text/plain": [
       "       Id  MSSubClass MSZoning  LotFrontage  LotArea Street Alley LotShape  \\\n",
       "791  2252          20       RL         85.0    10667   Pave   NaN      Reg   \n",
       "792  2253          80       RL         56.0     8872   Pave   NaN      IR1   \n",
       "793  2254          80       RL          NaN    10147   Pave   NaN      IR1   \n",
       "794  2255          60       RL          NaN     8637   Pave   NaN      IR1   \n",
       "795  2256          60       RL         63.0     7875   Pave   NaN      Reg   \n",
       "\n",
       "    LandContour Utilities     ...      PoolArea PoolQC  Fence MiscFeature  \\\n",
       "791         Lvl    AllPub     ...             0    NaN    NaN         NaN   \n",
       "792         HLS    AllPub     ...             0    NaN    NaN         NaN   \n",
       "793         Lvl    AllPub     ...             0    NaN  MnPrv         NaN   \n",
       "794         Lvl    AllPub     ...             0    NaN    NaN         NaN   \n",
       "795         Lvl    AllPub     ...             0    NaN    NaN         NaN   \n",
       "\n",
       "    MiscVal MoSold YrSold  SaleType  SaleCondition    SalePrice  \n",
       "791       0      3   2007        WD         Normal  180051.8092  \n",
       "792       0      3   2007        WD         Normal  176519.1803  \n",
       "793       0      3   2007        WD         Normal  179028.4292  \n",
       "794       0      4   2007        WD        Abnorml  177161.5839  \n",
       "795       0      8   2007        WD         Normal  180081.5088  \n",
       "\n",
       "[5 rows x 81 columns]"
      ]
     },
     "execution_count": 40,
>>>>>>> 9422094f036dcb57070123bd645ae3bca17569bb
     "metadata": {},
     "output_type": "execute_result"
    }
   ],
   "source": [
<<<<<<< HEAD
    "# Merge/combine the properties' descriptions and its sales prices into a new dataframe.\n",
    "h_data = pd.merge(dtitles, dprices, on='Id')\n",
    "h_data.head(4)"
=======
    "t = titles[titles.YrSold == 2007]\n",
    "t.head()"
>>>>>>> 9422094f036dcb57070123bd645ae3bca17569bb
   ]
  },
  {
   "cell_type": "code",
<<<<<<< HEAD
   "execution_count": null,
   "metadata": {
    "collapsed": true
   },
   "outputs": [],
   "source": []
  },
  {
   "cell_type": "code",
   "execution_count": 18,
   "metadata": {
    "collapsed": true
   },
   "outputs": [],
   "source": [
    "# NUMBER OF HOUSES SOLD EACH MONTH FOR THE YEAR 2006, 2007, 2008, 2009, 2010"
=======
   "execution_count": 42,
   "metadata": {
    "collapsed": false
   },
   "outputs": [
    {
     "data": {
      "text/plain": [
       "MoSold\n",
       "1     18\n",
       "2     20\n",
       "3     30\n",
       "4     27\n",
       "5     46\n",
       "6     47\n",
       "7     56\n",
       "8     35\n",
       "9     28\n",
       "10    25\n",
       "11    17\n",
       "12    14\n",
       "dtype: int64"
      ]
     },
     "execution_count": 42,
     "metadata": {},
     "output_type": "execute_result"
    }
   ],
   "source": [
    "df1 = t.groupby('MoSold')\n",
    "df2 = df1.size()\n",
    "df2\n"
>>>>>>> 9422094f036dcb57070123bd645ae3bca17569bb
   ]
  },
  {
   "cell_type": "code",
<<<<<<< HEAD
   "execution_count": 188,
   "metadata": {
    "collapsed": false
   },
   "outputs": [
    {
     "data": {
      "text/html": [
       "<div>\n",
       "<style>\n",
       "    .dataframe thead tr:only-child th {\n",
       "        text-align: right;\n",
       "    }\n",
       "\n",
       "    .dataframe thead th {\n",
       "        text-align: left;\n",
       "    }\n",
       "\n",
       "    .dataframe tbody tr th {\n",
       "        vertical-align: top;\n",
       "    }\n",
       "</style>\n",
       "<table border=\"1\" class=\"dataframe\">\n",
       "  <thead>\n",
       "    <tr style=\"text-align: right;\">\n",
       "      <th></th>\n",
       "      <th>2006</th>\n",
       "      <th>2007</th>\n",
       "      <th>2008</th>\n",
       "      <th>2009</th>\n",
       "      <th>2010</th>\n",
       "    </tr>\n",
       "    <tr>\n",
       "      <th>MoSold</th>\n",
       "      <th></th>\n",
       "      <th></th>\n",
       "      <th></th>\n",
       "      <th></th>\n",
       "      <th></th>\n",
       "    </tr>\n",
       "  </thead>\n",
       "  <tbody>\n",
       "    <tr>\n",
       "      <th>1</th>\n",
       "      <td>8</td>\n",
       "      <td>18</td>\n",
       "      <td>16</td>\n",
       "      <td>7</td>\n",
       "      <td>15.0</td>\n",
       "    </tr>\n",
       "    <tr>\n",
       "      <th>2</th>\n",
       "      <td>15</td>\n",
       "      <td>20</td>\n",
       "      <td>18</td>\n",
       "      <td>17</td>\n",
       "      <td>11.0</td>\n",
       "    </tr>\n",
       "    <tr>\n",
       "      <th>3</th>\n",
       "      <td>26</td>\n",
       "      <td>30</td>\n",
       "      <td>17</td>\n",
       "      <td>26</td>\n",
       "      <td>27.0</td>\n",
       "    </tr>\n",
       "    <tr>\n",
       "      <th>4</th>\n",
       "      <td>21</td>\n",
       "      <td>27</td>\n",
       "      <td>35</td>\n",
       "      <td>22</td>\n",
       "      <td>33.0</td>\n",
       "    </tr>\n",
       "    <tr>\n",
       "      <th>5</th>\n",
       "      <td>36</td>\n",
       "      <td>46</td>\n",
       "      <td>45</td>\n",
       "      <td>32</td>\n",
       "      <td>31.0</td>\n",
       "    </tr>\n",
       "    <tr>\n",
       "      <th>6</th>\n",
       "      <td>48</td>\n",
       "      <td>47</td>\n",
       "      <td>57</td>\n",
       "      <td>53</td>\n",
       "      <td>45.0</td>\n",
       "    </tr>\n",
       "    <tr>\n",
       "      <th>7</th>\n",
       "      <td>53</td>\n",
       "      <td>56</td>\n",
       "      <td>52</td>\n",
       "      <td>49</td>\n",
       "      <td>2.0</td>\n",
       "    </tr>\n",
       "    <tr>\n",
       "      <th>8</th>\n",
       "      <td>22</td>\n",
       "      <td>35</td>\n",
       "      <td>22</td>\n",
       "      <td>32</td>\n",
       "      <td>NaN</td>\n",
       "    </tr>\n",
       "    <tr>\n",
       "      <th>9</th>\n",
       "      <td>25</td>\n",
       "      <td>28</td>\n",
       "      <td>18</td>\n",
       "      <td>24</td>\n",
       "      <td>NaN</td>\n",
       "    </tr>\n",
       "    <tr>\n",
       "      <th>10</th>\n",
       "      <td>25</td>\n",
       "      <td>25</td>\n",
       "      <td>8</td>\n",
       "      <td>26</td>\n",
       "      <td>NaN</td>\n",
       "    </tr>\n",
       "    <tr>\n",
       "      <th>11</th>\n",
       "      <td>14</td>\n",
       "      <td>17</td>\n",
       "      <td>17</td>\n",
       "      <td>15</td>\n",
       "      <td>NaN</td>\n",
       "    </tr>\n",
       "    <tr>\n",
       "      <th>12</th>\n",
       "      <td>12</td>\n",
       "      <td>14</td>\n",
       "      <td>13</td>\n",
       "      <td>6</td>\n",
       "      <td>NaN</td>\n",
       "    </tr>\n",
       "  </tbody>\n",
       "</table>\n",
       "</div>"
      ],
      "text/plain": [
       "        2006  2007  2008  2009  2010\n",
       "MoSold                              \n",
       "1          8    18    16     7  15.0\n",
       "2         15    20    18    17  11.0\n",
       "3         26    30    17    26  27.0\n",
       "4         21    27    35    22  33.0\n",
       "5         36    46    45    32  31.0\n",
       "6         48    47    57    53  45.0\n",
       "7         53    56    52    49   2.0\n",
       "8         22    35    22    32   NaN\n",
       "9         25    28    18    24   NaN\n",
       "10        25    25     8    26   NaN\n",
       "11        14    17    17    15   NaN\n",
       "12        12    14    13     6   NaN"
      ]
     },
     "execution_count": 188,
     "metadata": {},
     "output_type": "execute_result"
    }
   ],
   "source": [
    "# 2006\n",
    "h_data1 = h_data[h_data.YrSold == 2006].groupby('MoSold').size()\n",
    "\n",
    "h_d2006 = h_data1.to_frame()\n",
    "#print(h_d2006)\n",
    "\n",
    "\n",
    "# 2007\n",
    "h_data1 = h_data[h_data.YrSold == 2007].groupby('MoSold').size()\n",
    "\n",
    "h_d2007 = h_data1.to_frame()\n",
    "#print(h_d2007)\n",
    "\n",
    "\n",
    "# 2008\n",
    "h_data1 = h_data[h_data.YrSold == 2008].groupby('MoSold').size()\n",
    "\n",
    "h_d2008 = h_data1.to_frame()\n",
    "#print(h_d2008)\n",
    "\n",
    "\n",
    "# 2009\n",
    "h_data1 = h_data[h_data.YrSold == 2009].groupby('MoSold').size()\n",
    "\n",
    "h_d2009 = h_data1.to_frame()\n",
    "#print(h_d2009)\n",
    "\n",
    "\n",
    "# 2010\n",
    "h_data1 = h_data[h_data.YrSold == 2010].groupby('MoSold').size()\n",
    "\n",
    "h_d2010 = h_data1.to_frame()\n",
    "#print(h_d2010)\n",
    "\n",
    "\n",
    "all_hd = pd.concat([h_d2006, h_d2007, h_d2008, h_d2009, h_d2010], axis=1)\n",
    "col = ['2006', '2007', '2008', '2009', '2010']\n",
    "all_hd.columns = col\n",
    "all_hd"
   ]
  },
  {
   "cell_type": "code",
   "execution_count": 183,
   "metadata": {
    "collapsed": false
   },
   "outputs": [
    {
     "data": {
      "text/plain": [
       "<matplotlib.axes._subplots.AxesSubplot at 0x21189d47710>"
      ]
     },
     "execution_count": 183,
     "metadata": {},
     "output_type": "execute_result"
    },
    {
     "data": {
      "image/png": "iVBORw0KGgoAAAANSUhEUgAAAlMAAAFDCAYAAAAef4vuAAAABHNCSVQICAgIfAhkiAAAAAlwSFlz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\n+ybcUS14AAAAAElFTkSuQmCC\n",
      "text/plain": [
       "<matplotlib.figure.Figure at 0x2118a990f98>"
      ]
     },
     "metadata": {},
     "output_type": "display_data"
    }
   ],
   "source": [
    "#2006\n",
    "all_hd.plot(kind='bar', y=['2006'], figsize=(10,5))"
   ]
  },
  {
   "cell_type": "code",
   "execution_count": 191,
   "metadata": {
    "collapsed": false
   },
   "outputs": [
    {
     "data": {
      "text/plain": [
       "<matplotlib.axes._subplots.AxesSubplot at 0x2118b33b080>"
      ]
     },
     "execution_count": 191,
     "metadata": {},
     "output_type": "execute_result"
    },
    {
     "data": {
      "image/png": "iVBORw0KGgoAAAANSUhEUgAAAlMAAAFDCAYAAAAef4vuAAAABHNCSVQICAgIfAhkiAAAAAlwSFlz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\nmQIAGKBMAQAMUKYAAAb8X6Fo31GggjitAAAAAElFTkSuQmCC\n",
      "text/plain": [
       "<matplotlib.figure.Figure at 0x2118b2ded30>"
      ]
     },
     "metadata": {},
     "output_type": "display_data"
    }
   ],
   "source": [
    "#2007\n",
    "all_hd.plot(kind='bar', y=['2007'], figsize=(10,5))"
   ]
  },
  {
   "cell_type": "code",
   "execution_count": 192,
   "metadata": {
    "collapsed": false
   },
   "outputs": [
    {
     "data": {
      "text/plain": [
       "<matplotlib.axes._subplots.AxesSubplot at 0x2118b184080>"
      ]
     },
     "execution_count": 192,
     "metadata": {},
     "output_type": "execute_result"
    },
    {
     "data": {
      "image/png": "iVBORw0KGgoAAAANSUhEUgAAAlMAAAFDCAYAAAAef4vuAAAABHNCSVQICAgIfAhkiAAAAAlwSFlz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\nmZIkSWrwfwGMCAnYpQKKCgAAAABJRU5ErkJggg==\n",
      "text/plain": [
       "<matplotlib.figure.Figure at 0x2118b14ff98>"
      ]
     },
     "metadata": {},
     "output_type": "display_data"
    }
   ],
   "source": [
    "#2008\n",
    "all_hd.plot(kind='bar', y=['2008'], figsize=(10,5))"
   ]
  },
  {
   "cell_type": "code",
   "execution_count": 193,
   "metadata": {
    "collapsed": false
   },
   "outputs": [
    {
     "data": {
      "text/plain": [
       "<matplotlib.axes._subplots.AxesSubplot at 0x2118b3e7048>"
      ]
     },
     "execution_count": 193,
     "metadata": {},
     "output_type": "execute_result"
    },
    {
     "data": {
      "image/png": "iVBORw0KGgoAAAANSUhEUgAAAlMAAAFDCAYAAAAef4vuAAAABHNCSVQICAgIfAhkiAAAAAlwSFlz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\nQmCC\n",
      "text/plain": [
       "<matplotlib.figure.Figure at 0x2118c447e48>"
      ]
     },
     "metadata": {},
     "output_type": "display_data"
    }
   ],
   "source": [
    "#2009\n",
    "all_hd.plot(kind='bar', y=['2009'], figsize=(10,5))"
   ]
  },
  {
   "cell_type": "code",
   "execution_count": 194,
   "metadata": {
    "collapsed": false
   },
   "outputs": [
    {
     "data": {
      "text/plain": [
       "<matplotlib.axes._subplots.AxesSubplot at 0x2118b41f160>"
      ]
     },
     "execution_count": 194,
     "metadata": {},
     "output_type": "execute_result"
    },
    {
     "data": {
      "image/png": "iVBORw0KGgoAAAANSUhEUgAAAlMAAAFDCAYAAAAef4vuAAAABHNCSVQICAgIfAhkiAAAAAlwSFlz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\n",
      "text/plain": [
       "<matplotlib.figure.Figure at 0x2118c525860>"
      ]
     },
     "metadata": {},
     "output_type": "display_data"
    }
   ],
   "source": [
    "#2010\n",
    "all_hd.plot(kind='bar', y=['2010'], figsize=(10,5))"
   ]
  },
  {
   "cell_type": "code",
   "execution_count": 175,
   "metadata": {
    "collapsed": false
   },
   "outputs": [
    {
     "data": {
      "text/plain": [
       "<matplotlib.axes._subplots.AxesSubplot at 0x21187ef8780>"
      ]
     },
     "execution_count": 175,
     "metadata": {},
     "output_type": "execute_result"
    },
    {
     "data": {
      "image/png": "iVBORw0KGgoAAAANSUhEUgAABZgAAAJfCAYAAADy57NGAAAABHNCSVQICAgIfAhkiAAAAAlwSFlz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\nAAAMUTADAAAAADBEwQwAAAAAwJD/A3wLPjgKxzPaAAAAAElFTkSuQmCC\n",
      "text/plain": [
       "<matplotlib.figure.Figure at 0x21187fb8780>"
      ]
     },
     "metadata": {},
     "output_type": "display_data"
    }
   ],
   "source": [
    "# 2006-2010\n",
    "all_hd.plot(kind='bar', figsize=(25,10),title='Houses Sold 2006-2010')"
   ]
  },
  {
   "cell_type": "code",
   "execution_count": null,
   "metadata": {
    "collapsed": true
   },
   "outputs": [],
   "source": []
  },
  {
   "cell_type": "code",
   "execution_count": null,
   "metadata": {
    "collapsed": true
   },
   "outputs": [],
   "source": [
    "# WHAT WAS THE AVERAGE PRICE OF HOMES SOLD ON EACH MONTH OF THE YEAR?"
   ]
  },
  {
   "cell_type": "code",
   "execution_count": 340,
   "metadata": {
    "collapsed": false
   },
   "outputs": [
    {
     "data": {
      "text/html": [
       "<div>\n",
       "<style>\n",
       "    .dataframe thead tr:only-child th {\n",
       "        text-align: right;\n",
       "    }\n",
       "\n",
       "    .dataframe thead th {\n",
       "        text-align: left;\n",
       "    }\n",
       "\n",
       "    .dataframe tbody tr th {\n",
       "        vertical-align: top;\n",
       "    }\n",
       "</style>\n",
       "<table border=\"1\" class=\"dataframe\">\n",
       "  <thead>\n",
       "    <tr style=\"text-align: right;\">\n",
       "      <th></th>\n",
       "      <th>Avg_Mo_Price_2006</th>\n",
       "      <th>Avg_Mo_Price_2007</th>\n",
       "      <th>Avg_Mo_Price_2008</th>\n",
       "      <th>Avg_Mo_Price_2009</th>\n",
       "      <th>Avg_Mo_Price_2010</th>\n",
       "    </tr>\n",
       "    <tr>\n",
       "      <th>MoSold</th>\n",
       "      <th></th>\n",
       "      <th></th>\n",
       "      <th></th>\n",
       "      <th></th>\n",
       "      <th></th>\n",
       "    </tr>\n",
       "  </thead>\n",
       "  <tbody>\n",
       "    <tr>\n",
       "      <th>1</th>\n",
       "      <td>181021.149475</td>\n",
       "      <td>176700.864911</td>\n",
       "      <td>185218.039975</td>\n",
       "      <td>176522.654271</td>\n",
       "      <td>172620.427627</td>\n",
       "    </tr>\n",
       "    <tr>\n",
       "      <th>2</th>\n",
       "      <td>174718.217400</td>\n",
       "      <td>175566.737665</td>\n",
       "      <td>166942.678006</td>\n",
       "      <td>166911.548547</td>\n",
       "      <td>171292.593891</td>\n",
       "    </tr>\n",
       "    <tr>\n",
       "      <th>3</th>\n",
       "      <td>177407.304885</td>\n",
       "      <td>177086.436523</td>\n",
       "      <td>170410.895453</td>\n",
       "      <td>171425.947969</td>\n",
       "      <td>174539.743400</td>\n",
       "    </tr>\n",
       "    <tr>\n",
       "      <th>4</th>\n",
       "      <td>170331.671500</td>\n",
       "      <td>177703.962811</td>\n",
       "      <td>174074.776840</td>\n",
       "      <td>175397.744250</td>\n",
       "      <td>168757.239558</td>\n",
       "    </tr>\n",
       "    <tr>\n",
       "      <th>5</th>\n",
       "      <td>180468.867539</td>\n",
       "      <td>178661.606070</td>\n",
       "      <td>177437.168544</td>\n",
       "      <td>178793.145916</td>\n",
       "      <td>172139.810090</td>\n",
       "    </tr>\n",
       "    <tr>\n",
       "      <th>6</th>\n",
       "      <td>177370.909327</td>\n",
       "      <td>183482.205147</td>\n",
       "      <td>179081.411447</td>\n",
       "      <td>180936.560938</td>\n",
       "      <td>177335.599242</td>\n",
       "    </tr>\n",
       "    <tr>\n",
       "      <th>7</th>\n",
       "      <td>182576.233808</td>\n",
       "      <td>179908.027684</td>\n",
       "      <td>179249.329723</td>\n",
       "      <td>178931.514157</td>\n",
       "      <td>181997.784750</td>\n",
       "    </tr>\n",
       "    <tr>\n",
       "      <th>8</th>\n",
       "      <td>187578.866895</td>\n",
       "      <td>178163.113511</td>\n",
       "      <td>179096.504845</td>\n",
       "      <td>180642.111172</td>\n",
       "      <td>NaN</td>\n",
       "    </tr>\n",
       "    <tr>\n",
       "      <th>9</th>\n",
       "      <td>192110.858064</td>\n",
       "      <td>180215.019993</td>\n",
       "      <td>181064.790822</td>\n",
       "      <td>179918.851996</td>\n",
       "      <td>NaN</td>\n",
       "    </tr>\n",
       "    <tr>\n",
       "      <th>10</th>\n",
       "      <td>187647.524764</td>\n",
       "      <td>183546.650684</td>\n",
       "      <td>188219.814025</td>\n",
       "      <td>183489.761042</td>\n",
       "      <td>NaN</td>\n",
       "    </tr>\n",
       "    <tr>\n",
       "      <th>11</th>\n",
       "      <td>189269.449943</td>\n",
       "      <td>191217.316476</td>\n",
       "      <td>190967.438188</td>\n",
       "      <td>177386.055693</td>\n",
       "      <td>NaN</td>\n",
       "    </tr>\n",
       "    <tr>\n",
       "      <th>12</th>\n",
       "      <td>191367.652333</td>\n",
       "      <td>184453.179450</td>\n",
       "      <td>190107.725362</td>\n",
       "      <td>194381.187350</td>\n",
       "      <td>NaN</td>\n",
       "    </tr>\n",
       "  </tbody>\n",
       "</table>\n",
       "</div>"
      ],
      "text/plain": [
       "        Avg_Mo_Price_2006  Avg_Mo_Price_2007  Avg_Mo_Price_2008  \\\n",
       "MoSold                                                            \n",
       "1           181021.149475      176700.864911      185218.039975   \n",
       "2           174718.217400      175566.737665      166942.678006   \n",
       "3           177407.304885      177086.436523      170410.895453   \n",
       "4           170331.671500      177703.962811      174074.776840   \n",
       "5           180468.867539      178661.606070      177437.168544   \n",
       "6           177370.909327      183482.205147      179081.411447   \n",
       "7           182576.233808      179908.027684      179249.329723   \n",
       "8           187578.866895      178163.113511      179096.504845   \n",
       "9           192110.858064      180215.019993      181064.790822   \n",
       "10          187647.524764      183546.650684      188219.814025   \n",
       "11          189269.449943      191217.316476      190967.438188   \n",
       "12          191367.652333      184453.179450      190107.725362   \n",
       "\n",
       "        Avg_Mo_Price_2009  Avg_Mo_Price_2010  \n",
       "MoSold                                        \n",
       "1           176522.654271      172620.427627  \n",
       "2           166911.548547      171292.593891  \n",
       "3           171425.947969      174539.743400  \n",
       "4           175397.744250      168757.239558  \n",
       "5           178793.145916      172139.810090  \n",
       "6           180936.560938      177335.599242  \n",
       "7           178931.514157      181997.784750  \n",
       "8           180642.111172                NaN  \n",
       "9           179918.851996                NaN  \n",
       "10          183489.761042                NaN  \n",
       "11          177386.055693                NaN  \n",
       "12          194381.187350                NaN  "
      ]
     },
     "execution_count": 340,
     "metadata": {},
     "output_type": "execute_result"
    }
   ],
   "source": [
    "h_dprices = h_data[h_data.YrSold == 2006]\n",
    "h_dprices1 = h_dprices.groupby('MoSold').SalePrice.mean()\n",
    "h_dprices2006 = h_dprices1.to_frame()\n",
    "h_dprices2006.columns = ['Avg_Mo_Prices']\n",
    "h_dprices2006\n",
    "\n",
    "h_dprices = h_data[h_data.YrSold == 2007]\n",
    "h_dprices1 = h_dprices.groupby('MoSold').SalePrice.mean()\n",
    "h_dprices2007 = h_dprices1.to_frame()\n",
    "h_dprices2007.columns = ['Avg_Mo_Prices']\n",
    "h_dprices2007\n",
    "\n",
    "h_dprices = h_data[h_data.YrSold == 2008]\n",
    "h_dprices1 = h_dprices.groupby('MoSold').SalePrice.mean()\n",
    "h_dprices2008 = h_dprices1.to_frame()\n",
    "h_dprices2008.columns = ['Avg_Mo_Prices']\n",
    "h_dprices2008\n",
    "\n",
    "h_dprices = h_data[h_data.YrSold == 2009]\n",
    "h_dprices1 = h_dprices.groupby('MoSold').SalePrice.mean()\n",
    "h_dprices2009 = h_dprices1.to_frame()\n",
    "h_dprices2009.columns = ['Avg_Mo_Prices']\n",
    "h_dprices2009\n",
    "\n",
    "h_dprices = h_data[h_data.YrSold == 2010]\n",
    "h_dprices1 = h_dprices.groupby('MoSold').SalePrice.mean()\n",
    "h_dprices2010 = h_dprices1.to_frame()\n",
    "h_dprices2010.columns = ['Avg_Mo_Prices']\n",
    "h_dprices2010\n",
    "\n",
    "all_hprices = pd.concat([h_dprices2006, h_dprices2007, h_dprices2008, h_dprices2009, h_dprices2010], axis=1)\n",
    "col = ['Avg_Mo_Price_2006', 'Avg_Mo_Price_2007', 'Avg_Mo_Price_2008', 'Avg_Mo_Price_2009', 'Avg_Mo_Price_2010']\n",
    "all_hprices.columns = col\n",
    "all_hprices"
   ]
  },
  {
   "cell_type": "code",
   "execution_count": 341,
=======
   "execution_count": 44,
>>>>>>> 9422094f036dcb57070123bd645ae3bca17569bb
   "metadata": {
    "collapsed": false
   },
   "outputs": [
    {
     "data": {
      "text/plain": [
<<<<<<< HEAD
       "<matplotlib.axes._subplots.AxesSubplot at 0x2118cdc66a0>"
      ]
     },
     "execution_count": 341,
=======
       "<matplotlib.axes._subplots.AxesSubplot at 0x19270f1e438>"
      ]
     },
     "execution_count": 44,
>>>>>>> 9422094f036dcb57070123bd645ae3bca17569bb
     "metadata": {},
     "output_type": "execute_result"
    },
    {
     "data": {
<<<<<<< HEAD
      "image/png": "iVBORw0KGgoAAAANSUhEUgAAAm0AAAFDCAYAAABoRTllAAAABHNCSVQICAgIfAhkiAAAAAlwSFlz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\nWsDQJkmS1AKGNkmSpBb4/wDoajrsfZRvQAAAAABJRU5ErkJggg==\n",
      "text/plain": [
       "<matplotlib.figure.Figure at 0x2118cd90f28>"
=======
      "image/png": "iVBORw0KGgoAAAANSUhEUgAAAXQAAAENCAYAAAAfTp5aAAAABHNCSVQICAgIfAhkiAAAAAlwSFlz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\nXZIaYaBLUiMMdElqhIEuSY0w0CWpEf8HTRsS1jVtHXoAAAAASUVORK5CYII=\n",
      "text/plain": [
       "<matplotlib.figure.Figure at 0x19270ec14a8>"
>>>>>>> 9422094f036dcb57070123bd645ae3bca17569bb
      ]
     },
     "metadata": {},
     "output_type": "display_data"
    }
   ],
   "source": [
<<<<<<< HEAD
    "# 2006\n",
    "all_hprices.plot(kind='bar', y=['Avg_Mo_Price_2006'], figsize=(10,5))"
=======
    "df2.plot(kind='bar')"
>>>>>>> 9422094f036dcb57070123bd645ae3bca17569bb
   ]
  },
  {
   "cell_type": "code",
<<<<<<< HEAD
   "execution_count": 333,
   "metadata": {
    "collapsed": false
   },
   "outputs": [
    {
     "data": {
      "text/plain": [
       "<matplotlib.axes._subplots.AxesSubplot at 0x2118c690080>"
      ]
     },
     "execution_count": 333,
     "metadata": {},
     "output_type": "execute_result"
    },
    {
     "data": {
      "image/png": "iVBORw0KGgoAAAANSUhEUgAAAm0AAAFDCAYAAABoRTllAAAABHNCSVQICAgIfAhkiAAAAAlwSFlz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\nP/HUc2CAfwAAAABJRU5ErkJggg==\n",
      "text/plain": [
       "<matplotlib.figure.Figure at 0x2118c7dbbe0>"
      ]
     },
     "metadata": {},
     "output_type": "display_data"
    }
   ],
   "source": [
    "# 2007\n",
    "all_hprices.plot(kind='bar', y=['Avg_Mo_Price_2007'], figsize=(10,5))"
   ]
  },
  {
   "cell_type": "code",
   "execution_count": 334,
   "metadata": {
    "collapsed": false
   },
   "outputs": [
    {
     "data": {
      "text/plain": [
       "<matplotlib.axes._subplots.AxesSubplot at 0x2118c86b160>"
      ]
     },
     "execution_count": 334,
     "metadata": {},
     "output_type": "execute_result"
    },
    {
     "data": {
      "image/png": "iVBORw0KGgoAAAANSUhEUgAAAm0AAAFDCAYAAABoRTllAAAABHNCSVQICAgIfAhkiAAAAAlwSFlz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\nAAAASUVORK5CYII=\n",
      "text/plain": [
       "<matplotlib.figure.Figure at 0x2118c87a588>"
      ]
     },
     "metadata": {},
     "output_type": "display_data"
    }
   ],
   "source": [
    "# 2008\n",
    "all_hprices.plot(kind='bar', y=['Avg_Mo_Price_2008'], figsize=(10,5))"
   ]
  },
  {
   "cell_type": "code",
   "execution_count": 335,
   "metadata": {
    "collapsed": false
   },
   "outputs": [
    {
     "data": {
      "text/plain": [
       "<matplotlib.axes._subplots.AxesSubplot at 0x2118c97b4a8>"
      ]
     },
     "execution_count": 335,
     "metadata": {},
     "output_type": "execute_result"
    },
    {
     "data": {
      "image/png": "iVBORw0KGgoAAAANSUhEUgAAAm0AAAFDCAYAAABoRTllAAAABHNCSVQICAgIfAhkiAAAAAlwSFlz\nAAALEgAACxIB0t1+/AAAIABJREFUeJzt3XmUXXWd7/33R6KACAghlwcTMFEGIQzxIRdwKTYIJMEJ\naFGCNoQWQQXRXl69SOtqHJqlqC2rvQ1cUdIMaoCOMujDIAKidMuQIE1CEAhOJCDGBBkaQRK+zx9n\nV/qkqKSKTFU79X6tdVbt+u79+53vyaokn9p7/85JVSFJkqSh7SWD3YAkSZL6Z2iTJElqAUObJElS\nCxjaJEmSWsDQJkmS1AKGNkmSpBYwtEmSJLWAoU2SJKkFDG2SJEktMGKwG1jbttlmmxo7duxgtyFJ\nktSv2bNn/7GqRg3k2A0utI0dO5ZZs2YNdhuSJEn9SvLbgR7b7+XRJNsnuSnJvCT3JPlYU986yfVJ\nHmi+btU15rQk85Pcl2RyV33vJHOafV9Pkqa+cZJLm/ptScZ2jZnWPMcDSaYN9IVJkiRtSAZyT9tS\n4H9V1W7AfsDJSXYDPgXcUFU7ATc039PsmwqMB6YA5yTZqJnrXOAEYKfmMaWpHw88VlU7AmcBZzZz\nbQ2cDuwL7AOc3h0OJUmShot+Q1tVPVJVdzbbTwL3AqOBw4ALm8MuBA5vtg8DLqmqZ6vq18B8YJ8k\n2wFbVNWtVVXARb3G9Mw1EzioOQs3Gbi+qpZU1WPA9fx30JMkSRo2XtQ9bc1ly9cDtwHbVtUjza7f\nA9s226OBW7uGLWhqzzXbves9Yx4CqKqlSR4HRnbX+xgzYM899xwLFizgmWeeebFDtQHbZJNNGDNm\nDC996UsHuxVJkvo14NCW5BXA94C/q6onmtvRAKiqSlLroL+B9nYicCLADjvs8IL9CxYsYPPNN2fs\n2LF0963hq6pYvHgxCxYsYNy4cYPdjiRJ/RrQ+7QleSmdwPadqvp+U360ueRJ8/UPTX0hsH3X8DFN\nbWGz3bu+wpgkI4AtgcWrmGsFVXVeVU2sqomjRr1w1ewzzzzDyJEjDWxaLgkjR4707KskqTUGsno0\nwPnAvVX1ta5dVwE9qzmnAVd21ac2K0LH0VlwcHtzKfWJJPs1cx7ba0zPXEcCNzb3vV0HTEqyVbMA\nYVJTe9EMbOrNnwlJUpsM5PLoG4FjgDlJ7mpqfw98CbgsyfHAb4H3AFTVPUkuA+bRWXl6clUta8ad\nBFwAbApc0zygEwovTjIfWEJn9SlVtSTJF4A7muM+X1VLVvO1SpIktVa/oa2qbgFWdkrioJWMOQM4\no4/6LGD3PurPAO9eyVzTgen99flijP3U/7c2p+M3X3rbWp1PkiSpNz97dD274oorSMIvf/nLtTrv\n2LFj2X///VeoTZgwgd13f0FG7tdPfvITttxySyZMmMCuu+7K5z73uT6Pe/jhhznyyCNXq9++fPKT\nn+R1r3sde+65J0cccQR/+tOflu/74he/yI477sguu+zCddf99xXy2bNns8cee7Djjjvy0Y9+lM5V\ndfjtb3/LQQcdxJ577skBBxzAggULXvB8kiS1iaFtPZsxYwZvetObmDFjxlqf+8knn+ShhzrvkHLv\nvfeu0Vz7778/d911F7NmzeLb3/42d9555wr7ly5dyqte9Spmzpy5Rs/T7ZBDDmHu3Lncfffd7Lzz\nznzxi18EYN68eVxyySXcc889XHvttZx00kksW9a54v7hD3+Yb37zmzzwwAM88MADXHvttQB84hOf\n4Nhjj+Xuu+/mH/7hHzjttNPWWp+SJA2GDe6zR4eyp556iltuuYWbbrqJd7zjHXzuc59j6tSpHHPM\nMbztbZ1LrMcddxxvf/vbeetb38pxxx3H3Llz2WWXXXj44Yc5++yzmThx4krnf8973sOll17KJz7x\nCWbMmMHRRx/NxRdfDHRW0H74wx9m1qxZjBgxgq997WsceOCB/fa82WabsffeezN//nzuvvtuvv/9\n7/PUU0+xbNkyLrzwQt7+9rczd+5cli1bxqmnnsq1117LS17yEk444QROOeUUZs+ezcc//nGeeuop\nttlmGy644AK22267Pp9r0qRJy7f322+/5YHwyiuvZOrUqWy88caMGzeOHXfckdtvv52xY8fyxBNP\nsN9++wFw7LHHcsUVV3DooYcyb948vva1zrqZAw88kMMPP/yFTyhJGrbW9q1S3dbVbVOeaVuPrrzy\nSqZMmcLOO+/MyJEjmT17NkcddRSXXXYZAH/5y1+44YYbeNvb3sY555zDVlttxbx58/jCF77A7Nmz\n+53/Xe96F9//fucdWX7wgx/wjne8Y/m+s88+myTMmTOHGTNmMG3atAG93cXixYu59dZbGT9+PAB3\n3nknM2fO5Oabb17huPPOO4/f/OY33HXXXdx99928733v47nnnuOUU05h5syZzJ49m/e///18+tOf\nHtCf1fTp0zn00EMBWLhwIdtv/9/v/DJmzBgWLlzIwoULGTNmzAvqAHvttdfyP4vLL7+cJ598ksWL\nFw/ouSVJGooMbevRjBkzmDp1KgBTp05lxowZHHroodx00008++yzXHPNNbz5zW9m00035ZZbbll+\n7O67786ee+7Z7/wjR45kq6224pJLLmHXXXfl5S9/+fJ9t9xyC3/zN38DwOte9zpe/epXc//99690\nrp/97Ge8/vWvZ9KkSXzqU59aHtoOOeQQtt566xcc/+Mf/5gPfvCDjBjROXm79dZbc9999zF37lwO\nOeQQJkyYwD/+4z8O6N6yM844gxEjRvC+972v32NX5qtf/So333wzr3/967n55psZPXo0G220Uf8D\nJUkaorw8up4sWbKEG2+8kTlz5pCEZcuWkYSvfOUrHHDAAVx33XVceumly4Pa6jrqqKM4+eSTueCC\nC9Zonv33358f/vCHL6hvttlmA56jqhg/fjw///nPBzzmggsu4Ic//CE33HDD8vdRGz169PJ79aDz\nCRejR49m9OjRK4TAnjrAq171quVn2p566im+973v8cpXvnLAfUiSNNQMy9A2GG/RMXPmTI455hi+\n8Y1vLK/91V/9FT/72c846qij+Na3vsWsWbOWh603vvGNXHbZZRx44IHMmzePOXPmDOh5jjjiCB55\n5BEmT57Mww8/vLy+//77853vfIe3vOUt3H///fzud79jl112WWuv75BDDuEb3/gGBx54ICNGjGDJ\nkiXssssuLFq0iJ///Oe84Q1v4LnnnuP+++9fftaut2uvvZYvf/nL3HzzzSucJXznO9/Je9/7Xj7+\n8Y/z8MMP88ADD7DPPvuw0UYbscUWW3Drrbey7777ctFFF3HKKacA8Mc//pGtt96al7zkJXzxi1/k\n/e9//1p7rZIkDQYvj64nM2bM4Igjjlih9q53vYsZM2YwadIkbr75Zg4++GBe9rKXAXDSSSexaNEi\ndtttNz7zmc8wfvx4ttxyy36fZ/PNN+fUU09dPk+Pk046ieeff5499tiDo446igsuuICNN954rb2+\nD3zgA+ywww7sueee7LXXXnz3u9/lZS97GTNnzuTUU09lr732YsKECfzHf/zHSuf4yEc+wpNPPrn8\ncuqHPvQhAMaPH8973vMedtttN6ZMmcLZZ5+9/FLnOeecwwc+8AF23HFHXvva1y6/D+4nP/kJu+yy\nCzvvvDOPPvrogO+lkyRpqErP+1ptKCZOnFizZs1aoXbvvfey6667DlJHq2fZsmU899xzbLLJJjz4\n4IMcfPDB3HfffS8IY1ozbfzZkCStuaGyejTJ7Kpa+VtDdBmWl0fb4Omnn+bAAw/kueeeo6o455xz\nDGySJA1jhrYhavPNN6f3GUOAfffdl2effXaF2sUXX8wee+zxop/juuuu49RTT12hNm7cOC6//PIX\nPdeLcfLJJ/Pv//7vK9Q+9rGP8bd/+7fr9HklSWqzYRPaqmr5asQ2u+2229baXJMnT2by5Mlrbb6B\nOvvss9f7c/ZlQ7s1QJK0YRsWCxE22WQTFi9e7H/SWq6qWLx4MZtssslgtyJJ0oAMizNtY8aMYcGC\nBSxatGiwW9EQsskmm6zwiQqSJA1lwyK0vfSlL2XcuHGD3YYkSdJqGxaXRyVJktrO0CZJktQCw+Ly\nqCRJQ9lQeaNXDW2eaZMkSWoBQ5skSVILeHlU0pDmZaP1zz9zaWgytEmSNgiGTW3ovDwqSZLUAp5p\nk4YBz0Csf/6ZS1rb+j3TlmR6kj8kmdtVuzTJXc3jN0nuaupjk/y5a9//7Rqzd5I5SeYn+XqaT29P\nsnEz3/wktyUZ2zVmWpIHmse0tfnCJUmS2mQgZ9ouAP4FuKinUFVH9Wwn+Sfg8a7jH6yqCX3Mcy5w\nAnAbcDUwBbgGOB54rKp2TDIVOBM4KsnWwOnARKCA2UmuqqrHBv7yJEnSuuIZ5fWr39BWVT/tPvvV\nrTlb9h7gLauaI8l2wBZVdWvz/UXA4XRC22HAZ5tDZwL/0sw7Gbi+qpY0Y66nE/Rm9Nfzi+EPnCRJ\naoM1vadtf+DRqnqgqzauuVz6OPCZqvoZMBpY0HXMgqZG8/UhgKpamuRxYGR3vY8x0qAw5EuSBsua\nhrajWfHM1yPADlW1OMnewBVJxq/hc/QryYnAiQA77LDDun46SZKk9W613/IjyQjgr4FLe2pV9WxV\nLW62ZwMPAjsDC4ExXcPHNDWar9t3zbklsLi73seYFVTVeVU1saomjho1anVfkiRJ0pC1Ju/TdjDw\ny6paftkzyagkGzXbrwF2An5VVY8ATyTZr7lf7VjgymbYVUDPytAjgRurqoDrgElJtkqyFTCpqUmS\nJA07/V4eTTIDOADYJskC4PSqOh+YygsXBbwZ+HyS54DngQ/1LCQATqKzEnVTOgsQrmnq5wMXJ5kP\nLGnmpaqWJPkCcEdz3Oe75pIkSRpWBrJ69OiV1I/ro/Y94HsrOX4WsHsf9WeAd69kzHRgen89SpIk\nbej8RAStd67AlCTpxfOzRyVJklrA0CZJktQChjZJkqQWMLRJkiS1gKFNkiSpBVw92mKuwpQkafjw\nTJskSVILGNokSZJawNAmSZLUAoY2SZKkFjC0SZIktYChTZIkqQUMbZIkSS1gaJMkSWoBQ5skSVIL\nGNokSZJawNAmSZLUAoY2SZKkFjC0SZIktYChTZIkqQUMbZIkSS1gaJMkSWoBQ5skSVILGNokSZJa\noN/QlmR6kj8kmdtV+2yShUnuah5v7dp3WpL5Se5LMrmrvneSOc2+rydJU984yaVN/bYkY7vGTEvy\nQPOYtrZetCRJUtsM5EzbBcCUPupnVdWE5nE1QJLdgKnA+GbMOUk2ao4/FzgB2Kl59Mx5PPBYVe0I\nnAWc2cy1NXA6sC+wD3B6kq1e9CuUJEnaAPQb2qrqp8CSAc53GHBJVT1bVb8G5gP7JNkO2KKqbq2q\nAi4CDu8ac2GzPRM4qDkLNxm4vqqWVNVjwPX0HR4lSZI2eGtyT9spSe5uLp/2nAEbDTzUdcyCpja6\n2e5dX2FMVS0FHgdGrmKuF0hyYpJZSWYtWrRoDV6SJEnS0LS6oe1c4DXABOAR4J/WWkeroarOq6qJ\nVTVx1KhRg9mKJEnSOrFaoa2qHq2qZVX1PPBNOvecASwEtu86dExTW9hs966vMCbJCGBLYPEq5pIk\nSRp2Viu0Nfeo9TgC6FlZehUwtVkROo7OgoPbq+oR4Ikk+zX3qx0LXNk1pmdl6JHAjc19b9cBk5Js\n1Vx+ndTUJEmShp0R/R2QZAZwALBNkgV0VnQekGQCUMBvgA8CVNU9SS4D5gFLgZOralkz1Ul0VqJu\nClzTPADOBy5OMp/OgoepzVxLknwBuKM57vNVNdAFEZIkSRuUfkNbVR3dR/n8VRx/BnBGH/VZwO59\n1J8B3r2SuaYD0/vrUZIkaUPnJyJIkiS1gKFNkiSpBQxtkiRJLWBokyRJagFDmyRJUgsY2iRJklrA\n0CZJktQChjZJkqQWMLRJkiS1gKFNkiSpBQxtkiRJLWBokyRJagFDmyRJUgsY2iRJklrA0CZJktQC\nhjZJkqQWMLRJkiS1gKFNkiSpBQxtkiRJLWBokyRJagFDmyRJUgsY2iRJklrA0CZJktQChjZJkqQW\n6De0JZme5A9J5nbVvpLkl0nuTnJ5klc29bFJ/pzkrubxf7vG7J1kTpL5Sb6eJE194ySXNvXbkozt\nGjMtyQPNY9rafOGSJEltMpAzbRcAU3rVrgd2r6o9gfuB07r2PVhVE5rHh7rq5wInADs1j545jwce\nq6odgbOAMwGSbA2cDuwL7AOcnmSrF/HaJEmSNhj9hraq+imwpFftR1W1tPn2VmDMquZIsh2wRVXd\nWlUFXAQc3uw+DLiw2Z4JHNSchZsMXF9VS6rqMTpBsXd4lCRJGhbWxj1t7weu6fp+XHNp9OYk+ze1\n0cCCrmMWNLWefQ8BNEHwcWBkd72PMZIkScPKiDUZnOTTwFLgO03pEWCHqlqcZG/giiTj17DHgfRx\nInAiwA477LCun06SJGm9W+0zbUmOA94OvK+55ElVPVtVi5vt2cCDwM7AQla8hDqmqdF83b6ZcwSw\nJbC4u97HmBVU1XlVNbGqJo4aNWp1X5IkSdKQtVqhLckU4H8D76yqp7vqo5Js1Gy/hs6Cg19V1SPA\nE0n2a+5XOxa4shl2FdCzMvRI4MYmBF4HTEqyVbMAYVJTkyRJGnb6vTyaZAZwALBNkgV0VnSeBmwM\nXN+8c8etzUrRNwOfT/Ic8DzwoarqWcRwEp2VqJvSuQeu5z6484GLk8yns+BhKkBVLUnyBeCO5rjP\nd80lSZI0rPQb2qrq6D7K56/k2O8B31vJvlnA7n3UnwHevZIx04Hp/fUoSZK0ofMTESRJklrA0CZJ\nktQChjZJkqQWMLRJkiS1gKFNkiSpBQxtkiRJLWBokyRJagFDmyRJUgsY2iRJklrA0CZJktQChjZJ\nkqQWMLRJkiS1gKFNkiSpBQxtkiRJLWBokyRJagFDmyRJUgsY2iRJklrA0CZJktQChjZJkqQWMLRJ\nkiS1gKFNkiSpBQxtkiRJLWBokyRJagFDmyRJUgv0G9qSTE/yhyRzu2pbJ7k+yQPN16269p2WZH6S\n+5JM7qrvnWROs+/rSdLUN05yaVO/LcnYrjHTmud4IMm0tfWiJUmS2mYgZ9ouAKb0qn0KuKGqdgJu\naL4nyW7AVGB8M+acJBs1Y84FTgB2ah49cx4PPFZVOwJnAWc2c20NnA7sC+wDnN4dDiVJkoaTfkNb\nVf0UWNKrfBhwYbN9IXB4V/2Sqnq2qn4NzAf2SbIdsEVV3VpVBVzUa0zPXDOBg5qzcJOB66tqSVU9\nBlzPC8OjJEnSsLC697RtW1WPNNu/B7ZttkcDD3Udt6CpjW62e9dXGFNVS4HHgZGrmEuSJGnYWeOF\nCM2Zs1oLvay2JCcmmZVk1qJFiwazFUmSpHVidUPbo80lT5qvf2jqC4Htu44b09QWNtu96yuMSTIC\n2BJYvIq5XqCqzquqiVU1cdSoUav5kiRJkoau1Q1tVwE9qzmnAVd21ac2K0LH0VlwcHtzKfWJJPs1\n96sd22tMz1xHAjc2Z++uAyYl2apZgDCpqUmSJA07I/o7IMkM4ABgmyQL6Kzo/BJwWZLjgd8C7wGo\nqnuSXAbMA5YCJ1fVsmaqk+isRN0UuKZ5AJwPXJxkPp0FD1ObuZYk+QJwR3Pc56uq94IISZKkYaHf\n0FZVR69k10ErOf4M4Iw+6rOA3fuoPwO8eyVzTQem99ejJEnShs5PRJAkSWoBQ5skSVILGNokSZJa\nwNAmSZLUAoY2SZKkFjC0SZIktYChTZIkqQUMbZIkSS1gaJMkSWoBQ5skSVILGNokSZJawNAmSZLU\nAoY2SZKkFjC0SZIktYChTZIkqQUMbZIkSS1gaJMkSWoBQ5skSVILGNokSZJawNAmSZLUAoY2SZKk\nFjC0SZIktYChTZIkqQUMbZIkSS1gaJMkSWqB1Q5tSXZJclfX44kkf5fks0kWdtXf2jXmtCTzk9yX\nZHJXfe8kc5p9X0+Spr5xkkub+m1Jxq7Ji5UkSWqr1Q5tVXVfVU2oqgnA3sDTwOXN7rN69lXV1QBJ\ndgOmAuOBKcA5STZqjj8XOAHYqXlMaerHA49V1Y7AWcCZq9uvJElSm62ty6MHAQ9W1W9XccxhwCVV\n9WxV/RqYD+yTZDtgi6q6taoKuAg4vGvMhc32TOCgnrNwkiRJw8naCm1TgRld35+S5O4k05Ns1dRG\nAw91HbOgqY1utnvXVxhTVUuBx4GRvZ88yYlJZiWZtWjRorXxeiRJkoaUNQ5tSV4GvBP4t6Z0LvAa\nYALwCPBPa/oc/amq86pqYlVNHDVq1Lp+OkmSpPVubZxpOxS4s6oeBaiqR6tqWVU9D3wT2Kc5biGw\nfde4MU1tYbPdu77CmCQjgC2BxWuhZ0mSpFZZG6HtaLoujTb3qPU4ApjbbF8FTG1WhI6js+Dg9qp6\nBHgiyX7N/WrHAld2jZnWbB8J3Njc9yZJkjSsjFiTwUk2Aw4BPthV/nKSCUABv+nZV1X3JLkMmAcs\nBU6uqmXNmJOAC4BNgWuaB8D5wMVJ5gNL6Nw7J0mSNOysUWirqv+i18KAqjpmFcefAZzRR30WsHsf\n9WeAd69Jj5IkSRsCPxFBkiSpBQxtkiRJLWBokyRJagFDmyRJUgsY2iRJklrA0CZJktQChjZJkqQW\nMLRJkiS1gKFNkiSpBQxtkiRJLWBokyRJagFDmyRJUgsY2iRJklrA0CZJktQChjZJkqQWMLRJkiS1\ngKFNkiSpBQxtkiRJLWBokyRJagFDmyRJUgsY2iRJklrA0CZJktQChjZJkqQWMLRJkiS1wBqFtiS/\nSTInyV1JZjW1rZNcn+SB5utWXceflmR+kvuSTO6q793MMz/J15OkqW+c5NKmfluSsWvSryRJUlut\njTNtB1bVhKqa2Hz/KeCGqtoJuKH5niS7AVOB8cAU4JwkGzVjzgVOAHZqHlOa+vHAY1W1I3AWcOZa\n6FeSJKl11sXl0cOAC5vtC4HDu+qXVNWzVfVrYD6wT5LtgC2q6taqKuCiXmN65poJHNRzFk6SJGk4\nWdPQVsCPk8xOcmJT27aqHmm2fw9s22yPBh7qGrugqY1utnvXVxhTVUuBx4GRvZtIcmKSWUlmLVq0\naA1fkiRJ0tAzYg3Hv6mqFib5H8D1SX7ZvbOqKkmt4XP0q6rOA84DmDhx4jp/PkmSpPVtjc60VdXC\n5usfgMuBfYBHm0ueNF//0By+ENi+a/iYpraw2e5dX2FMkhHAlsDiNelZkiSpjVY7tCXZLMnmPdvA\nJGAucBUwrTlsGnBls30VMLVZETqOzoKD25tLqU8k2a+5X+3YXmN65joSuLG5702SJGlYWZPLo9sC\nlzfrAkYA362qa5PcAVyW5Hjgt8B7AKrqniSXAfOApcDJVbWsmesk4AJgU+Ca5gFwPnBxkvnAEjqr\nTyVJkoad1Q5tVfUrYK8+6ouBg1Yy5gzgjD7qs4Dd+6g/A7x7dXuUJEnaUPiJCJIkSS1gaJMkSWoB\nQ5skSVILGNokSZJawNAmSZLUAoY2SZKkFjC0SZIktYChTZIkqQUMbZIkSS1gaJMkSWoBQ5skSVIL\nGNokSZJawNAmSZLUAoY2SZKkFjC0SZIktYChTZIkqQUMbZIkSS1gaJMkSWoBQ5skSVILGNokSZJa\nwNAmSZLUAoY2SZKkFjC0SZIktYChTZIkqQVWO7Ql2T7JTUnmJbknycea+meTLExyV/N4a9eY05LM\nT3Jfksld9b2TzGn2fT1JmvrGSS5t6rclGbv6L1WSJKm91uRM21Lgf1XVbsB+wMlJdmv2nVVVE5rH\n1QDNvqnAeGAKcE6SjZrjzwVOAHZqHlOa+vHAY1W1I3AWcOYa9CtJktRaqx3aquqRqrqz2X4SuBcY\nvYohhwGXVNWzVfVrYD6wT5LtgC2q6taqKuAi4PCuMRc22zOBg3rOwkmSJA0na+Wetuay5euB25rS\nKUnuTjI9yVZNbTTwUNewBU1tdLPdu77CmKpaCjwOjFwbPUuSJLXJGoe2JK8Avgf8XVU9QedS52uA\nCcAjwD+t6XMMoIcTk8xKMmvRokXr+ukkSZLWuzUKbUleSiewfaeqvg9QVY9W1bKqeh74JrBPc/hC\nYPuu4WOa2sJmu3d9hTFJRgBbAot791FV51XVxKqaOGrUqDV5SZIkSUPSmqweDXA+cG9Vfa2rvl3X\nYUcAc5vtq4CpzYrQcXQWHNxeVY8ATyTZr5nzWODKrjHTmu0jgRub+94kSZKGlRFrMPaNwDHAnCR3\nNbW/B45OMgEo4DfABwGq6p4klwHz6Kw8PbmqljXjTgIuADYFrmke0AmFFyeZDyyhs/pUkiRp2Fnt\n0FZVtwB9reS8ehVjzgDO6KM+C9i9j/ozwLtXt0dJkqQNhZ+IIEmS1AKGNkmSpBYwtEmSJLWAoU2S\nJKkFDG2SJEktYGiTJElqAUObJElSCxjaJEmSWsDQJkmS1AKGNkmSpBYwtEmSJLWAoU2SJKkFDG2S\nJEktYGiTJElqAUObJElSCxjaJEmSWsDQJkmS1AKGNkmSpBYwtEmSJLWAoU2SJKkFDG2SJEktYGiT\nJElqAUObJElSCxjaJEmSWqAVoS3JlCT3JZmf5FOD3Y8kSdL6NuRDW5KNgLOBQ4HdgKOT7Da4XUmS\nJK1fQz60AfsA86vqV1X1F+AS4LBB7kmSJGm9akNoGw081PX9gqYmSZI0bKSqBruHVUpyJDClqj7Q\nfH8MsG9VfaTrmBOBE5tvdwHuW4ctbQP8cR3Ov660tW9ob+9t7Rva23tb+4b29t7WvqG9vbe1b2hv\n7+uy71dX1aiBHDhiHTWwNi0Etu/6fkxTW66qzgPOWx/NJJlVVRPXx3OtTW3tG9rbe1v7hvb23ta+\nob29t7VvaG/vbe0b2tv7UOm7DZdH7wB2SjIuycuAqcBVg9yTJEnSejXkz7RV1dIkHwGuAzYCplfV\nPYPcliRJ0no15EMbQFVdDVw92H001stl2HWgrX1De3tva9/Q3t7b2je0t/e29g3t7b2tfUN7ex8S\nfQ/5hQj3RkOUAAAHdklEQVSSJElqxz1tkiRJw56hTZIkqQUMbZIkSS1gaNtAJXldkoOSvKJXfcpg\n9TQQSfZJ8j+b7d2SfDzJWwe7r9WR5KLB7mF1JHlT8+c+abB7WZUk+ybZotneNMnnkvwgyZlJthzs\n/lYlyUeTbN//kUNLkpclOTbJwc33703yL0lOTvLSwe5vVZK8Jsknkvxzkq8l+VDPz4/UFi5EWE1J\n/raq/nWw++hLko8CJwP3AhOAj1XVlc2+O6vq/x3M/lYmyenAoXRWNV8P7AvcBBwCXFdVZwxie6uU\npPd7BwY4ELgRoKreud6bGqAkt1fVPs32CXR+di4HJgE/qKovDWZ/K5PkHmCv5m2BzgOeBmYCBzX1\nvx7UBlchyePAfwEPAjOAf6uqRYPbVf+SfIfO38+XA38CXgF8n86feapq2iC2t1LNv4lvB34KvBX4\nBZ3+jwBOqqqfDF530sAZ2lZTkt9V1Q6D3UdfkswB3lBVTyUZS+c/sour6p+T/KKqXj+oDa5E0/cE\nYGPg98CYqnoiyabAbVW156A2uApJ7gTmAd8Cik5om0HnzaCpqpsHr7tV6/6ZSHIH8NaqWpRkM+DW\nqtpjcDvsW5J7q2rXZnuFX0aS3FVVEwavu1VL8gtgb+Bg4CjgncBsOj8z36+qJwexvZVKcndV7Zlk\nBJ1PpnlVVS1LEuA/h+rf0Z5/W5peXw5cXVUHJNkBuHKo/psI0Jw1Pg04HPgfdP59+QNwJfClqvrT\nILa32pJcU1WHDnYffWnOwJ5G5xOYrqmq73btO6eqThqs3lrxPm2DJcndK9sFbLs+e3mRXlJVTwFU\n1W+SHADMTPJqOr0PVUurahnwdJIHq+oJgKr6c5LnB7m3/kwEPgZ8GvhkVd2V5M9DOax1eUmSrejc\nLrFRzxmfqvqvJEsHt7VVmtt1xvs/k0ysqllJdgaeG+zm+lFV9TzwI+BHzaXFQ4Gjga8CA/ocwkHw\nkuaTaTajc7ZtS2AJnV+0hvTlUTr/3y2j0+srAKrqd0P9si5wGZ0z9gdU1e8Bkvw/wLRm35C9jSHJ\nyq7qhM4v6EPVvwIPAN8D3p/kXcB7q+pZYL/BbMzQtmrbApOBx3rVA/zH+m9nwB5NMqGq7gJozri9\nHZgODMmzJo2/JHl5VT1N5ywEsPw3zSEd2pr/gM9K8m/N10dpz9+vLemc5QlQSbarqkea+yGHcsj/\nAPDPST5D54Ocf57kIeChZt9QtsKfa1U9R+fj+a5qzgQNVecDv6Tz6TSfBv4tya/o/Ed2yWA21o9v\nAXckuQ3YHzgTIMkoOqFzKBtbVWd2F5rwdmaS9w9STwN1B3Azff878sr13MuL8dqqelezfUWSTwM3\nJhn021y8PLoKSc4H/rWqbulj33er6r2D0Fa/koyhc9bq933se2NV/fsgtNWvJBs3v8n0rm8DbFdV\ncwahrdWS5G3AG6vq7we7l9XVhIdtq+rXg93LqjSXMsbRCckLqurRQW6pX0l2rqr7B7uP1ZHkVQBV\n9XCSV9K5xPu7qrp9cDtbtSTjgV2BuVX1y8HuZ6CS/Aj4MXBhz892km2B44BDqurgQWxvlZLMBY6o\nqgf62PdQVQ3JxThJ7gXGN7+M99SOAz4JvKKqXj1ovRnaJEkamppbFz4FHEbnnjaAR+mcmf1SVfW+\nEjRkJDkSmFNV9/Wx7/CqumIQ2upXki8DP6qqH/eqTwH+T1XtNDidGdokSWqlofwuBv1pa++D3beh\nTZKkFhrK72LQn7b2Pth9t+VGaUmShp0Wv4tBa3sfyn0b2iRJGrra+i4G0N7eh2zfhjZJkoauH9JZ\nsXhX7x1JfrL+23lR2tr7kO3be9okSZJawA+MlyRJagFDmyRJUgsY2iRt8JJUkm93fT8iyaIkP+xn\n3LZJfpjkP5PMS3J1P8ePbd4Fvq99P0kycfVegSS5EEHS8PBfwO5JNq2qPwOHAAsHMO7zwPVV9c8A\nSfZchz1K0ip5pk3ScHE18LZm+2hgRs+OJFsnuSLJ3Ulu7Qpn2wELeo6rqrub45PkK0nmJpmT5Kje\nT5Zk0ySXJLk3yeXApuvqhUkaHgxtkoaLS4CpSTYB9gRu69r3OeAXVbUn8PfARU39bOD8JDcl+XTP\nh6UDfw1MAPai84HpX0myXa/n+zDwdFXtCpwO7L0uXpSk4cPQJmlYaM6SjaVzlq33vWlvAi5ujrsR\nGJlki6q6DngN8E3gdcAvkoxqjp9RVcuq6lHgZuB/9przzcC3u557Ze+yLkkDYmiTNJxcBXyVrkuj\n/amqJVX13ao6BriDThiTpPXO0CZpOJkOfK6q5vSq/wx4H0CSA4A/VtUTSd6S5OVNfXPgtcDvmuOP\nSrJRc+btzcDtveb8KfDeZuzudC7JStJqc/WopGGjqhYAX+9j12eB6c0HRT8NTGvqewP/kmQpnV9y\nv1VVdySZBbwB+E+ggP9dVb9PMrZrznOBf01yL3AvMHvtvyJJw4kfYyVJktQCXh6VJElqAUObJElS\nCxjaJEmSWsDQJkmS1AKGNkmSpBYwtEmSJLWAoU2SJKkFDG2SJEkt8P8Dok8OIOHCK48AAAAASUVO\nRK5CYII=\n",
      "text/plain": [
       "<matplotlib.figure.Figure at 0x2118c955908>"
      ]
     },
     "metadata": {},
     "output_type": "display_data"
    }
   ],
   "source": [
    "# 2009\n",
    "all_hprices.plot(kind='bar', y=['Avg_Mo_Price_2009'], figsize=(10,5))"
   ]
  },
  {
   "cell_type": "code",
   "execution_count": 337,
   "metadata": {
    "collapsed": false
   },
   "outputs": [
    {
     "data": {
      "text/plain": [
       "<matplotlib.axes._subplots.AxesSubplot at 0x2118ca85f28>"
      ]
     },
     "execution_count": 337,
     "metadata": {},
     "output_type": "execute_result"
    },
    {
     "data": {
      "image/png": "iVBORw0KGgoAAAANSUhEUgAAAm0AAAFDCAYAAABoRTllAAAABHNCSVQICAgIfAhkiAAAAAlwSFlz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\nwNAmSZJUgP8HNEkMCks6EtEAAAAASUVORK5CYII=\n",
      "text/plain": [
       "<matplotlib.figure.Figure at 0x2118ca42630>"
      ]
     },
     "metadata": {},
     "output_type": "display_data"
    }
   ],
   "source": [
    "# 2010\n",
    "all_hprices.plot(kind='bar', y=['Avg_Mo_Price_2010'], figsize=(10,5))"
   ]
  },
  {
   "cell_type": "code",
   "execution_count": 339,
   "metadata": {
    "collapsed": false
   },
   "outputs": [
    {
     "data": {
      "text/plain": [
       "<matplotlib.axes._subplots.AxesSubplot at 0x2118cc32ef0>"
      ]
     },
     "execution_count": 339,
     "metadata": {},
     "output_type": "execute_result"
    },
    {
     "data": {
      "image/png": "iVBORw0KGgoAAAANSUhEUgAABbIAAAJfCAYAAACqmCBfAAAABHNCSVQICAgIfAhkiAAAAAlwSFlz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\nu8hfAAAAAElFTkSuQmCC\n",
      "text/plain": [
       "<matplotlib.figure.Figure at 0x2118cbdbcf8>"
      ]
     },
     "metadata": {},
     "output_type": "display_data"
    }
   ],
   "source": [
    "# 2006-2010\n",
    "all_hprices.plot(kind='bar', figsize=(25,10),title='Average Price for Houses Sold 2006-2010')"
   ]
  },
  {
   "cell_type": "code",
   "execution_count": null,
   "metadata": {
    "collapsed": true
   },
   "outputs": [],
   "source": []
  },
  {
   "cell_type": "code",
   "execution_count": null,
   "metadata": {
    "collapsed": true
   },
   "outputs": [],
   "source": []
  },
  {
   "cell_type": "code",
   "execution_count": null,
   "metadata": {
    "collapsed": true
   },
   "outputs": [],
   "source": []
  },
  {
   "cell_type": "code",
=======
>>>>>>> 9422094f036dcb57070123bd645ae3bca17569bb
   "execution_count": null,
   "metadata": {
    "collapsed": true
   },
   "outputs": [],
   "source": []
  }
 ],
 "metadata": {
  "kernelspec": {
   "display_name": "Python 3",
   "language": "python",
   "name": "python3"
  },
  "language_info": {
   "codemirror_mode": {
    "name": "ipython",
    "version": 3
   },
   "file_extension": ".py",
   "mimetype": "text/x-python",
   "name": "python",
   "nbconvert_exporter": "python",
   "pygments_lexer": "ipython3",
   "version": "3.6.0"
  }
 },
 "nbformat": 4,
 "nbformat_minor": 2
}
