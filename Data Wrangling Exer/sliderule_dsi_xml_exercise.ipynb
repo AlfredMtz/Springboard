{
 "cells": [
  {
   "cell_type": "markdown",
   "metadata": {},
   "source": [
    "# XML example and exercise\n",
    "****\n",
    "+ study examples of accessing nodes in XML tree structure  \n",
    "+ work on exercise to be completed and submitted\n",
    "****\n",
    "+ reference: https://docs.python.org/2.7/library/xml.etree.elementtree.html\n",
    "+ data source: http://www.dbis.informatik.uni-goettingen.de/Mondial\n",
    "****"
   ]
  },
  {
   "cell_type": "code",
   "execution_count": 740,
   "metadata": {
    "collapsed": true
   },
   "outputs": [],
   "source": [
    "from xml.etree import ElementTree as ET\n",
    "import pandas as pd\n",
    "import numpy as np"
   ]
  },
  {
   "cell_type": "markdown",
   "metadata": {},
   "source": [
    "## XML example\n",
    "\n",
    "+ for details about tree traversal and iterators, see https://docs.python.org/2.7/library/xml.etree.elementtree.html"
   ]
  },
  {
   "cell_type": "code",
   "execution_count": 741,
   "metadata": {
    "collapsed": true
   },
   "outputs": [],
   "source": [
    "document_tree = ET.parse( './data/mondial_database_less.xml' )"
   ]
  },
  {
   "cell_type": "code",
   "execution_count": 742,
   "metadata": {
    "collapsed": false
   },
   "outputs": [
    {
     "name": "stdout",
     "output_type": "stream",
     "text": [
      "Albania\n",
      "Greece\n",
      "Macedonia\n",
      "Serbia\n",
      "Montenegro\n",
      "Kosovo\n",
      "Andorra\n"
     ]
    }
   ],
   "source": [
    "# print names of all countries\n",
    "for child in document_tree.getroot():\n",
    "    print (child.find('name').text)"
   ]
  },
  {
   "cell_type": "code",
   "execution_count": 743,
   "metadata": {
    "collapsed": false
   },
   "outputs": [
    {
     "ename": "TypeError",
     "evalue": "'capitals_string' is an invalid keyword argument for this function",
     "output_type": "error",
     "traceback": [
      "\u001b[0;31m---------------------------------------------------------------------------\u001b[0m",
      "\u001b[0;31mTypeError\u001b[0m                                 Traceback (most recent call last)",
      "\u001b[0;32m<ipython-input-743-3d5f7279be08>\u001b[0m in \u001b[0;36m<module>\u001b[0;34m()\u001b[0m\n\u001b[1;32m      2\u001b[0m \u001b[1;32mfor\u001b[0m \u001b[0melement\u001b[0m \u001b[1;32min\u001b[0m \u001b[0mdocument_tree\u001b[0m\u001b[1;33m.\u001b[0m\u001b[0miterfind\u001b[0m\u001b[1;33m(\u001b[0m\u001b[1;34m'country'\u001b[0m\u001b[1;33m)\u001b[0m\u001b[1;33m:\u001b[0m\u001b[1;33m\u001b[0m\u001b[0m\n\u001b[1;32m      3\u001b[0m     print ('* ' + element.find('name').text + ':',\n\u001b[0;32m----> 4\u001b[0;31m     capitals_string = '')\n\u001b[0m\u001b[1;32m      5\u001b[0m     \u001b[1;32mfor\u001b[0m \u001b[0msubelement\u001b[0m \u001b[1;32min\u001b[0m \u001b[0melement\u001b[0m\u001b[1;33m.\u001b[0m\u001b[0mgetiterator\u001b[0m\u001b[1;33m(\u001b[0m\u001b[1;34m'city'\u001b[0m\u001b[1;33m)\u001b[0m\u001b[1;33m:\u001b[0m\u001b[1;33m\u001b[0m\u001b[0m\n\u001b[1;32m      6\u001b[0m         \u001b[0mcapitals_string\u001b[0m \u001b[1;33m+=\u001b[0m \u001b[0msubelement\u001b[0m\u001b[1;33m.\u001b[0m\u001b[0mfind\u001b[0m\u001b[1;33m(\u001b[0m\u001b[1;34m'name'\u001b[0m\u001b[1;33m)\u001b[0m\u001b[1;33m.\u001b[0m\u001b[0mtext\u001b[0m \u001b[1;33m+\u001b[0m \u001b[1;34m', '\u001b[0m\u001b[1;33m\u001b[0m\u001b[0m\n",
      "\u001b[0;31mTypeError\u001b[0m: 'capitals_string' is an invalid keyword argument for this function"
     ]
    }
   ],
   "source": [
    "# print names of all countries and their cities\n",
    "for element in document_tree.iterfind('country'):\n",
    "    print ('* ' + element.find('name').text + ':',\n",
    "    capitals_string = '')\n",
    "    for subelement in element.getiterator('city'):\n",
    "        capitals_string += subelement.find('name').text + ', '\n",
    "    print (capitals_string[:-2])"
   ]
  },
  {
   "cell_type": "markdown",
   "metadata": {},
   "source": [
    "****\n",
    "## XML exercise\n",
    "\n",
    "Using data in 'data/mondial_database.xml', the examples above, and refering to https://docs.python.org/2.7/library/xml.etree.elementtree.html, find\n",
    "\n",
    "1. 10 countries with the lowest infant mortality rates\n",
    "2. 10 cities with the largest population\n",
    "3. 10 ethnic groups with the largest overall populations (sum of best/latest estimates over all countries)\n",
    "4. name and country of a) longest river, b) largest lake and c) airport at highest elevation"
   ]
  },
  {
   "cell_type": "code",
   "execution_count": null,
   "metadata": {
    "collapsed": true
   },
   "outputs": [],
   "source": [
    "#1. 10 Countries with the lowest infant mortality rates"
   ]
  },
  {
   "cell_type": "code",
   "execution_count": 744,
   "metadata": {
    "collapsed": false
   },
   "outputs": [
    {
     "data": {
      "text/html": [
       "<div>\n",
       "<style>\n",
       "    .dataframe thead tr:only-child th {\n",
       "        text-align: right;\n",
       "    }\n",
       "\n",
       "    .dataframe thead th {\n",
       "        text-align: left;\n",
       "    }\n",
       "\n",
       "    .dataframe tbody tr th {\n",
       "        vertical-align: top;\n",
       "    }\n",
       "</style>\n",
       "<table border=\"1\" class=\"dataframe\">\n",
       "  <thead>\n",
       "    <tr style=\"text-align: right;\">\n",
       "      <th></th>\n",
       "      <th>inf_mort_rate</th>\n",
       "    </tr>\n",
       "  </thead>\n",
       "  <tbody>\n",
       "    <tr>\n",
       "      <th>Monaco</th>\n",
       "      <td>1.81</td>\n",
       "    </tr>\n",
       "    <tr>\n",
       "      <th>Japan</th>\n",
       "      <td>2.13</td>\n",
       "    </tr>\n",
       "    <tr>\n",
       "      <th>Bermuda</th>\n",
       "      <td>2.48</td>\n",
       "    </tr>\n",
       "    <tr>\n",
       "      <th>Norway</th>\n",
       "      <td>2.48</td>\n",
       "    </tr>\n",
       "    <tr>\n",
       "      <th>Singapore</th>\n",
       "      <td>2.53</td>\n",
       "    </tr>\n",
       "    <tr>\n",
       "      <th>Sweden</th>\n",
       "      <td>2.60</td>\n",
       "    </tr>\n",
       "    <tr>\n",
       "      <th>Czech Republic</th>\n",
       "      <td>2.63</td>\n",
       "    </tr>\n",
       "    <tr>\n",
       "      <th>Hong Kong</th>\n",
       "      <td>2.73</td>\n",
       "    </tr>\n",
       "    <tr>\n",
       "      <th>Macao</th>\n",
       "      <td>3.13</td>\n",
       "    </tr>\n",
       "    <tr>\n",
       "      <th>Iceland</th>\n",
       "      <td>3.15</td>\n",
       "    </tr>\n",
       "  </tbody>\n",
       "</table>\n",
       "</div>"
      ],
      "text/plain": [
       "                inf_mort_rate\n",
       "Monaco                   1.81\n",
       "Japan                    2.13\n",
       "Bermuda                  2.48\n",
       "Norway                   2.48\n",
       "Singapore                2.53\n",
       "Sweden                   2.60\n",
       "Czech Republic           2.63\n",
       "Hong Kong                2.73\n",
       "Macao                    3.13\n",
       "Iceland                  3.15"
      ]
     },
     "execution_count": 744,
     "metadata": {},
     "output_type": "execute_result"
    }
   ],
   "source": [
    "# Pulling XML data into an object\n",
    "document = ET.parse( './data/mondial_database.xml' )\n",
    "doc = document.getroot()\n",
    "\n",
    "# Empy diccionary to collect specify keys and values.\n",
    "dict_c = {}\n",
    "\n",
    "for element in doc.iterfind('country'):\n",
    "    country = element.find('name')\n",
    "    inf_mr = element.find('infant_mortality')\n",
    "    \n",
    "    # Condition to ignore None values for 'infant_mortality table'\n",
    "    if inf_mr != None:                          \n",
    "        dict_c[country.text] = float(inf_mr.text) \n",
    "    \n",
    "\n",
    "#Building created diccionary(dict_c) into a dataframe.\n",
    "df_c = pd.DataFrame.from_dict(dict_c, orient='index')\n",
    "df_c.columns = ['inf_mort_rate']\n",
    "df1 = df_c.sort_values(by='inf_mort_rate', ascending=True)\n",
    "# Obtaining the 10 Countries with the lowest infant mortality rates.\n",
    "df1.head(10)\n",
    "\n",
    "                "
   ]
  },
  {
   "cell_type": "code",
   "execution_count": null,
   "metadata": {
    "collapsed": false
   },
   "outputs": [],
   "source": [
    "# .10 cities with the largest population"
   ]
  },
  {
   "cell_type": "code",
   "execution_count": 746,
   "metadata": {
    "collapsed": false
   },
   "outputs": [
    {
     "data": {
      "text/html": [
       "<div>\n",
       "<style>\n",
       "    .dataframe thead tr:only-child th {\n",
       "        text-align: right;\n",
       "    }\n",
       "\n",
       "    .dataframe thead th {\n",
       "        text-align: left;\n",
       "    }\n",
       "\n",
       "    .dataframe tbody tr th {\n",
       "        vertical-align: top;\n",
       "    }\n",
       "</style>\n",
       "<table border=\"1\" class=\"dataframe\">\n",
       "  <thead>\n",
       "    <tr style=\"text-align: right;\">\n",
       "      <th></th>\n",
       "      <th>City</th>\n",
       "      <th>population</th>\n",
       "    </tr>\n",
       "  </thead>\n",
       "  <tbody>\n",
       "    <tr>\n",
       "      <th>55</th>\n",
       "      <td>China</td>\n",
       "      <td>1360720000</td>\n",
       "    </tr>\n",
       "    <tr>\n",
       "      <th>67</th>\n",
       "      <td>India</td>\n",
       "      <td>1210854977</td>\n",
       "    </tr>\n",
       "    <tr>\n",
       "      <th>120</th>\n",
       "      <td>United States</td>\n",
       "      <td>318857056</td>\n",
       "    </tr>\n",
       "    <tr>\n",
       "      <th>88</th>\n",
       "      <td>Indonesia</td>\n",
       "      <td>252124458</td>\n",
       "    </tr>\n",
       "    <tr>\n",
       "      <th>176</th>\n",
       "      <td>Brazil</td>\n",
       "      <td>202768562</td>\n",
       "    </tr>\n",
       "    <tr>\n",
       "      <th>57</th>\n",
       "      <td>Pakistan</td>\n",
       "      <td>173149306</td>\n",
       "    </tr>\n",
       "    <tr>\n",
       "      <th>202</th>\n",
       "      <td>Nigeria</td>\n",
       "      <td>164294516</td>\n",
       "    </tr>\n",
       "    <tr>\n",
       "      <th>65</th>\n",
       "      <td>Bangladesh</td>\n",
       "      <td>149772364</td>\n",
       "    </tr>\n",
       "    <tr>\n",
       "      <th>23</th>\n",
       "      <td>Russia</td>\n",
       "      <td>143666931</td>\n",
       "    </tr>\n",
       "    <tr>\n",
       "      <th>98</th>\n",
       "      <td>Japan</td>\n",
       "      <td>127298000</td>\n",
       "    </tr>\n",
       "  </tbody>\n",
       "</table>\n",
       "</div>"
      ],
      "text/plain": [
       "              City  population\n",
       "55           China  1360720000\n",
       "67           India  1210854977\n",
       "120  United States   318857056\n",
       "88       Indonesia   252124458\n",
       "176         Brazil   202768562\n",
       "57        Pakistan   173149306\n",
       "202        Nigeria   164294516\n",
       "65      Bangladesh   149772364\n",
       "23          Russia   143666931\n",
       "98           Japan   127298000"
      ]
     },
     "execution_count": 746,
     "metadata": {},
     "output_type": "execute_result"
    }
   ],
   "source": [
    "# Pulling XML data into an object\n",
    "document = ET.parse( './data/mondial_database.xml' )\n",
    "doc = document.getroot()\n",
    "\n",
    "pop_lst = []     #list to build data into a data frame.\n",
    "\n",
    "\n",
    "#Loop to find cities' names and population\n",
    "for elements in doc.iterfind('country'):\n",
    "    c = elements.iterfind('city')\n",
    "    city = elements.find('name')\n",
    "    pltion = elements.find('.//population[last()]')\n",
    "    \n",
    "    \n",
    "    # Condition to ignore None values for 'infant_mortality table'\n",
    "    if city != None and pltion != None:\n",
    "        pop_lst.append([city.text, pltion.text]) \n",
    "               \n",
    "            \n",
    "#Building list into DataFrame        \n",
    "df = pd.DataFrame(data = pop_lst, columns = ['City','population'])\n",
    "# Turning 'population' column's values into numeric values to be able to sort\n",
    "df['population'] = pd.to_numeric(df['population'])\n",
    "df = df.sort_values('population', ascending=False)\n",
    "df.head(10)"
   ]
  },
  {
   "cell_type": "code",
   "execution_count": null,
   "metadata": {
    "collapsed": true
   },
   "outputs": [],
   "source": []
  },
  {
   "cell_type": "code",
   "execution_count": null,
   "metadata": {
    "collapsed": true
   },
   "outputs": [],
   "source": [
    "#3. 10 ethnic groups with the largest overall populations (sum of best/latest estimates over all countries"
   ]
  },
  {
   "cell_type": "code",
   "execution_count": 747,
   "metadata": {
    "collapsed": false
   },
   "outputs": [
    {
     "data": {
      "text/html": [
       "<div>\n",
       "<style>\n",
       "    .dataframe thead tr:only-child th {\n",
       "        text-align: right;\n",
       "    }\n",
       "\n",
       "    .dataframe thead th {\n",
       "        text-align: left;\n",
       "    }\n",
       "\n",
       "    .dataframe tbody tr th {\n",
       "        vertical-align: top;\n",
       "    }\n",
       "</style>\n",
       "<table border=\"1\" class=\"dataframe\">\n",
       "  <thead>\n",
       "    <tr style=\"text-align: right;\">\n",
       "      <th></th>\n",
       "      <th>Country</th>\n",
       "      <th>Ethnic_g</th>\n",
       "      <th>Ethnic_pct</th>\n",
       "      <th>Population</th>\n",
       "      <th>Fraction</th>\n",
       "    </tr>\n",
       "  </thead>\n",
       "  <tbody>\n",
       "    <tr>\n",
       "      <th>0</th>\n",
       "      <td>Albania</td>\n",
       "      <td>Albanian</td>\n",
       "      <td>95</td>\n",
       "      <td>2800138</td>\n",
       "      <td>2.660131e+06</td>\n",
       "    </tr>\n",
       "    <tr>\n",
       "      <th>1</th>\n",
       "      <td>Albania</td>\n",
       "      <td>Greek</td>\n",
       "      <td>3</td>\n",
       "      <td>2800138</td>\n",
       "      <td>8.400414e+04</td>\n",
       "    </tr>\n",
       "    <tr>\n",
       "      <th>2</th>\n",
       "      <td>Greece</td>\n",
       "      <td>Greek</td>\n",
       "      <td>93</td>\n",
       "      <td>10816286</td>\n",
       "      <td>1.005915e+07</td>\n",
       "    </tr>\n",
       "    <tr>\n",
       "      <th>3</th>\n",
       "      <td>Macedonia</td>\n",
       "      <td>Macedonian</td>\n",
       "      <td>64.2</td>\n",
       "      <td>2059794</td>\n",
       "      <td>1.322388e+06</td>\n",
       "    </tr>\n",
       "    <tr>\n",
       "      <th>4</th>\n",
       "      <td>Macedonia</td>\n",
       "      <td>Albanian</td>\n",
       "      <td>25.2</td>\n",
       "      <td>2059794</td>\n",
       "      <td>5.190681e+05</td>\n",
       "    </tr>\n",
       "  </tbody>\n",
       "</table>\n",
       "</div>"
      ],
      "text/plain": [
       "     Country    Ethnic_g Ethnic_pct  Population      Fraction\n",
       "0    Albania    Albanian         95     2800138  2.660131e+06\n",
       "1    Albania       Greek          3     2800138  8.400414e+04\n",
       "2     Greece       Greek         93    10816286  1.005915e+07\n",
       "3  Macedonia  Macedonian       64.2     2059794  1.322388e+06\n",
       "4  Macedonia    Albanian       25.2     2059794  5.190681e+05"
      ]
     },
     "execution_count": 747,
     "metadata": {},
     "output_type": "execute_result"
    }
   ],
   "source": [
    "# Getting xml data \n",
    "document = ET.parse( './data/mondial_database.xml' )\n",
    "doc = document.getroot()\n",
    "\n",
    "# empty list to start searching for needed objects\n",
    "eth_lst = []\n",
    "\n",
    "\n",
    "# finding name of countries\n",
    "for element in doc.iterfind('country'):\n",
    "    country = element.find('name').text\n",
    "    pltion = element.find('.//population[last()]').text\n",
    "    #print(country, c_pltion)\n",
    "    \n",
    "    # finding ethnic groups and their population's percentages \n",
    "    for eg in element.iterfind('ethnicgroup'):\n",
    "        eg_name = eg.text\n",
    "        #print(eg_name)                                 #Print comments are to check each step of the way\n",
    "        #print(c_pltion)\n",
    "        eg_perc = eg.attrib['percentage']\n",
    "        #print(eg_perc)\n",
    "        #print(c_pltion)\n",
    "        \n",
    "        \n",
    "        # Building list of values\n",
    "        if pltion != None:\n",
    "            eth_lst.append([country, eg_name, eg_perc, pltion])\n",
    "        #print(eth_lst)\n",
    "    \n",
    "\n",
    "# Building columns for list values. Also, building list into data frame.\n",
    "eg_df = pd.DataFrame(eth_lst, columns = ['Country', 'Ethnic_g', 'Ethnic_pct', 'Population'])\n",
    "\n",
    "# Turning text number values into numeric values.\n",
    "eg_df['Population'] = pd.to_numeric(eg_df['Population'])\n",
    "eg_df['Fraction'] = (eg_df['Ethnic_pct'].astype(float)/100) * eg_df['Population']\n",
    "\n",
    "eg_df.head(5)\n",
    "# On population letter 'e' represents (times 10), and numbers right after represent to that given power(ex. 06= to power of 6)"
   ]
  },
  {
   "cell_type": "code",
   "execution_count": 748,
   "metadata": {
    "collapsed": false
   },
   "outputs": [
    {
     "data": {
      "text/html": [
       "<div>\n",
       "<style>\n",
       "    .dataframe thead tr:only-child th {\n",
       "        text-align: right;\n",
       "    }\n",
       "\n",
       "    .dataframe thead th {\n",
       "        text-align: left;\n",
       "    }\n",
       "\n",
       "    .dataframe tbody tr th {\n",
       "        vertical-align: top;\n",
       "    }\n",
       "</style>\n",
       "<table border=\"1\" class=\"dataframe\">\n",
       "  <thead>\n",
       "    <tr style=\"text-align: right;\">\n",
       "      <th></th>\n",
       "      <th>Population</th>\n",
       "      <th>Fraction</th>\n",
       "    </tr>\n",
       "    <tr>\n",
       "      <th>Ethnic_g</th>\n",
       "      <th></th>\n",
       "      <th></th>\n",
       "    </tr>\n",
       "  </thead>\n",
       "  <tbody>\n",
       "    <tr>\n",
       "      <th>Han Chinese</th>\n",
       "      <td>1360720000</td>\n",
       "      <td>1.245059e+09</td>\n",
       "    </tr>\n",
       "    <tr>\n",
       "      <th>Indo-Aryan</th>\n",
       "      <td>1210854977</td>\n",
       "      <td>8.718156e+08</td>\n",
       "    </tr>\n",
       "    <tr>\n",
       "      <th>European</th>\n",
       "      <td>1157295639</td>\n",
       "      <td>4.948722e+08</td>\n",
       "    </tr>\n",
       "    <tr>\n",
       "      <th>African</th>\n",
       "      <td>975352746</td>\n",
       "      <td>3.183251e+08</td>\n",
       "    </tr>\n",
       "    <tr>\n",
       "      <th>Dravidian</th>\n",
       "      <td>1210854977</td>\n",
       "      <td>3.027137e+08</td>\n",
       "    </tr>\n",
       "    <tr>\n",
       "      <th>Mestizo</th>\n",
       "      <td>279743964</td>\n",
       "      <td>1.577344e+08</td>\n",
       "    </tr>\n",
       "    <tr>\n",
       "      <th>Bengali</th>\n",
       "      <td>149772364</td>\n",
       "      <td>1.467769e+08</td>\n",
       "    </tr>\n",
       "    <tr>\n",
       "      <th>Russian</th>\n",
       "      <td>322438406</td>\n",
       "      <td>1.318570e+08</td>\n",
       "    </tr>\n",
       "    <tr>\n",
       "      <th>Japanese</th>\n",
       "      <td>127298000</td>\n",
       "      <td>1.265342e+08</td>\n",
       "    </tr>\n",
       "    <tr>\n",
       "      <th>Malay</th>\n",
       "      <td>377500275</td>\n",
       "      <td>1.219936e+08</td>\n",
       "    </tr>\n",
       "  </tbody>\n",
       "</table>\n",
       "</div>"
      ],
      "text/plain": [
       "             Population      Fraction\n",
       "Ethnic_g                             \n",
       "Han Chinese  1360720000  1.245059e+09\n",
       "Indo-Aryan   1210854977  8.718156e+08\n",
       "European     1157295639  4.948722e+08\n",
       "African       975352746  3.183251e+08\n",
       "Dravidian    1210854977  3.027137e+08\n",
       "Mestizo       279743964  1.577344e+08\n",
       "Bengali       149772364  1.467769e+08\n",
       "Russian       322438406  1.318570e+08\n",
       "Japanese      127298000  1.265342e+08\n",
       "Malay         377500275  1.219936e+08"
      ]
     },
     "execution_count": 748,
     "metadata": {},
     "output_type": "execute_result"
    }
   ],
   "source": [
    "# Grouping by ethnicity to get the largest 10 overall populations.\n",
    "ethnic_df = eg_df.groupby('Ethnic_g').sum()\n",
    "et = ethnic_df.sort_values('Fraction', ascending=False)\n",
    "et.head(10)"
   ]
  },
  {
   "cell_type": "code",
   "execution_count": null,
   "metadata": {
    "collapsed": false
   },
   "outputs": [],
   "source": []
  },
  {
   "cell_type": "code",
   "execution_count": null,
   "metadata": {
    "collapsed": true
   },
   "outputs": [],
   "source": [
    "#4. name and country of a) longest river, b) largest lake and c) airport at highest elevation"
   ]
  },
  {
   "cell_type": "code",
   "execution_count": null,
   "metadata": {
    "collapsed": false
   },
   "outputs": [],
   "source": [
    "#4  a) Name and country of the longest river"
   ]
  },
  {
   "cell_type": "code",
   "execution_count": 749,
   "metadata": {
    "collapsed": false,
    "scrolled": false
   },
   "outputs": [
    {
     "data": {
      "text/html": [
       "<div>\n",
       "<style>\n",
       "    .dataframe thead tr:only-child th {\n",
       "        text-align: right;\n",
       "    }\n",
       "\n",
       "    .dataframe thead th {\n",
       "        text-align: left;\n",
       "    }\n",
       "\n",
       "    .dataframe tbody tr th {\n",
       "        vertical-align: top;\n",
       "    }\n",
       "</style>\n",
       "<table border=\"1\" class=\"dataframe\">\n",
       "  <thead>\n",
       "    <tr style=\"text-align: right;\">\n",
       "      <th></th>\n",
       "      <th>C_code</th>\n",
       "      <th>Country</th>\n",
       "    </tr>\n",
       "  </thead>\n",
       "  <tbody>\n",
       "    <tr>\n",
       "      <th>0</th>\n",
       "      <td>AL</td>\n",
       "      <td>Albania</td>\n",
       "    </tr>\n",
       "    <tr>\n",
       "      <th>1</th>\n",
       "      <td>GR</td>\n",
       "      <td>Greece</td>\n",
       "    </tr>\n",
       "    <tr>\n",
       "      <th>2</th>\n",
       "      <td>MK</td>\n",
       "      <td>Macedonia</td>\n",
       "    </tr>\n",
       "    <tr>\n",
       "      <th>3</th>\n",
       "      <td>SRB</td>\n",
       "      <td>Serbia</td>\n",
       "    </tr>\n",
       "    <tr>\n",
       "      <th>4</th>\n",
       "      <td>MNE</td>\n",
       "      <td>Montenegro</td>\n",
       "    </tr>\n",
       "  </tbody>\n",
       "</table>\n",
       "</div>"
      ],
      "text/plain": [
       "  C_code     Country\n",
       "0     AL     Albania\n",
       "1     GR      Greece\n",
       "2     MK   Macedonia\n",
       "3    SRB      Serbia\n",
       "4    MNE  Montenegro"
      ]
     },
     "execution_count": 749,
     "metadata": {},
     "output_type": "execute_result"
    }
   ],
   "source": [
    "document = ET.parse( './data/mondial_database.xml' )\n",
    "doc = document.getroot()\n",
    "# Build a diccionary with Countries' name and Countries' code.\n",
    "country_dict = {}\n",
    "\n",
    "for elements in doc.iterfind('country'):\n",
    "    country = elements.find('name').text\n",
    "    c_code = elements.attrib['car_code']\n",
    "    \n",
    "    \n",
    "    country_dict[c_code] = country\n",
    "    #print(country, c_code)\n",
    "    #country_lst.append([country, c_code])\n",
    "    \n",
    "# Building diccionary into a dataframe   \n",
    "country_df = pd.DataFrame.from_dict(country_dict, orient='index')\n",
    "country_df.reset_index(drop=False, inplace=True)\n",
    "country_df.columns = [ 'C_code', 'Country']\n",
    "\n",
    "country_df.head(5)\n",
    "    "
   ]
  },
  {
   "cell_type": "code",
   "execution_count": 750,
   "metadata": {
    "collapsed": false,
    "scrolled": false
   },
   "outputs": [
    {
     "data": {
      "text/html": [
       "<div>\n",
       "<style>\n",
       "    .dataframe thead tr:only-child th {\n",
       "        text-align: right;\n",
       "    }\n",
       "\n",
       "    .dataframe thead th {\n",
       "        text-align: left;\n",
       "    }\n",
       "\n",
       "    .dataframe tbody tr th {\n",
       "        vertical-align: top;\n",
       "    }\n",
       "</style>\n",
       "<table border=\"1\" class=\"dataframe\">\n",
       "  <thead>\n",
       "    <tr style=\"text-align: right;\">\n",
       "      <th></th>\n",
       "      <th>Country</th>\n",
       "      <th>C_code</th>\n",
       "      <th>River_name</th>\n",
       "      <th>River_l</th>\n",
       "    </tr>\n",
       "  </thead>\n",
       "  <tbody>\n",
       "    <tr>\n",
       "      <th>0</th>\n",
       "      <td>Iceland</td>\n",
       "      <td>IS</td>\n",
       "      <td>Thjorsa</td>\n",
       "      <td>230.0</td>\n",
       "    </tr>\n",
       "    <tr>\n",
       "      <th>1</th>\n",
       "      <td>Iceland</td>\n",
       "      <td>IS</td>\n",
       "      <td>Joekulsa a Fjoellum</td>\n",
       "      <td>206.0</td>\n",
       "    </tr>\n",
       "    <tr>\n",
       "      <th>2</th>\n",
       "      <td>Norway</td>\n",
       "      <td>N</td>\n",
       "      <td>Glomma</td>\n",
       "      <td>604.0</td>\n",
       "    </tr>\n",
       "    <tr>\n",
       "      <th>3</th>\n",
       "      <td>Norway</td>\n",
       "      <td>N</td>\n",
       "      <td>Lagen</td>\n",
       "      <td>322.0</td>\n",
       "    </tr>\n",
       "    <tr>\n",
       "      <th>4</th>\n",
       "      <td>Sweden</td>\n",
       "      <td>S</td>\n",
       "      <td>Goetaaelv</td>\n",
       "      <td>93.0</td>\n",
       "    </tr>\n",
       "  </tbody>\n",
       "</table>\n",
       "</div>"
      ],
      "text/plain": [
       "   Country C_code           River_name  River_l\n",
       "0  Iceland     IS              Thjorsa    230.0\n",
       "1  Iceland     IS  Joekulsa a Fjoellum    206.0\n",
       "2   Norway      N               Glomma    604.0\n",
       "3   Norway      N                Lagen    322.0\n",
       "4   Sweden      S            Goetaaelv     93.0"
      ]
     },
     "execution_count": 750,
     "metadata": {},
     "output_type": "execute_result"
    }
   ],
   "source": [
    "# New list to append the attributes of rivers\n",
    "river_lst = [] \n",
    "    \n",
    "for elements in doc.iterfind('river'):\n",
    "        river_n = elements.find('name').text\n",
    "        river_lng = elements.find('length')\n",
    "        #print(river_n, river_lng)\n",
    "        if river_lng != None:\n",
    "            river_l = river_lng.text\n",
    "            \n",
    "            \n",
    "        # There is more than one country for the same exact river, so they\n",
    "        # need to be split individually istead of being group all together through\n",
    "        # the .split() function.\n",
    "        for code in elements.attrib['country'].split():\n",
    "            country_r_code = country_dict[code]\n",
    "        \n",
    "            \n",
    "        river_lst.append([country_r_code, code, river_n,float(river_l)])\n",
    "#print(river_lst)\n",
    "\n",
    "\n",
    "\n",
    "# Build new dataframe for river_lst\n",
    "labels = ['Country', 'C_code', 'River_name', 'River_l']     \n",
    "rivers_df = pd.DataFrame(river_lst, columns=labels )\n",
    "rivers_df.head()"
   ]
  },
  {
   "cell_type": "code",
   "execution_count": 751,
   "metadata": {
    "collapsed": false,
    "scrolled": true
   },
   "outputs": [
    {
     "data": {
      "text/html": [
       "<div>\n",
       "<style>\n",
       "    .dataframe thead tr:only-child th {\n",
       "        text-align: right;\n",
       "    }\n",
       "\n",
       "    .dataframe thead th {\n",
       "        text-align: left;\n",
       "    }\n",
       "\n",
       "    .dataframe tbody tr th {\n",
       "        vertical-align: top;\n",
       "    }\n",
       "</style>\n",
       "<table border=\"1\" class=\"dataframe\">\n",
       "  <thead>\n",
       "    <tr style=\"text-align: right;\">\n",
       "      <th></th>\n",
       "      <th>Country</th>\n",
       "      <th>C_code</th>\n",
       "      <th>River_name</th>\n",
       "      <th>River_l</th>\n",
       "    </tr>\n",
       "  </thead>\n",
       "  <tbody>\n",
       "    <tr>\n",
       "      <th>174</th>\n",
       "      <td>Peru</td>\n",
       "      <td>PE</td>\n",
       "      <td>Amazonas</td>\n",
       "      <td>6448.0</td>\n",
       "    </tr>\n",
       "  </tbody>\n",
       "</table>\n",
       "</div>"
      ],
      "text/plain": [
       "    Country C_code River_name  River_l\n",
       "174    Peru     PE   Amazonas   6448.0"
      ]
     },
     "execution_count": 751,
     "metadata": {},
     "output_type": "execute_result"
    }
   ],
   "source": [
    "# Obtaining country and name of the longest river.\n",
    "lngest_r = rivers_df.sort_values('River_l', ascending=False)\n",
    "lngest_r.head(1)"
   ]
  },
  {
   "cell_type": "code",
   "execution_count": null,
   "metadata": {
    "collapsed": false
   },
   "outputs": [],
   "source": []
  },
  {
   "cell_type": "code",
   "execution_count": null,
   "metadata": {
    "collapsed": true
   },
   "outputs": [],
   "source": [
    "# b) Name and Country of largest lake."
   ]
  },
  {
   "cell_type": "code",
   "execution_count": 753,
   "metadata": {
    "collapsed": false
   },
   "outputs": [
    {
     "data": {
      "text/html": [
       "<div>\n",
       "<style>\n",
       "    .dataframe thead tr:only-child th {\n",
       "        text-align: right;\n",
       "    }\n",
       "\n",
       "    .dataframe thead th {\n",
       "        text-align: left;\n",
       "    }\n",
       "\n",
       "    .dataframe tbody tr th {\n",
       "        vertical-align: top;\n",
       "    }\n",
       "</style>\n",
       "<table border=\"1\" class=\"dataframe\">\n",
       "  <thead>\n",
       "    <tr style=\"text-align: right;\">\n",
       "      <th></th>\n",
       "      <th>Lake_Country</th>\n",
       "      <th>Country_code</th>\n",
       "      <th>Lake_name</th>\n",
       "      <th>Lake_area</th>\n",
       "    </tr>\n",
       "  </thead>\n",
       "  <tbody>\n",
       "    <tr>\n",
       "      <th>54</th>\n",
       "      <td>Turkmenistan</td>\n",
       "      <td>TM</td>\n",
       "      <td>Caspian Sea</td>\n",
       "      <td>386400.0</td>\n",
       "    </tr>\n",
       "  </tbody>\n",
       "</table>\n",
       "</div>"
      ],
      "text/plain": [
       "    Lake_Country Country_code    Lake_name  Lake_area\n",
       "54  Turkmenistan           TM  Caspian Sea   386400.0"
      ]
     },
     "execution_count": 753,
     "metadata": {},
     "output_type": "execute_result"
    }
   ],
   "source": [
    "# Build list to loop through different lakes' characters.\n",
    "lake_lst = []\n",
    "\n",
    "for elements in doc.iterfind('lake'):\n",
    "    lake_n = elements.find('name').text\n",
    "    lake_a = elements.find('area')\n",
    "    \n",
    "    # Condtion, igonore None value.\n",
    "    if lake_a != None:\n",
    "        lake_area = lake_a.text\n",
    "        \n",
    "        \n",
    "         #There is more than one country for the same exact river, so they\n",
    "        # need to be split individually istead of being group all together through\n",
    "        # the .split() function.    \n",
    "    for code in elements.attrib['country'].split():\n",
    "        l_cntry = country_dict[code]\n",
    "        \n",
    "    lake_lst.append([l_cntry, code, lake_n, float(lake_area)])\n",
    "    \n",
    "#print(lake_lst)\n",
    "\n",
    "labels = ['Lake_Country','Country_code', 'Lake_name','Lake_area']\n",
    "lakes_df = pd.DataFrame(lake_lst, columns=labels)\n",
    "longest_lake = lakes_df.sort_values('Lake_area', ascending=False)\n",
    "# Name and country of the largest lake\n",
    "longest_lake.head(1)"
   ]
  },
  {
   "cell_type": "code",
   "execution_count": null,
   "metadata": {
    "collapsed": true
   },
   "outputs": [],
   "source": []
  },
  {
   "cell_type": "code",
   "execution_count": null,
   "metadata": {
    "collapsed": true
   },
   "outputs": [],
   "source": [
    "# c) Name and Country of airport at highest elevation"
   ]
  },
  {
   "cell_type": "code",
   "execution_count": null,
   "metadata": {
    "collapsed": false
   },
   "outputs": [],
   "source": [
    "# Build list to append different airports' characteristics.\n",
    "airpt_lst = []\n",
    "\n",
    "for elements in doc.iterfind('airport'):\n",
    "    airport_n = elements.find('name').text\n",
    "    airport_ele_v = elements.find('elevation')\n",
    "    \n",
    "    if airport_ele_v != None:\n",
    "        airp_ele = airport_ele_v.text\n",
    "        \n",
    "    for code in elements.attrib['country'].split():\n",
    "        country = country_dict[code]\n",
    "        \n",
    "    airpt_lst.append([country, code, airport_n, airp_ele])\n",
    "    \n",
    "#print(airpt_lst)"
   ]
  },
  {
   "cell_type": "code",
   "execution_count": 754,
   "metadata": {
    "collapsed": false
   },
   "outputs": [
    {
     "data": {
      "text/html": [
       "<div>\n",
       "<style>\n",
       "    .dataframe thead tr:only-child th {\n",
       "        text-align: right;\n",
       "    }\n",
       "\n",
       "    .dataframe thead th {\n",
       "        text-align: left;\n",
       "    }\n",
       "\n",
       "    .dataframe tbody tr th {\n",
       "        vertical-align: top;\n",
       "    }\n",
       "</style>\n",
       "<table border=\"1\" class=\"dataframe\">\n",
       "  <thead>\n",
       "    <tr style=\"text-align: right;\">\n",
       "      <th></th>\n",
       "      <th>Country</th>\n",
       "      <th>Country_code</th>\n",
       "      <th>Airport_name</th>\n",
       "      <th>Airport_elevetion</th>\n",
       "    </tr>\n",
       "  </thead>\n",
       "  <tbody>\n",
       "    <tr>\n",
       "      <th>80</th>\n",
       "      <td>Bolivia</td>\n",
       "      <td>BOL</td>\n",
       "      <td>El Alto Intl</td>\n",
       "      <td>4063.0</td>\n",
       "    </tr>\n",
       "  </tbody>\n",
       "</table>\n",
       "</div>"
      ],
      "text/plain": [
       "    Country Country_code  Airport_name  Airport_elevetion\n",
       "80  Bolivia          BOL  El Alto Intl             4063.0"
      ]
     },
     "execution_count": 754,
     "metadata": {},
     "output_type": "execute_result"
    }
   ],
   "source": [
    "# Build airpt_lst into dataframe, and defining different columns\n",
    "labels = ['Country', 'Country_code','Airport_name', 'Airport_elevetion']\n",
    "ndf = pd.DataFrame(airpt_lst, columns = labels)\n",
    "# Change 'Airport_elevetion' values into numeric values to be able to sort.\n",
    "ndf['Airport_elevetion'] = pd.to_numeric(ndf['Airport_elevetion'])\n",
    "airport_hgest = ndf.sort_values('Airport_elevetion', ascending=False)\n",
    "# Name and Country of airport at highest elevation\n",
    "airport_hgest.head(1)"
   ]
  },
  {
   "cell_type": "code",
   "execution_count": null,
   "metadata": {
    "collapsed": true
   },
   "outputs": [],
   "source": []
  },
  {
   "cell_type": "code",
   "execution_count": null,
   "metadata": {
    "collapsed": true
   },
   "outputs": [],
   "source": []
  },
  {
   "cell_type": "code",
   "execution_count": null,
   "metadata": {
    "collapsed": true
   },
   "outputs": [],
   "source": []
  },
  {
   "cell_type": "code",
   "execution_count": null,
   "metadata": {
    "collapsed": true
   },
   "outputs": [],
   "source": []
  }
 ],
 "metadata": {
  "kernelspec": {
   "display_name": "Python 3",
   "language": "python",
   "name": "python3"
  },
  "language_info": {
   "codemirror_mode": {
    "name": "ipython",
    "version": 3
   },
   "file_extension": ".py",
   "mimetype": "text/x-python",
   "name": "python",
   "nbconvert_exporter": "python",
   "pygments_lexer": "ipython3",
   "version": "3.6.0"
  }
 },
 "nbformat": 4,
 "nbformat_minor": 0
}
