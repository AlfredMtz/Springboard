{
 "cells": [
  {
   "cell_type": "markdown",
   "metadata": {},
   "source": [
    "# True Normal Human Body Temperature"
   ]
  },
  {
   "cell_type": "markdown",
   "metadata": {},
   "source": [
    "In this exploratory data analysis I will try to uncover wether the beleive normal body temperature is in fact what is currently beleive to be. The mean normal body temperature was held to be 37 ∘ C or 98.6 ∘ F for more than 120 years since it was first conceptualized and reported by Carl Wunderlich in a famous 1868 book. But, is this value statistically speaking correct?"
   ]
  },
  {
   "cell_type": "markdown",
   "metadata": {},
   "source": [
    "#### Needed modules:"
   ]
  },
  {
   "cell_type": "code",
   "execution_count": 1,
   "metadata": {},
   "outputs": [
    {
     "name": "stderr",
     "output_type": "stream",
     "text": [
      "C:\\Users\\Alfredo\\Anaconda3\\lib\\site-packages\\statsmodels\\compat\\pandas.py:56: FutureWarning: The pandas.core.datetools module is deprecated and will be removed in a future version. Please use the pandas.tseries module instead.\n",
      "  from pandas.core import datetools\n"
     ]
    }
   ],
   "source": [
    "import pandas as pd\n",
    "import matplotlib.pyplot as plt\n",
    "%matplotlib inline\n",
    "import numpy as np\n",
    "import scipy.stats\n",
    "import math\n",
    "from scipy import stats\n",
    "\n",
    "# For qqplot\n",
    "import statsmodels.api as sm\n",
    "from scipy.stats.mstats import zscore"
   ]
  },
  {
   "cell_type": "markdown",
   "metadata": {},
   "source": [
    "### 1. Inspecting the sample data:"
   ]
  },
  {
   "cell_type": "code",
   "execution_count": 2,
   "metadata": {},
   "outputs": [
    {
     "data": {
      "text/html": [
       "<div>\n",
       "<style scoped>\n",
       "    .dataframe tbody tr th:only-of-type {\n",
       "        vertical-align: middle;\n",
       "    }\n",
       "\n",
       "    .dataframe tbody tr th {\n",
       "        vertical-align: top;\n",
       "    }\n",
       "\n",
       "    .dataframe thead th {\n",
       "        text-align: right;\n",
       "    }\n",
       "</style>\n",
       "<table border=\"1\" class=\"dataframe\">\n",
       "  <thead>\n",
       "    <tr style=\"text-align: right;\">\n",
       "      <th></th>\n",
       "      <th>temperature</th>\n",
       "      <th>gender</th>\n",
       "      <th>heart_rate</th>\n",
       "    </tr>\n",
       "  </thead>\n",
       "  <tbody>\n",
       "    <tr>\n",
       "      <th>0</th>\n",
       "      <td>99.3</td>\n",
       "      <td>F</td>\n",
       "      <td>68.0</td>\n",
       "    </tr>\n",
       "    <tr>\n",
       "      <th>1</th>\n",
       "      <td>98.4</td>\n",
       "      <td>F</td>\n",
       "      <td>81.0</td>\n",
       "    </tr>\n",
       "    <tr>\n",
       "      <th>2</th>\n",
       "      <td>97.8</td>\n",
       "      <td>M</td>\n",
       "      <td>73.0</td>\n",
       "    </tr>\n",
       "    <tr>\n",
       "      <th>3</th>\n",
       "      <td>99.2</td>\n",
       "      <td>F</td>\n",
       "      <td>66.0</td>\n",
       "    </tr>\n",
       "    <tr>\n",
       "      <th>4</th>\n",
       "      <td>98.0</td>\n",
       "      <td>F</td>\n",
       "      <td>73.0</td>\n",
       "    </tr>\n",
       "  </tbody>\n",
       "</table>\n",
       "</div>"
      ],
      "text/plain": [
       "   temperature gender  heart_rate\n",
       "0         99.3      F        68.0\n",
       "1         98.4      F        81.0\n",
       "2         97.8      M        73.0\n",
       "3         99.2      F        66.0\n",
       "4         98.0      F        73.0"
      ]
     },
     "execution_count": 2,
     "metadata": {},
     "output_type": "execute_result"
    }
   ],
   "source": [
    "df = pd.read_csv('human_body_temperature.csv')\n",
    "df.head()"
   ]
  },
  {
   "cell_type": "code",
   "execution_count": 3,
   "metadata": {},
   "outputs": [
    {
     "name": "stdout",
     "output_type": "stream",
     "text": [
      "<class 'pandas.core.frame.DataFrame'>\n",
      "RangeIndex: 130 entries, 0 to 129\n",
      "Data columns (total 3 columns):\n",
      "temperature    130 non-null float64\n",
      "gender         130 non-null object\n",
      "heart_rate     130 non-null float64\n",
      "dtypes: float64(2), object(1)\n",
      "memory usage: 3.1+ KB\n"
     ]
    }
   ],
   "source": [
    "df.info()"
   ]
  },
  {
   "cell_type": "code",
   "execution_count": 4,
   "metadata": {},
   "outputs": [
    {
     "data": {
      "text/plain": [
       "count    130.000000\n",
       "mean      98.249231\n",
       "std        0.733183\n",
       "min       96.300000\n",
       "25%       97.800000\n",
       "50%       98.300000\n",
       "75%       98.700000\n",
       "max      100.800000\n",
       "Name: temperature, dtype: float64"
      ]
     },
     "execution_count": 4,
     "metadata": {},
     "output_type": "execute_result"
    }
   ],
   "source": [
    "df.temperature.describe()"
   ]
  },
  {
   "cell_type": "markdown",
   "metadata": {},
   "source": [
    "---\n",
    "\n",
    "### 2. Validating sample data normality in three different ways:"
   ]
  },
  {
   "cell_type": "markdown",
   "metadata": {},
   "source": [
    "We have a fairly large sample of 130 counts which is greater then most require(n>30). Also, the data is consider to be random and independent.\n",
    "\n",
    "\n",
    "To have a stronger sence of normality in this data, I will be using three different methods; Chi-square goodness-of-fit test, a histogram, and a quantile-quantile plot."
   ]
  },
  {
   "cell_type": "markdown",
   "metadata": {},
   "source": [
    "#### Chi-square goodness-of-fit tests:"
   ]
  },
  {
   "cell_type": "markdown",
   "metadata": {},
   "source": [
    "Chi-square statistic gives us an idea of the chances of getting this statistic value coming from the sample just by random chance alone. \n",
    "\n",
    "**Null hypothesis:** Sample data is coming from a normal distribution\n",
    "\n",
    "**Alternative hypothesis:** Sample data is not coming from a normal distribution\n",
    "\n",
    "\n",
    "If the value is above a certain threshold(usually 0.05), we will assume that we have a normal sample data distribution"
   ]
  },
  {
   "cell_type": "code",
   "execution_count": 5,
   "metadata": {},
   "outputs": [
    {
     "data": {
      "text/plain": [
       "NormaltestResult(statistic=2.7038014333192031, pvalue=0.2587479863488254)"
      ]
     },
     "execution_count": 5,
     "metadata": {},
     "output_type": "execute_result"
    }
   ],
   "source": [
    "temp = df['temperature']\n",
    "stats.normaltest(temp)"
   ]
  },
  {
   "cell_type": "markdown",
   "metadata": {},
   "source": [
    "Base on this test, we can assume that this data is coming from a normal distribution since the resulting p-value of .258 is much above our threshold value of .05."
   ]
  },
  {
   "cell_type": "markdown",
   "metadata": {},
   "source": [
    "#### Histogram distribution:"
   ]
  },
  {
   "cell_type": "code",
   "execution_count": 6,
   "metadata": {},
   "outputs": [
    {
     "data": {
      "image/png": "[encoded data removed]",
      "text/plain": [
       "<matplotlib.figure.Figure at 0x1a9e2ec16d8>"
      ]
     },
     "metadata": {},
     "output_type": "display_data"
    }
   ],
   "source": [
    "temp_val = df.temperature.sort_values()\n",
    "bin_val = np.arange(start=temp.min(), stop=temp.max(), step= .1)\n",
    "plt.hist(temp_val, bin_val)\n",
    "plt.xlabel('Degree');\n",
    "plt.ylabel('Frequency')\n",
    "plt. title('Body Temperature Distribution')\n",
    "plt.show()"
   ]
  },
  {
   "cell_type": "markdown",
   "metadata": {},
   "source": [
    "Histogram shows as a fairly normal distribution."
   ]
  },
  {
   "cell_type": "markdown",
   "metadata": {},
   "source": [
    "#### Standard Quantile-Quantile plots"
   ]
  },
  {
   "cell_type": "code",
   "execution_count": 7,
   "metadata": {},
   "outputs": [
    {
     "data": {
      "image/png": "[encoded data removed]",
      "text/plain": [
       "<matplotlib.figure.Figure at 0x1a9e2ec1080>"
      ]
     },
     "execution_count": 7,
     "metadata": {},
     "output_type": "execute_result"
    },
    {
     "data": {
      "image/png": "[encoded data removed]",
      "text/plain": [
       "<matplotlib.figure.Figure at 0x1a9e2ec1080>"
      ]
     },
     "metadata": {},
     "output_type": "display_data"
    }
   ],
   "source": [
    "zscores = zscore(temp)\n",
    "sm.qqplot(zscores, line='q')"
   ]
  },
  {
   "cell_type": "markdown",
   "metadata": {},
   "source": [
    "#### Conclusion:\n",
    "\n",
    "- Based on the chi-square test the sample distribution of our data is a good representation of the population.\n",
    "- Also, the histogram and quantile-quantile plot shows a normal distribuion of the data."
   ]
  },
  {
   "cell_type": "markdown",
   "metadata": {},
   "source": [
    "---\n",
    "\n",
    "### 3. Creating the statistical test:"
   ]
  },
  {
   "cell_type": "markdown",
   "metadata": {},
   "source": [
    "Again, the objective of this test is to find whether there is statistical prove that the human body temperature is actually what is claimed to be."
   ]
  },
  {
   "cell_type": "markdown",
   "metadata": {},
   "source": [
    "#### Process:\n",
    "\n",
    "- I will be comparing the sample human body temperature mean of 98.3 degrees against the currently known human body temperature of 98.6 degrees, using a one-sample test since we are not trying to compare from two different groups rather comparing our sample average temperature to the historical known body temperature.\n",
    "\n",
    "\n",
    "- Eventhough my sample data is greater then 30, I do not have access to the population's human body temperature standard deviation so I will be passing on a z-test and rather perform a t-test using a sample stadard deviation and the rest of the needed variables.\n",
    "\n",
    "\n",
    "- And lastly, I will be using a standard significance level of 0.05 to whether reject or fail to reject my null hypothesis."
   ]
  },
  {
   "cell_type": "markdown",
   "metadata": {},
   "source": [
    "### T-Test"
   ]
  },
  {
   "cell_type": "markdown",
   "metadata": {},
   "source": [
    "**Null Hypothesis:** The average human temperature is in fact 98.6\n",
    "\n",
    "**Alternative Hypothesis:** The average human temperature is something different then 98.6\n",
    "\n",
    "**Alpha:** 0.05"
   ]
  },
  {
   "cell_type": "markdown",
   "metadata": {},
   "source": [
    "First, in order to find the probability that our sample mean value of 98.3 could have happened randomly by chance alone, I will find the t critical value as shown below:"
   ]
  },
  {
   "cell_type": "markdown",
   "metadata": {},
   "source": [
    "$$t-statistic = \\frac{\\bar{x} - \\mu}{\\frac{S}{\\sqrt{n}}}$$"
   ]
  },
  {
   "cell_type": "code",
   "execution_count": 8,
   "metadata": {},
   "outputs": [
    {
     "data": {
      "text/plain": [
       "-5.454823292364079"
      ]
     },
     "execution_count": 8,
     "metadata": {},
     "output_type": "execute_result"
    }
   ],
   "source": [
    "sample_mean = df.temperature.mean()\n",
    "sample_stdev = df.temperature.std()\n",
    "sample_size = len(df.temperature)\n",
    "dg_freedom = sample_size - 1\n",
    "\n",
    "t_value = (sample_mean - 98.6) / (sample_stdev/math.sqrt(sample_size))\n",
    "t_value"
   ]
  },
  {
   "cell_type": "markdown",
   "metadata": {},
   "source": [
    "t-distributions are symmetric and t-tables are based on positive values, therefore we use the t-value on the right tale of the distribution which is exactly the same, but positive (5.454823292364079)."
   ]
  },
  {
   "cell_type": "markdown",
   "metadata": {},
   "source": [
    "Also, the basis of the t-value is that the average human body temperature from our sample is -5.454823292364079 and 5.454823292364079 standard errors below and above what we expected to be(an average of 98.6) if the null hypothesis is true."
   ]
  },
  {
   "cell_type": "markdown",
   "metadata": {},
   "source": [
    "With this value on hand, we can now refer to the below t-table to find the probability of our sample mean of 98.3 happening randomly by chance alone, assuming that the true average human body temperature is 98.6.\n",
    "\n",
    "**To do this:**\n",
    "1. We use the infinity symbol since our degrees of freedom of 129 are not represented\n",
    "2. Then follow the row to 3.291 value since this is the closest value represented to 5.454823292364079\n",
    "3. And, finally from 3.291 follow upwards to the two-tail probability value(p-value) of .001"
   ]
  },
  {
   "cell_type": "markdown",
   "metadata": {},
   "source": [
    "<img src=\"https://www2.palomar.edu/users/rmorrissette/Lectures/Stats/ttests/TTable.jpg\" width=\"400\" />"
   ]
  },
  {
   "cell_type": "markdown",
   "metadata": {},
   "source": [
    "**p-value:**  .001 or (.1%)"
   ]
  },
  {
   "cell_type": "markdown",
   "metadata": {},
   "source": [
    "This whole process could also be simplify and the t-statistic value and p-value can more rapidly be obtain by using the below scipy, one some t-test module:"
   ]
  },
  {
   "cell_type": "code",
   "execution_count": 9,
   "metadata": {},
   "outputs": [
    {
     "data": {
      "text/plain": [
       "Ttest_1sampResult(statistic=-5.4548232923645195, pvalue=2.4106320415561276e-07)"
      ]
     },
     "execution_count": 9,
     "metadata": {},
     "output_type": "execute_result"
    }
   ],
   "source": [
    "scipy.stats.ttest_1samp(temp, 98.6)"
   ]
  },
  {
   "cell_type": "markdown",
   "metadata": {},
   "source": [
    "If we look at the p-value using this module, we get a more accurate results as it shows how 0.00000024106320415561276 or .000024% is the precise probability of my sample average human body temperature happening by random chance alone."
   ]
  },
  {
   "cell_type": "markdown",
   "metadata": {},
   "source": [
    "**Conclusion:** \n",
    "\n",
    "- Looking at my obtained p-value of .000024% and significance level of 5%, we can now conclude that there is high evidence to reject the null hypothesis in favor for the alternative.\n",
    "\n",
    "- The chances that we obtained an average human body temperature of 98.3 do to chance alone is .000024%, which is extremly lower then our significance level. Making us beleive that the beleived human body temperature of 98.6 is not in fact the true population human body average temperature."
   ]
  },
  {
   "cell_type": "markdown",
   "metadata": {},
   "source": [
    "### Further information:\n",
    "\n",
    "- If the population standard deviation is present, it is prefered to use a z-test:\n",
    "$$Z-test = \\frac{\\bar{x} - \\mu}{\\frac{\\sigma}{\\sqrt{n}}}$$\n",
    "\n",
    "This will result in a more accurate validated test. Since we will not have the need to estimate the population standard deviation with the sample standard deviation."
   ]
  },
  {
   "cell_type": "code",
   "execution_count": 10,
   "metadata": {},
   "outputs": [
    {
     "name": "stdout",
     "output_type": "stream",
     "text": [
      "z_score: -5.45482329236\n"
     ]
    }
   ],
   "source": [
    "sample_mean = df.temperature.mean()\n",
    "sample_stdev = df.temperature.std()\n",
    "sample_size = len(df.temperature)\n",
    "\n",
    "# instead of using a sample_stdev, you would use the real population standard deviation\n",
    "z_score = ((sample_mean - 98.6)/(sample_stdev/np.sqrt(sample_size)))\n",
    "\n",
    "print('z_score:', z_score)"
   ]
  },
  {
   "cell_type": "markdown",
   "metadata": {},
   "source": [
    "<img src=\"http://www.z-table.com/uploads/2/1/7/9/21795380/9340559_orig.png\" width=\"400\" />"
   ]
  },
  {
   "cell_type": "markdown",
   "metadata": {},
   "source": [
    "our p-value can be found by indexing to our z-score through the first column down, then getting the hundred decimal point shown in the first row and taking the p-value where these two cross paths.\n",
    "\n",
    "However this can be much faster using a software function like that one below:"
   ]
  },
  {
   "cell_type": "code",
   "execution_count": 11,
   "metadata": {},
   "outputs": [
    {
     "name": "stdout",
     "output_type": "stream",
     "text": [
      "p_value: 4.90215701411e-08\n"
     ]
    }
   ],
   "source": [
    "from scipy import stats\n",
    "\n",
    "p_value = scipy.stats.norm.sf(abs(z_score))*2\n",
    "print('p_value:', p_value)"
   ]
  },
  {
   "cell_type": "markdown",
   "metadata": {},
   "source": [
    "---\n",
    "\n",
    "### Let's now find out at what temperature should we consider someone's temperature to be \"abnormal!"
   ]
  },
  {
   "cell_type": "markdown",
   "metadata": {},
   "source": [
    "For this, we are basically determining that for everytime we take a sample of the population we can have a 95% confidence that the true normal human body temperature will be within certain range. So we need to find these ranges (confidence intervals)."
   ]
  },
  {
   "cell_type": "markdown",
   "metadata": {},
   "source": [
    "#### Confidence Intervals:"
   ]
  },
  {
   "cell_type": "code",
   "execution_count": 12,
   "metadata": {},
   "outputs": [
    {
     "name": "stdout",
     "output_type": "stream",
     "text": [
      "t-critical value: 1.96\n"
     ]
    }
   ],
   "source": [
    "# Estimated standard deviation from the mean\n",
    "t_critical = round(scipy.stats.t.ppf(1-0.025, 999), 2)\n",
    "print(\"t-critical value:\", t_critical)  "
   ]
  },
  {
   "cell_type": "markdown",
   "metadata": {},
   "source": [
    "- This t-critical value can also be manually found under the above t-table following the one-tail(.025) or two-tail(.05) rows and infinity degrees of freedom"
   ]
  },
  {
   "cell_type": "code",
   "execution_count": 13,
   "metadata": {},
   "outputs": [
    {
     "name": "stdout",
     "output_type": "stream",
     "text": [
      "Sample mean:  98.24923076923078\n",
      "Sample stdev:  0.7331831580389454\n",
      "Sample size:  130\n",
      "t-critical value:  1.96\n",
      "Margin or error:  0.126036657002\n",
      "Confidence interval at 95% : Lower bound: 98.1231941122 Upper bound: 98.3752674262\n"
     ]
    }
   ],
   "source": [
    "sample_mean = df.temperature.mean()\n",
    "sample_stdev = df.temperature.std()\n",
    "sample_size = len(df.temperature)\n",
    "\n",
    "# Estimate of true standard deviation for t-test\n",
    "sigma = sample_stdev/math.sqrt(sample_size)\n",
    "margin_of_error = t_critical * sigma\n",
    "\n",
    "# Confidence Intervals\n",
    "lower_bound = sample_mean - margin_of_error\n",
    "upper_bound = sample_mean + margin_of_error\n",
    "\n",
    "print(\"Sample mean: \", sample_mean)\n",
    "print(\"Sample stdev: \", sample_stdev)\n",
    "print(\"Sample size: \", sample_size)\n",
    "print(\"t-critical value: \", t_critical)\n",
    "print(\"Margin or error: \", margin_of_error)\n",
    "print(\"Confidence interval at 95% :\", \"Lower bound:\", lower_bound, \"Upper bound:\", upper_bound)"
   ]
  },
  {
   "cell_type": "markdown",
   "metadata": {},
   "source": [
    "Also, instead of doing this manually; finding confidence intervals can be found in an easier manner by using scipy stat interval module as shown below:"
   ]
  },
  {
   "cell_type": "code",
   "execution_count": 14,
   "metadata": {},
   "outputs": [
    {
     "data": {
      "text/plain": [
       "(98.122002905608042, 98.376458632853513)"
      ]
     },
     "execution_count": 14,
     "metadata": {},
     "output_type": "execute_result"
    }
   ],
   "source": [
    "scipy.stats.t.interval(alpha = 0.95,        # Confidence level\n",
    "                 df= 129,                   # Degrees of freedom\n",
    "                 loc = sample_mean,         # Sample mean\n",
    "                 scale = sigma)             # Standard deviation estimate"
   ]
  },
  {
   "cell_type": "markdown",
   "metadata": {},
   "source": [
    "**Conclusion:** \n",
    "\n",
    "- Any temperature above or below these threshold values (98.1 - 98.4) should be further investigated, and could potentially be consider as abnormal temperatures.\n",
    "\n",
    "- We have a 95% confidence that my random sample mean of 98.25 is within .13 of the true sampling distribution mean(population mean). In other words, we can say that there is a 95% chance that the true population mean is within .13 of our sample mean."
   ]
  },
  {
   "cell_type": "markdown",
   "metadata": {},
   "source": [
    "### Let's now find out if there is a significant difference between males and females in normal temperature!"
   ]
  },
  {
   "cell_type": "markdown",
   "metadata": {},
   "source": [
    "Since now we are trying to compare whether the averages of two groups have a significant differences between them (males and females), I will be using an independent two sample t-test.\n",
    "\n",
    "**Null hypothesis:** Males normal temperature = Females normal temperature\n",
    "\n",
    "**Alternitive hypothesis:** Males normal temperature $\\neq$ Female normal temperature\n",
    "\n",
    "**Assuming a significance level of:** .05"
   ]
  },
  {
   "cell_type": "markdown",
   "metadata": {},
   "source": [
    "Let's first split the data into genders:"
   ]
  },
  {
   "cell_type": "code",
   "execution_count": 15,
   "metadata": {},
   "outputs": [],
   "source": [
    "male_s = df[df['gender'] == 'M']\n",
    "female_s = df[df['gender'] == 'F']"
   ]
  },
  {
   "cell_type": "code",
   "execution_count": 16,
   "metadata": {},
   "outputs": [
    {
     "data": {
      "text/html": [
       "<div>\n",
       "<style scoped>\n",
       "    .dataframe tbody tr th:only-of-type {\n",
       "        vertical-align: middle;\n",
       "    }\n",
       "\n",
       "    .dataframe tbody tr th {\n",
       "        vertical-align: top;\n",
       "    }\n",
       "\n",
       "    .dataframe thead th {\n",
       "        text-align: right;\n",
       "    }\n",
       "</style>\n",
       "<table border=\"1\" class=\"dataframe\">\n",
       "  <thead>\n",
       "    <tr style=\"text-align: right;\">\n",
       "      <th></th>\n",
       "      <th>temperature</th>\n",
       "      <th>gender</th>\n",
       "      <th>heart_rate</th>\n",
       "    </tr>\n",
       "  </thead>\n",
       "  <tbody>\n",
       "    <tr>\n",
       "      <th>2</th>\n",
       "      <td>97.8</td>\n",
       "      <td>M</td>\n",
       "      <td>73.0</td>\n",
       "    </tr>\n",
       "    <tr>\n",
       "      <th>5</th>\n",
       "      <td>99.2</td>\n",
       "      <td>M</td>\n",
       "      <td>83.0</td>\n",
       "    </tr>\n",
       "  </tbody>\n",
       "</table>\n",
       "</div>"
      ],
      "text/plain": [
       "   temperature gender  heart_rate\n",
       "2         97.8      M        73.0\n",
       "5         99.2      M        83.0"
      ]
     },
     "execution_count": 16,
     "metadata": {},
     "output_type": "execute_result"
    }
   ],
   "source": [
    "male_s.head(2)"
   ]
  },
  {
   "cell_type": "code",
   "execution_count": 17,
   "metadata": {},
   "outputs": [
    {
     "data": {
      "text/html": [
       "<div>\n",
       "<style scoped>\n",
       "    .dataframe tbody tr th:only-of-type {\n",
       "        vertical-align: middle;\n",
       "    }\n",
       "\n",
       "    .dataframe tbody tr th {\n",
       "        vertical-align: top;\n",
       "    }\n",
       "\n",
       "    .dataframe thead th {\n",
       "        text-align: right;\n",
       "    }\n",
       "</style>\n",
       "<table border=\"1\" class=\"dataframe\">\n",
       "  <thead>\n",
       "    <tr style=\"text-align: right;\">\n",
       "      <th></th>\n",
       "      <th>temperature</th>\n",
       "      <th>gender</th>\n",
       "      <th>heart_rate</th>\n",
       "    </tr>\n",
       "  </thead>\n",
       "  <tbody>\n",
       "    <tr>\n",
       "      <th>0</th>\n",
       "      <td>99.3</td>\n",
       "      <td>F</td>\n",
       "      <td>68.0</td>\n",
       "    </tr>\n",
       "    <tr>\n",
       "      <th>1</th>\n",
       "      <td>98.4</td>\n",
       "      <td>F</td>\n",
       "      <td>81.0</td>\n",
       "    </tr>\n",
       "  </tbody>\n",
       "</table>\n",
       "</div>"
      ],
      "text/plain": [
       "   temperature gender  heart_rate\n",
       "0         99.3      F        68.0\n",
       "1         98.4      F        81.0"
      ]
     },
     "execution_count": 17,
     "metadata": {},
     "output_type": "execute_result"
    }
   ],
   "source": [
    "female_s.head(2)"
   ]
  },
  {
   "cell_type": "markdown",
   "metadata": {},
   "source": [
    "---\n",
    "\n",
    "Inspecting basic data information:"
   ]
  },
  {
   "cell_type": "code",
   "execution_count": 18,
   "metadata": {},
   "outputs": [
    {
     "data": {
      "text/html": [
       "<div>\n",
       "<style scoped>\n",
       "    .dataframe tbody tr th:only-of-type {\n",
       "        vertical-align: middle;\n",
       "    }\n",
       "\n",
       "    .dataframe tbody tr th {\n",
       "        vertical-align: top;\n",
       "    }\n",
       "\n",
       "    .dataframe thead th {\n",
       "        text-align: right;\n",
       "    }\n",
       "</style>\n",
       "<table border=\"1\" class=\"dataframe\">\n",
       "  <thead>\n",
       "    <tr style=\"text-align: right;\">\n",
       "      <th></th>\n",
       "      <th>temperature</th>\n",
       "      <th>heart_rate</th>\n",
       "    </tr>\n",
       "  </thead>\n",
       "  <tbody>\n",
       "    <tr>\n",
       "      <th>count</th>\n",
       "      <td>65.000000</td>\n",
       "      <td>65.000000</td>\n",
       "    </tr>\n",
       "    <tr>\n",
       "      <th>mean</th>\n",
       "      <td>98.104615</td>\n",
       "      <td>73.369231</td>\n",
       "    </tr>\n",
       "    <tr>\n",
       "      <th>std</th>\n",
       "      <td>0.698756</td>\n",
       "      <td>5.875184</td>\n",
       "    </tr>\n",
       "    <tr>\n",
       "      <th>min</th>\n",
       "      <td>96.300000</td>\n",
       "      <td>58.000000</td>\n",
       "    </tr>\n",
       "    <tr>\n",
       "      <th>25%</th>\n",
       "      <td>97.600000</td>\n",
       "      <td>70.000000</td>\n",
       "    </tr>\n",
       "    <tr>\n",
       "      <th>50%</th>\n",
       "      <td>98.100000</td>\n",
       "      <td>73.000000</td>\n",
       "    </tr>\n",
       "    <tr>\n",
       "      <th>75%</th>\n",
       "      <td>98.600000</td>\n",
       "      <td>78.000000</td>\n",
       "    </tr>\n",
       "    <tr>\n",
       "      <th>max</th>\n",
       "      <td>99.500000</td>\n",
       "      <td>86.000000</td>\n",
       "    </tr>\n",
       "  </tbody>\n",
       "</table>\n",
       "</div>"
      ],
      "text/plain": [
       "       temperature  heart_rate\n",
       "count    65.000000   65.000000\n",
       "mean     98.104615   73.369231\n",
       "std       0.698756    5.875184\n",
       "min      96.300000   58.000000\n",
       "25%      97.600000   70.000000\n",
       "50%      98.100000   73.000000\n",
       "75%      98.600000   78.000000\n",
       "max      99.500000   86.000000"
      ]
     },
     "execution_count": 18,
     "metadata": {},
     "output_type": "execute_result"
    }
   ],
   "source": [
    "male_s.describe()"
   ]
  },
  {
   "cell_type": "code",
   "execution_count": 19,
   "metadata": {},
   "outputs": [
    {
     "data": {
      "text/html": [
       "<div>\n",
       "<style scoped>\n",
       "    .dataframe tbody tr th:only-of-type {\n",
       "        vertical-align: middle;\n",
       "    }\n",
       "\n",
       "    .dataframe tbody tr th {\n",
       "        vertical-align: top;\n",
       "    }\n",
       "\n",
       "    .dataframe thead th {\n",
       "        text-align: right;\n",
       "    }\n",
       "</style>\n",
       "<table border=\"1\" class=\"dataframe\">\n",
       "  <thead>\n",
       "    <tr style=\"text-align: right;\">\n",
       "      <th></th>\n",
       "      <th>temperature</th>\n",
       "      <th>heart_rate</th>\n",
       "    </tr>\n",
       "  </thead>\n",
       "  <tbody>\n",
       "    <tr>\n",
       "      <th>count</th>\n",
       "      <td>65.000000</td>\n",
       "      <td>65.000000</td>\n",
       "    </tr>\n",
       "    <tr>\n",
       "      <th>mean</th>\n",
       "      <td>98.393846</td>\n",
       "      <td>74.153846</td>\n",
       "    </tr>\n",
       "    <tr>\n",
       "      <th>std</th>\n",
       "      <td>0.743488</td>\n",
       "      <td>8.105227</td>\n",
       "    </tr>\n",
       "    <tr>\n",
       "      <th>min</th>\n",
       "      <td>96.400000</td>\n",
       "      <td>57.000000</td>\n",
       "    </tr>\n",
       "    <tr>\n",
       "      <th>25%</th>\n",
       "      <td>98.000000</td>\n",
       "      <td>68.000000</td>\n",
       "    </tr>\n",
       "    <tr>\n",
       "      <th>50%</th>\n",
       "      <td>98.400000</td>\n",
       "      <td>76.000000</td>\n",
       "    </tr>\n",
       "    <tr>\n",
       "      <th>75%</th>\n",
       "      <td>98.800000</td>\n",
       "      <td>80.000000</td>\n",
       "    </tr>\n",
       "    <tr>\n",
       "      <th>max</th>\n",
       "      <td>100.800000</td>\n",
       "      <td>89.000000</td>\n",
       "    </tr>\n",
       "  </tbody>\n",
       "</table>\n",
       "</div>"
      ],
      "text/plain": [
       "       temperature  heart_rate\n",
       "count    65.000000   65.000000\n",
       "mean     98.393846   74.153846\n",
       "std       0.743488    8.105227\n",
       "min      96.400000   57.000000\n",
       "25%      98.000000   68.000000\n",
       "50%      98.400000   76.000000\n",
       "75%      98.800000   80.000000\n",
       "max     100.800000   89.000000"
      ]
     },
     "execution_count": 19,
     "metadata": {},
     "output_type": "execute_result"
    }
   ],
   "source": [
    "female_s.describe()"
   ]
  },
  {
   "cell_type": "markdown",
   "metadata": {},
   "source": [
    "---\n",
    "\n",
    "obtaining temperature column:"
   ]
  },
  {
   "cell_type": "code",
   "execution_count": 20,
   "metadata": {},
   "outputs": [],
   "source": [
    "#Getting temperatures for each group\n",
    "m_temp = male_s.temperature\n",
    "f_temp = female_s.temperature"
   ]
  },
  {
   "cell_type": "markdown",
   "metadata": {},
   "source": [
    "We can manually obtain the t-statistic value as shown below:"
   ]
  },
  {
   "cell_type": "code",
   "execution_count": 21,
   "metadata": {},
   "outputs": [
    {
     "name": "stdout",
     "output_type": "stream",
     "text": [
      "males mean:98.105, females mean:98.394\n",
      "males std:0.699, females mean:0.743\n",
      "means' difference:0.289\n",
      "males samplesize:65.000, females samplesize:65.000\n",
      "t_statistic:2.285\n"
     ]
    }
   ],
   "source": [
    "# calculate means for groups' temperatures\n",
    "m_mean, f_mean = np.mean(m_temp), np.mean(f_temp)\n",
    "\n",
    "# difference in means\n",
    "dif_mean = f_mean - m_mean\n",
    "\n",
    "# Groups' sizes\n",
    "m_samplesize = len(m_temp)\n",
    "f_samplesize = len(f_temp)\n",
    "\n",
    "# sample standard deviations with 1 degree of freedom \n",
    "m_std, f_std = np.std(m_temp, ddof=1), np.std(f_temp, ddof=1)\n",
    "\n",
    "# sample standard error\n",
    "sed = np.sqrt((m_temp.std()**2/m_samplesize) + (f_temp.std()**2/f_samplesize))\n",
    "\n",
    "# calculate the t statistic\n",
    "t_stat = dif_mean / sed\n",
    "\n",
    "print('males mean:%.3f, females mean:%.3f' % (m_mean, f_mean)) \n",
    "print('males std:%.3f, females mean:%.3f' % (m_std, f_std))\n",
    "print(\"means' difference:%.3f\" % dif_mean)\n",
    "print('males samplesize:%.3f, females samplesize:%.3f' % (m_samplesize, f_samplesize))\n",
    "print('t_statistic:%.3f' % t_stat)"
   ]
  },
  {
   "cell_type": "markdown",
   "metadata": {},
   "source": [
    "With the t-value on hand, we can find the the corresponding p-value for our test. Looking at our t-table above, using 60 as the closest degrees of freedom and closest t-statistic value of 2.39 we get a p-value of .02 for a two-tail distribution.\n",
    "\n",
    "This process is much faster and less likely to errors if we use the ttest_ind() function from the scipy library as shown below:"
   ]
  },
  {
   "cell_type": "code",
   "execution_count": 22,
   "metadata": {},
   "outputs": [
    {
     "name": "stdout",
     "output_type": "stream",
     "text": [
      "t=-2.285, p=0.024\n"
     ]
    }
   ],
   "source": [
    "from scipy.stats import ttest_ind\n",
    "\n",
    "stat, p = ttest_ind(m_temp, f_temp)\n",
    "print('t=%.3f, p=%.3f' % (stat, p))"
   ]
  },
  {
   "cell_type": "markdown",
   "metadata": {},
   "source": [
    "Assuming that there is no real difference between the males and females normal body temperature, the chances of obtaining a mean difference between these groups just by random chance alone is .024, which is very low and lower then our significance set level of .05. Therefor we will reject the null hypothesis and conclude that **there is significance between males and females normal body temperatures.**"
   ]
  },
  {
   "cell_type": "markdown",
   "metadata": {},
   "source": [
    "### Conclusion:\n",
    "\n",
    "After analyzing this data, there are a couple of interesting insights and are describe as follow:\n",
    "\n",
    "- First, in regards of the average human body temperature being 98.6, the inferencial analysis shows that this is not the case. Looking at the sample data, we abtained a average human body temperature of  98.3, and a low probability that this could happened just due to chance alone. However, the difference between these two values is only .3 and needs to be decide whether this difference is of significance value or not. Furthermore, there has been a lot of research with different conclusions to what the true average human body temperature might be.\n",
    "\n",
    "\n",
    "- Also, the normal human body temperature range should be between 98.12 and 98.38 F degrees, and anything outside of this range should be consider abnormal.\n",
    "\n",
    "\n",
    "- And lastly, our test shows that there is a significant difference between males and females human body temperature."
   ]
  },
  {
   "cell_type": "markdown",
   "metadata": {},
   "source": [
    "---\n",
    "Alfredo M. ☺️"
   ]
  }
 ],
 "metadata": {
  "kernelspec": {
   "display_name": "Python 3",
   "language": "python",
   "name": "python3"
  },
  "language_info": {
   "codemirror_mode": {
    "name": "ipython",
    "version": 3
   },
   "file_extension": ".py",
   "mimetype": "text/x-python",
   "name": "python",
   "nbconvert_exporter": "python",
   "pygments_lexer": "ipython3",
   "version": "3.5.4"
  }
 },
 "nbformat": 4,
 "nbformat_minor": 1
}
