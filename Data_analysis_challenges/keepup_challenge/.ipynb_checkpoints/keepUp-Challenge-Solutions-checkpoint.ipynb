{
 "cells": [
  {
   "cell_type": "markdown",
   "metadata": {},
   "source": [
    "## Data Science Interview Challenge"
   ]
  },
  {
   "cell_type": "markdown",
   "metadata": {},
   "source": [
    "For this exercise, you will analyze a dataset from Amazon."
   ]
  },
  {
   "cell_type": "markdown",
   "metadata": {},
   "source": [
    "<b>A. (Suggested duration: 90 mins)</b>  \n",
    "With the given data for 548552 products, perform exploratory analysis and make\n",
    "suggestions for further analysis on the following aspects.  \n",
    "  \n",
    "<b>1. Trustworthiness of ratings</b>\n",
    "Ratings are susceptible to manipulation, bias etc.. \n",
    "\n",
    "Data format:\n",
    "\n",
    "**Id:** Product id (number 0, ..., 548551)\n",
    "\n",
    "**ASIN:** Amazon Standard Identification Number\n",
    "\n",
    "**title:** Name/title of the product\n",
    "\n",
    "**group:** Product group (Book, DVD, Video or Music)\n",
    "\n",
    "**salesrank:** Amazon Salesrank\n",
    "\n",
    "**similar:** ASINs of co-purchased products (people who buy X also buy Y)\n",
    "\n",
    "**categories:** Location in product category hierarchy to which the product belongs (separated by |, category id in [])\n",
    "\n",
    "**reviews:** Product review information: time, user id, rating, total number of votes on the review, total number of helpfulness votes (how many people found the review to be helpful)"
   ]
  },
  {
   "cell_type": "markdown",
   "metadata": {},
   "source": [
    "---"
   ]
  },
  {
   "cell_type": "markdown",
   "metadata": {},
   "source": [
    "### What can you say (quantitatively speaking) about the ratings in this dataset?"
   ]
  },
  {
   "cell_type": "markdown",
   "metadata": {},
   "source": [
    "#### Open packages"
   ]
  },
  {
   "cell_type": "code",
   "execution_count": 1,
   "metadata": {},
   "outputs": [],
   "source": [
    "import pandas as pd\n",
    "import datetime\n",
    "from collections import Counter"
   ]
  },
  {
   "cell_type": "markdown",
   "metadata": {},
   "source": [
    "#### Open File"
   ]
  },
  {
   "cell_type": "code",
   "execution_count": 2,
   "metadata": {},
   "outputs": [],
   "source": [
    "# Read in the data\n",
    "import gzip\n",
    "with gzip.open('amazon-meta.txt.gz','rb') as f:\n",
    "    file_content = [x.decode('utf8').strip() for x in f.readlines()]\n",
    "f.close()"
   ]
  },
  {
   "cell_type": "markdown",
   "metadata": {},
   "source": [
    "#### Clean Data"
   ]
  },
  {
   "cell_type": "code",
   "execution_count": 3,
   "metadata": {},
   "outputs": [
    {
     "data": {
      "text/plain": [
       "[['# Full information about Amazon Share the Love products',\n",
       "  'Total items: 548552'],\n",
       " ['Id:   0', 'ASIN: 0771044445', 'discontinued product'],\n",
       " ['Id:   1',\n",
       "  'ASIN: 0827229534',\n",
       "  'title: Patterns of Preaching: A Sermon Sampler',\n",
       "  'group: Book',\n",
       "  'salesrank: 396585',\n",
       "  'similar: 5  0804215715  156101074X  0687023955  0687074231  082721619X',\n",
       "  'categories: 2',\n",
       "  '|Books[283155]|Subjects[1000]|Religion & Spirituality[22]|Christianity[12290]|Clergy[12360]|Preaching[12368]',\n",
       "  '|Books[283155]|Subjects[1000]|Religion & Spirituality[22]|Christianity[12290]|Clergy[12360]|Sermons[12370]',\n",
       "  'reviews: total: 2  downloaded: 2  avg rating: 5',\n",
       "  '2000-7-28  cutomer: A2JW67OY8U6HHK  rating: 5  votes:  10  helpful:   9',\n",
       "  '2003-12-14  cutomer: A2VE83MZF98ITY  rating: 5  votes:   6  helpful:   5']]"
      ]
     },
     "execution_count": 3,
     "metadata": {},
     "output_type": "execute_result"
    }
   ],
   "source": [
    "# Forms a list of objects containig each book's given data\n",
    "\n",
    "book_list = []\n",
    "\n",
    "add = []\n",
    "\n",
    "for string in file_content:\n",
    "    if string != '':\n",
    "        add.append(string)\n",
    "    else:\n",
    "        # nest books descriptions as one list object\n",
    "        book_list.append(add)\n",
    "        add = []\n",
    "        \n",
    "book_list[0:3] "
   ]
  },
  {
   "cell_type": "code",
   "execution_count": 4,
   "metadata": {},
   "outputs": [],
   "source": [
    "# Extract rating section from each book and its subcategory description(Total, downloaded, avg rating).\n",
    "# Builds it into a dataframe\n",
    "\n",
    "rating_dict = {}\n",
    "\n",
    "for book in book_list:\n",
    "    ident, total, downloaded, avg_rating = '', '', '', ''\n",
    "    for item in book:\n",
    "        if item.startswith('Id:'):\n",
    "            ident = item.split()[-1]\n",
    "        elif item.startswith('reviews:'):\n",
    "            total = item.split()[2]\n",
    "            downloaded = item.split()[4]\n",
    "            avg_rating = item.split()[7]\n",
    "        elif item.startswith('discontinued product'):\n",
    "            continue \n",
    "        rating_dict[ident] = [total, downloaded, avg_rating]"
   ]
  },
  {
   "cell_type": "code",
   "execution_count": 5,
   "metadata": {},
   "outputs": [],
   "source": [
    "# delets empty ids\n",
    "del rating_dict['']\n",
    "\n",
    "# Brings book's dictionary into a dataframe\n",
    "rating_df = pd.DataFrame.from_dict(rating_dict)\n",
    "# reshapes dataframe vertically\n",
    "rating_df = rating_df.T.reset_index(drop=False)\n",
    "# rename columns\n",
    "rating_df.columns = ['id', 'total_reviews', 'downloaded', 'avg_rating']\n",
    "# reshape index/format\n",
    "rating_df = rating_df.iloc[1:]\n",
    "\n",
    "# object/string values change to numerical\n",
    "rating_df = rating_df.apply(pd.to_numeric)"
   ]
  },
  {
   "cell_type": "code",
   "execution_count": 6,
   "metadata": {},
   "outputs": [
    {
     "name": "stdout",
     "output_type": "stream",
     "text": [
      "id                  0\n",
      "total_reviews    5867\n",
      "downloaded       5867\n",
      "avg_rating       5867\n",
      "dtype: int64\n",
      "\n",
      "\n",
      "<class 'pandas.core.frame.DataFrame'>\n",
      "RangeIndex: 548551 entries, 1 to 548551\n",
      "Data columns (total 4 columns):\n",
      "id               548551 non-null int64\n",
      "total_reviews    542684 non-null float64\n",
      "downloaded       542684 non-null float64\n",
      "avg_rating       542684 non-null float64\n",
      "dtypes: float64(3), int64(1)\n",
      "memory usage: 16.7 MB\n",
      "None\n"
     ]
    }
   ],
   "source": [
    "# Checks for Not a Number values and over data on hand\n",
    "print(rating_df.isnull().sum())\n",
    "print('\\n')\n",
    "print(rating_df.info())"
   ]
  },
  {
   "cell_type": "code",
   "execution_count": 7,
   "metadata": {},
   "outputs": [],
   "source": [
    "# Remove rows with atleast one NaN values\n",
    "rating_df = rating_df.dropna(axis=0, how='any')"
   ]
  },
  {
   "cell_type": "code",
   "execution_count": 8,
   "metadata": {},
   "outputs": [
    {
     "name": "stdout",
     "output_type": "stream",
     "text": [
      "id               0\n",
      "total_reviews    0\n",
      "downloaded       0\n",
      "avg_rating       0\n",
      "dtype: int64\n",
      "\n",
      "\n",
      "<class 'pandas.core.frame.DataFrame'>\n",
      "Int64Index: 542684 entries, 1 to 548551\n",
      "Data columns (total 4 columns):\n",
      "id               542684 non-null int64\n",
      "total_reviews    542684 non-null float64\n",
      "downloaded       542684 non-null float64\n",
      "avg_rating       542684 non-null float64\n",
      "dtypes: float64(3), int64(1)\n",
      "memory usage: 20.7 MB\n",
      "None\n",
      "\n",
      "\n",
      "id                 int64\n",
      "total_reviews    float64\n",
      "downloaded       float64\n",
      "avg_rating       float64\n",
      "dtype: object\n"
     ]
    }
   ],
   "source": [
    "# Recheck for nan values\n",
    "print(rating_df.isnull().sum())\n",
    "print('\\n')\n",
    "print(rating_df.info())\n",
    "print('\\n')\n",
    "print(rating_df.dtypes)"
   ]
  },
  {
   "cell_type": "code",
   "execution_count": 9,
   "metadata": {},
   "outputs": [
    {
     "data": {
      "text/html": [
       "<div>\n",
       "<style scoped>\n",
       "    .dataframe tbody tr th:only-of-type {\n",
       "        vertical-align: middle;\n",
       "    }\n",
       "\n",
       "    .dataframe tbody tr th {\n",
       "        vertical-align: top;\n",
       "    }\n",
       "\n",
       "    .dataframe thead th {\n",
       "        text-align: right;\n",
       "    }\n",
       "</style>\n",
       "<table border=\"1\" class=\"dataframe\">\n",
       "  <thead>\n",
       "    <tr style=\"text-align: right;\">\n",
       "      <th></th>\n",
       "      <th>id</th>\n",
       "      <th>total_reviews</th>\n",
       "      <th>downloaded</th>\n",
       "      <th>avg_rating</th>\n",
       "    </tr>\n",
       "  </thead>\n",
       "  <tbody>\n",
       "    <tr>\n",
       "      <th>1</th>\n",
       "      <td>1</td>\n",
       "      <td>2</td>\n",
       "      <td>2</td>\n",
       "      <td>5.0</td>\n",
       "    </tr>\n",
       "    <tr>\n",
       "      <th>111112</th>\n",
       "      <td>2</td>\n",
       "      <td>12</td>\n",
       "      <td>12</td>\n",
       "      <td>4.5</td>\n",
       "    </tr>\n",
       "    <tr>\n",
       "      <th>222223</th>\n",
       "      <td>3</td>\n",
       "      <td>1</td>\n",
       "      <td>1</td>\n",
       "      <td>5.0</td>\n",
       "    </tr>\n",
       "    <tr>\n",
       "      <th>333334</th>\n",
       "      <td>4</td>\n",
       "      <td>1</td>\n",
       "      <td>1</td>\n",
       "      <td>4.0</td>\n",
       "    </tr>\n",
       "    <tr>\n",
       "      <th>444445</th>\n",
       "      <td>5</td>\n",
       "      <td>0</td>\n",
       "      <td>0</td>\n",
       "      <td>0.0</td>\n",
       "    </tr>\n",
       "  </tbody>\n",
       "</table>\n",
       "</div>"
      ],
      "text/plain": [
       "        id  total_reviews  downloaded  avg_rating\n",
       "1        1              2           2         5.0\n",
       "111112   2             12          12         4.5\n",
       "222223   3              1           1         5.0\n",
       "333334   4              1           1         4.0\n",
       "444445   5              0           0         0.0"
      ]
     },
     "execution_count": 9,
     "metadata": {},
     "output_type": "execute_result"
    }
   ],
   "source": [
    "# resets column values to a more suited format\n",
    "rating_df['total_reviews']  = rating_df['total_reviews'].astype(int)\n",
    "rating_df['downloaded']  = rating_df['downloaded'].astype(int)\n",
    "\n",
    "# sorts reviews by id\n",
    "rating_df = rating_df.sort_values('id')\n",
    "rating_df.head()"
   ]
  },
  {
   "cell_type": "markdown",
   "metadata": {},
   "source": [
    "### Data Analysis"
   ]
  },
  {
   "cell_type": "markdown",
   "metadata": {},
   "source": [
    "#### How many books have more ratings, than download"
   ]
  },
  {
   "cell_type": "code",
   "execution_count": 10,
   "metadata": {},
   "outputs": [
    {
     "name": "stdout",
     "output_type": "stream",
     "text": [
      "8615 books have more ratings than actual downlaods\n"
     ]
    }
   ],
   "source": [
    "print(len(rating_df[rating_df['total_reviews'] > rating_df['downloaded']]), 'books have more ratings than actual downlaods')"
   ]
  },
  {
   "cell_type": "code",
   "execution_count": 11,
   "metadata": {},
   "outputs": [
    {
     "data": {
      "text/html": [
       "<div>\n",
       "<style scoped>\n",
       "    .dataframe tbody tr th:only-of-type {\n",
       "        vertical-align: middle;\n",
       "    }\n",
       "\n",
       "    .dataframe tbody tr th {\n",
       "        vertical-align: top;\n",
       "    }\n",
       "\n",
       "    .dataframe thead th {\n",
       "        text-align: right;\n",
       "    }\n",
       "</style>\n",
       "<table border=\"1\" class=\"dataframe\">\n",
       "  <thead>\n",
       "    <tr style=\"text-align: right;\">\n",
       "      <th></th>\n",
       "      <th>id</th>\n",
       "      <th>total_reviews</th>\n",
       "      <th>downloaded</th>\n",
       "      <th>avg_rating</th>\n",
       "      <th>discrepancy</th>\n",
       "    </tr>\n",
       "  </thead>\n",
       "  <tbody>\n",
       "    <tr>\n",
       "      <th>53542</th>\n",
       "      <td>148185</td>\n",
       "      <td>5034</td>\n",
       "      <td>5</td>\n",
       "      <td>5.0</td>\n",
       "      <td>5029</td>\n",
       "    </tr>\n",
       "    <tr>\n",
       "      <th>547983</th>\n",
       "      <td>99487</td>\n",
       "      <td>5033</td>\n",
       "      <td>5</td>\n",
       "      <td>5.0</td>\n",
       "      <td>5028</td>\n",
       "    </tr>\n",
       "    <tr>\n",
       "      <th>31862</th>\n",
       "      <td>128673</td>\n",
       "      <td>4922</td>\n",
       "      <td>5</td>\n",
       "      <td>5.0</td>\n",
       "      <td>4917</td>\n",
       "    </tr>\n",
       "    <tr>\n",
       "      <th>310737</th>\n",
       "      <td>379661</td>\n",
       "      <td>2925</td>\n",
       "      <td>5</td>\n",
       "      <td>4.5</td>\n",
       "      <td>2920</td>\n",
       "    </tr>\n",
       "    <tr>\n",
       "      <th>168341</th>\n",
       "      <td>251503</td>\n",
       "      <td>2925</td>\n",
       "      <td>5</td>\n",
       "      <td>4.5</td>\n",
       "      <td>2920</td>\n",
       "    </tr>\n",
       "  </tbody>\n",
       "</table>\n",
       "</div>"
      ],
      "text/plain": [
       "            id  total_reviews  downloaded  avg_rating  discrepancy\n",
       "53542   148185           5034           5         5.0         5029\n",
       "547983   99487           5033           5         5.0         5028\n",
       "31862   128673           4922           5         5.0         4917\n",
       "310737  379661           2925           5         4.5         2920\n",
       "168341  251503           2925           5         4.5         2920"
      ]
     },
     "execution_count": 11,
     "metadata": {},
     "output_type": "execute_result"
    }
   ],
   "source": [
    "# Take a look at the range of values\n",
    "rating_df['discrepancy'] = rating_df['total_reviews'] - rating_df['downloaded']\n",
    "rating_df = rating_df.sort_values('discrepancy', ascending=False)\n",
    "rating_df.head(5)"
   ]
  },
  {
   "cell_type": "code",
   "execution_count": 12,
   "metadata": {},
   "outputs": [
    {
     "name": "stdout",
     "output_type": "stream",
     "text": [
      "There are 302 books with a discrepancy difference of 100 reviews or more\n"
     ]
    }
   ],
   "source": [
    "print('There are', len(rating_df[rating_df['discrepancy'] >= 100]),\n",
    "      'books with a discrepancy difference of 100 reviews or more')"
   ]
  },
  {
   "cell_type": "markdown",
   "metadata": {},
   "source": [
    "By looking at our data table and discrepancy column, we see how some books have an extreme difference in the number of downloaded books in compare to reviews. We could assume, some books and items have been purchased differently and being review online, but the number of these books should be minimal. We do see a discrepancy as high as more than 5000 thousands, which seems to point out to fictitious reviews"
   ]
  },
  {
   "cell_type": "markdown",
   "metadata": {},
   "source": [
    "### 2. Category bloat"
   ]
  },
  {
   "cell_type": "markdown",
   "metadata": {},
   "source": [
    "Consider the product group named 'Books'. Each product in this group is associated with categories. Naturally, with categorization, there are tradeoffs between how broad or specific the categories must be.\n",
    "\n",
    "For this dataset, quantify the following:\n",
    "\n",
    "**a.** Is there redundancy in the categorization? How can it be identified/removed?\n",
    "\n",
    "**b.** Is it possible to reduce the number of categories drastically (say to 10% of existing categories) by sacrificing relatively few category entries (say close to 10%)?"
   ]
  },
  {
   "cell_type": "code",
   "execution_count": 13,
   "metadata": {},
   "outputs": [
    {
     "data": {
      "text/plain": [
       "[['# Full information about Amazon Share the Love products',\n",
       "  'Total items: 548552'],\n",
       " ['Id:   0', 'ASIN: 0771044445', 'discontinued product'],\n",
       " ['Id:   1',\n",
       "  'ASIN: 0827229534',\n",
       "  'title: Patterns of Preaching: A Sermon Sampler',\n",
       "  'group: Book',\n",
       "  'salesrank: 396585',\n",
       "  'similar: 5  0804215715  156101074X  0687023955  0687074231  082721619X',\n",
       "  'categories: 2',\n",
       "  '|Books[283155]|Subjects[1000]|Religion & Spirituality[22]|Christianity[12290]|Clergy[12360]|Preaching[12368]',\n",
       "  '|Books[283155]|Subjects[1000]|Religion & Spirituality[22]|Christianity[12290]|Clergy[12360]|Sermons[12370]',\n",
       "  'reviews: total: 2  downloaded: 2  avg rating: 5',\n",
       "  '2000-7-28  cutomer: A2JW67OY8U6HHK  rating: 5  votes:  10  helpful:   9',\n",
       "  '2003-12-14  cutomer: A2VE83MZF98ITY  rating: 5  votes:   6  helpful:   5']]"
      ]
     },
     "execution_count": 13,
     "metadata": {},
     "output_type": "execute_result"
    }
   ],
   "source": [
    "book_list[:3]"
   ]
  },
  {
   "cell_type": "markdown",
   "metadata": {},
   "source": [
    "Redundancy can be seen at first sight in the categories section, this shows different categories registered for one book"
   ]
  },
  {
   "cell_type": "code",
   "execution_count": 14,
   "metadata": {},
   "outputs": [
    {
     "name": "stdout",
     "output_type": "stream",
     "text": [
      "There are 393561 total books.\n",
      "There are 1440329 total category branches across all books.\n",
      "There are 12853 unique category branches across all books.\n",
      "There are 7891047 total sub-categories across all books.\n",
      "There are 14923 unique sub-categories across all books.\n",
      "['Books[283155]', 'Subjects[1000]', 'Religion & Spirituality[22]', 'Christianity[12290]', 'Clergy[12360]', 'Preaching[12368]', 'Books[283155]', 'Subjects[1000]', 'Religion & Spirituality[22]', 'Christianity[12290]']\n"
     ]
    }
   ],
   "source": [
    "# pull category info from each book into a list\n",
    "category_list = []\n",
    "book_count = 0\n",
    "\n",
    "for group in book_list:\n",
    "    prod_type = ''\n",
    "    for item in group:\n",
    "        if item.startswith('group:'):\n",
    "            prod_type = item.split()[-1]\n",
    "        if prod_type == 'Book':\n",
    "            if item.startswith('|'):\n",
    "                category_list.append(item.strip())\n",
    "    if prod_type == 'Book':\n",
    "        book_count += 1\n",
    "        \n",
    "# sub-categories\n",
    "sub_category_list = []\n",
    "for branch in category_list:\n",
    "    for sub_cat in branch.split('|')[1:]:\n",
    "        sub_category_list.append(sub_cat)\n",
    "            \n",
    "print('There are {} total books.'.format(book_count))\n",
    "print('There are {} total category branches across all books.'.format(len(category_list)))\n",
    "print('There are {} unique category branches across all books.'.format(len(set(category_list))))\n",
    "print('There are {} total sub-categories across all books.'.format(len(sub_category_list)))\n",
    "print('There are {} unique sub-categories across all books.'.format(len(set(sub_category_list))))\n",
    "print(sub_category_list[:10])"
   ]
  },
  {
   "cell_type": "code",
   "execution_count": 15,
   "metadata": {},
   "outputs": [
    {
     "data": {
      "text/html": [
       "<div>\n",
       "<style scoped>\n",
       "    .dataframe tbody tr th:only-of-type {\n",
       "        vertical-align: middle;\n",
       "    }\n",
       "\n",
       "    .dataframe tbody tr th {\n",
       "        vertical-align: top;\n",
       "    }\n",
       "\n",
       "    .dataframe thead th {\n",
       "        text-align: right;\n",
       "    }\n",
       "</style>\n",
       "<table border=\"1\" class=\"dataframe\">\n",
       "  <thead>\n",
       "    <tr style=\"text-align: right;\">\n",
       "      <th></th>\n",
       "      <th>index</th>\n",
       "      <th>0</th>\n",
       "    </tr>\n",
       "  </thead>\n",
       "  <tbody>\n",
       "    <tr>\n",
       "      <th>8015</th>\n",
       "      <td>Books[283155]</td>\n",
       "      <td>1286848</td>\n",
       "    </tr>\n",
       "    <tr>\n",
       "      <th>5030</th>\n",
       "      <td>Subjects[1000]</td>\n",
       "      <td>1222638</td>\n",
       "    </tr>\n",
       "    <tr>\n",
       "      <th>5375</th>\n",
       "      <td>Children's Books[4]</td>\n",
       "      <td>134263</td>\n",
       "    </tr>\n",
       "    <tr>\n",
       "      <th>3198</th>\n",
       "      <td>Amazon.com Stores[285080]</td>\n",
       "      <td>123925</td>\n",
       "    </tr>\n",
       "    <tr>\n",
       "      <th>9488</th>\n",
       "      <td>[265523]</td>\n",
       "      <td>123925</td>\n",
       "    </tr>\n",
       "  </tbody>\n",
       "</table>\n",
       "</div>"
      ],
      "text/plain": [
       "                          index        0\n",
       "8015              Books[283155]  1286848\n",
       "5030             Subjects[1000]  1222638\n",
       "5375        Children's Books[4]   134263\n",
       "3198  Amazon.com Stores[285080]   123925\n",
       "9488                   [265523]   123925"
      ]
     },
     "execution_count": 15,
     "metadata": {},
     "output_type": "execute_result"
    }
   ],
   "source": [
    "# dataframe with sub-category counts\n",
    "\n",
    "# build diccionary list into a datafame\n",
    "category_count = pd.DataFrame.from_dict(Counter(sub_category_list), orient='index').reset_index()\n",
    "# order values in greatest to least\n",
    "category_count = category_count.sort_values(0, ascending=False)\n",
    "category_count.head()"
   ]
  },
  {
   "cell_type": "markdown",
   "metadata": {},
   "source": [
    "we could look into the most common sub-categories within all books, and changed them into the more specific sub-categories."
   ]
  },
  {
   "cell_type": "code",
   "execution_count": 16,
   "metadata": {},
   "outputs": [
    {
     "name": "stdout",
     "output_type": "stream",
     "text": [
      "9.38% represent the first largest sub-category titles, which makes up 90.04% of the sub-category overall total.\n"
     ]
    }
   ],
   "source": [
    "# Determine what percent of category appearances is the top 10% of sub-category titles\n",
    "print('{:.2f}% represent the first largest sub-category titles, which makes up {:.2f}% of the sub-category overall total.'\\\n",
    "          .format((len(category_count.iloc[0:1400])/len(category_count))*100, \n",
    "                  category_count.iloc[0:1400][0].sum()/category_count[0].sum()*100))"
   ]
  },
  {
   "cell_type": "markdown",
   "metadata": {},
   "source": [
    "Yes, we can reduce the number of sub-category titles by 90% by removing the top 10% of most occuring sub-category titles."
   ]
  },
  {
   "cell_type": "markdown",
   "metadata": {},
   "source": [
    "B. (Suggested duration: 30 mins)\n",
    "Give the number crunching a rest! Just think about these problems.\n",
    "\n",
    "1. Algorithm thinking\n",
    "\n",
    "**How would you build the product categorization from scratch, using similar/co-purchased information?**\n",
    "\n",
    "A: I would use a type of clustering method, creating product categories base on similarity in purchase information\n",
    "\n",
    "2. Product thinking\n",
    "Now, put on your 'product thinking' hat:\n",
    "\n",
    "**a. Is it a good idea to show users the categorization hierarchy for items?**\n",
    "\n",
    "A: Yes, it gives a more structure way for customers to find books under categories they prefer.\n",
    "\n",
    "**b. Is it a good idea to show users similar/co-purchased items?**\n",
    "\n",
    "A: Absolutly, I think this is one of the most effective ways now days to bring more sales, it serves as a virtual\n",
    "sales system trying to predict what the client likes are in order to stimulate concurrent sales\n",
    "\n",
    "**c. Is it a good idea to show users reviews and ratings for items?**\n",
    "\n",
    "A: Yes, it gives customers added values as of what others have experience with the product being look at, giving a sense of trusting from actual customers and not biased groups.\n",
    "\n",
    "**d. For each of the above, why? How will you establish the same?**\n",
    "\n",
    "Everything needs to be very customer centric, customers are the major key in the running life of every business."
   ]
  }
 ],
 "metadata": {
  "kernelspec": {
   "display_name": "Python 3",
   "language": "python",
   "name": "python3"
  },
  "language_info": {
   "codemirror_mode": {
    "name": "ipython",
    "version": 3
   },
   "file_extension": ".py",
   "mimetype": "text/x-python",
   "name": "python",
   "nbconvert_exporter": "python",
   "pygments_lexer": "ipython3",
   "version": "3.5.4"
  }
 },
 "nbformat": 4,
 "nbformat_minor": 2
}
