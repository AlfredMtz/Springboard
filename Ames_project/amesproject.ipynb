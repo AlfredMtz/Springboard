{
 "cells": [
  {
   "cell_type": "markdown",
   "metadata": {},
   "source": [
    "## Project Code"
   ]
  },
  {
   "cell_type": "markdown",
   "metadata": {},
   "source": [
    "Preparation:"
   ]
  },
  {
   "cell_type": "code",
   "execution_count": 213,
   "metadata": {
    "collapsed": false
   },
   "outputs": [],
   "source": [
    "%matplotlib inline\n",
    "import pandas as pd\n",
    "import numpy as np\n",
    "import datetime as dt\n",
    "import matplotlib.pyplot as plt\n",
    "import seaborn as sns\n",
    "from scipy import stats\n",
    "\n",
    "\n",
    "pd.set_option('precision', 2)                    # Setting prices to exclude decimal points\n",
    "\n",
    "pd.set_option('display.max_columns', 500)        # Setting DataFrame columns to show all of them\n",
    "\n",
    "pd.options.mode.chained_assignment = None        # default='warning signs', when adding new columns to data frames\n",
    "\n",
    "from sklearn.model_selection import train_test_split     # split data into random train and test subsets\n",
    "\n",
    "from sklearn.ensemble import RandomForestClassifier\n",
    "\n",
    "from sklearn.model_selection import GridSearchCV\n",
    "\n",
    "from sklearn.linear_model import LinearRegression\n",
    "\n",
    "from sklearn.ensemble import RandomForestRegressor\n",
    "\n",
    "from sklearn.model_selection import KFold, cross_val_score"
   ]
  },
  {
   "cell_type": "markdown",
   "metadata": {},
   "source": [
    "Open files to dataframes:"
   ]
  },
  {
   "cell_type": "code",
   "execution_count": 157,
   "metadata": {
    "collapsed": true
   },
   "outputs": [],
   "source": [
    "# Open housing data into a dataframe\n",
    "dtitles = pd.DataFrame.from_csv('Housing_data/test.csv', index_col=None)\n",
    "\n",
    "# Open housing price data into a dataframe\n",
    "dprices = pd.DataFrame.from_csv('Housing_data/sample_submission.csv', index_col=None)\n",
    "\n",
    "# open weather data file\n",
    "weather_d = pd.DataFrame.from_csv('Weather_data/weather.csv', index_col=None)           "
   ]
  },
  {
   "cell_type": "markdown",
   "metadata": {},
   "source": [
    "Wrangle housing data:"
   ]
  },
  {
   "cell_type": "code",
   "execution_count": 158,
   "metadata": {
    "collapsed": true
   },
   "outputs": [],
   "source": [
    "# Merge/combine the properties' descriptions and its sales prices into a new dataframe.\n",
    "h_data = pd.merge(dtitles, dprices, on='Id')\n",
    "\n",
    "# Filtering from 2006-2009!\n",
    "hs_data = h_data[(h_data.YrSold >= 2006) & (h_data.YrSold <= 2009)]                            \n",
    "\n",
    "# Rename columns\n",
    "hs_data = hs_data.rename(columns={\"MoSold\":\"month\", \"YrSold\":\"year\"})          \n",
    "\n",
    "# Building dataframe to a series datetime index                                                                          \n",
    "hs_data.loc[:, 'day'] = 1                                                       \n",
    "\n",
    "# adding column as one datetime.\n",
    "date = pd.to_datetime(hs_data[['year', 'month', 'day']])                        \n",
    "hs_data.loc[:, 'Date'] = date\n",
    "hs_data.loc[:, 'Date'] = hs_data.Date.dt.to_period('M')\n",
    "                                                                                   \n",
    "# Seting, sorting and renaming index\n",
    "hs_data = hs_data.set_index('Date').sort_index()                               \n",
    "hs_data.drop(['day'], axis=1, inplace=True)\n",
    "\n",
    "# changing/rename index to string object for later joining\n",
    "hs_data.index = hs_data.index.map(str).rename('Year_Month')          "
   ]
  },
  {
   "cell_type": "markdown",
   "metadata": {},
   "source": [
    "Wrangle weather data and join dataframes:"
   ]
  },
  {
   "cell_type": "code",
   "execution_count": 159,
   "metadata": {
    "collapsed": false
   },
   "outputs": [],
   "source": [
    "# Sorting to data needed\n",
    "weather_d1 = weather_d[weather_d.STATION_NAME == 'AMES 8 WSW IA US']                   \n",
    "weather_d2 = weather_d1[(weather_d1.DATE >= 20060101) & (weather_d1.DATE <= 20091231)]\n",
    "weather_d3 = weather_d2[['DATE', 'PRCP', 'SNOW', 'TMAX', 'TMIN']]\n",
    "\n",
    " # Getting date to datetime, setting and sortinging index to ('Date')\n",
    "weather_d3.loc[:, 'Date'] = pd.to_datetime(weather_d3.DATE, format='%Y%m%d')           \n",
    "weather_d4 = weather_d3[['Date', 'PRCP', 'SNOW', 'TMAX', 'TMIN']]                      \n",
    "\n",
    "# Building and setting index to year, and month.\n",
    "weather_d4['Date'] =weather_d4.Date.dt.to_period('M')                                   \n",
    "weather_data = weather_d4.set_index('Date').sort_index()                                 \n",
    "\n",
    "# Changed corrupted values to Not a Number(NaN)\n",
    "weather_data[weather_data == -9999] = np.nan                                   \n",
    "\n",
    "# Changed names for columns\n",
    "col = ['Avg_Prcp', 'Avg_Snow', 'Avg_Tmax', 'Avg_Tmin']                          \n",
    "weather_data.columns = col\n",
    "\n",
    "# Getting weather averages\n",
    "wth_data_avg = weather_data.groupby(weather_data.index).mean()                 \n",
    "\n",
    "# Change index type to string object for later merging of dataframes\n",
    "wth_data_avg.index = wth_data_avg.index.map(str).rename('Year_Month') \n",
    "\n",
    "# join new housing and weather dataframes\n",
    "hs_wth_data = hs_data.join(wth_data_avg)\n",
    "\n",
    "# changing index to dates\n",
    "hs_wth_df = hs_wth_data.reset_index(level=['Year_Month'])\n",
    "\n",
    "# Drop 'Id' column, not needed\n",
    "data = hs_wth_df.drop('Id', 1)"
   ]
  },
  {
   "cell_type": "markdown",
   "metadata": {},
   "source": [
    "Split data, build values for not a number values(NaN)"
   ]
  },
  {
   "cell_type": "code",
   "execution_count": 160,
   "metadata": {
    "collapsed": false
   },
   "outputs": [
    {
     "name": "stdout",
     "output_type": "stream",
     "text": [
      "(819, 78)\n",
      "(351, 78)\n",
      "(819,)\n",
      "(351,)\n"
     ]
    }
   ],
   "source": [
    "#data.isnull().sum().sort_values(ascending=False).head(30) <---> Function to see values\n",
    "# Remove columns/features with more than 1000 NaN values\n",
    "data = data.dropna(axis=1, thresh=1000)\n",
    "\n",
    "#data_object_sum = data.select_dtypes(include=['object']).isnull().sum() <---> Function to see non-numerical NaN values\n",
    "# Object/Categorical data NaN values droped. Keep all NaN values for float and int.\n",
    "data = data.dropna(axis=0, subset=['MSZoning', 'Utilities', 'Exterior1st', 'Exterior2nd', 'MasVnrType', 'BsmtQual',\n",
    "                                         'BsmtCond', 'BsmtExposure', 'BsmtFinType1', 'BsmtFinType2', 'Functional', \n",
    "                                         'GarageType', 'GarageFinish', 'GarageQual', 'GarageCond', 'SaleType'])\n",
    "# Value drop\n",
    "X, y = data.drop(['Year_Month', 'SalePrice'], axis=1), data.SalePrice\n",
    "\n",
    "# Data split\n",
    "X_trainp, X_testp, y_train, y_test = train_test_split(X, y, test_size=0.30, random_state = 5)\n",
    "\n",
    "print(X_trainp.shape)\n",
    "print(X_testp.shape)\n",
    "print(y_train.shape)\n",
    "print(y_test.shape)"
   ]
  },
  {
   "cell_type": "markdown",
   "metadata": {},
   "source": [
    "Fill not a number(NaN) with values for X_train"
   ]
  },
  {
   "cell_type": "code",
   "execution_count": 161,
   "metadata": {
    "collapsed": false
   },
   "outputs": [
    {
     "data": {
      "text/plain": [
       "(819, 193)"
      ]
     },
     "execution_count": 161,
     "metadata": {},
     "output_type": "execute_result"
    }
   ],
   "source": [
    "# Fill float columns' NaN values with means\n",
    "X_trainp[['LotFrontage', 'MasVnrArea','GarageArea', 'TotalBsmtSF', 'BsmtUnfSF', 'BsmtFinSF2', 'BsmtFinSF1']] = X_trainp[\n",
    "    ['LotFrontage', 'MasVnrArea','GarageArea', 'TotalBsmtSF', 'BsmtUnfSF', 'BsmtFinSF2', 'BsmtFinSF1']].fillna(\n",
    "    X_trainp[['LotFrontage', 'MasVnrArea','GarageArea', 'TotalBsmtSF', 'BsmtUnfSF', 'BsmtFinSF2', 'BsmtFinSF1']].mean())\n",
    "\n",
    "# Fill int columns' NaN values with mode, most frequent\n",
    "X_trainp[['GarageYrBlt','BsmtFullBath','BsmtHalfBath', 'GarageCars']] = X_trainp[\n",
    "    ['GarageYrBlt','BsmtFullBath','BsmtHalfBath', 'GarageCars']].fillna(\n",
    "    X_trainp[['GarageYrBlt','BsmtFullBath','BsmtHalfBath', 'GarageCars']].mode().iloc[0])\n",
    "\n",
    "\n",
    "# build dummies/1-hot encode for two or more categorical values for each column/feature.\n",
    "# for more than binary outcome values, we use n(total number of possiable values/outcomes)-1 = new n (number of variables\n",
    "# to capture all the information about the specify feature)\n",
    "X_train = pd.get_dummies(X_trainp, columns=['MSZoning', 'Street','LotShape','LandContour','Utilities','LotConfig'\n",
    "            ,'LandSlope', 'Neighborhood','Condition1','Condition2','BldgType','HouseStyle','RoofStyle','RoofMatl'\n",
    "            ,'Exterior1st','Exterior2nd','MasVnrType','ExterQual','ExterCond','Foundation','BsmtQual','BsmtCond'\n",
    "            ,'BsmtExposure','BsmtFinType1','BsmtFinType2','Heating','HeatingQC','CentralAir','Electrical','KitchenQual'\n",
    "            ,'Functional','GarageType','GarageFinish','GarageQual','GarageCond','PavedDrive','SaleType'\n",
    "            ,'SaleCondition'], drop_first=True)\n",
    "X_train = X_train.drop(['LandSlope_Sev', 'Condition2_PosN', 'RoofStyle_Mansard', 'RoofStyle_Shed', 'RoofMatl_Tar&Grv'\n",
    "             , 'RoofMatl_WdShake', 'RoofMatl_WdShngl', 'Exterior1st_BrkComm', 'Foundation_Wood', 'HeatingQC_Po'\n",
    "             , 'Functional_Maj2', 'GarageQual_Po', 'SaleType_ConLI', 'SaleType_ConLw'], axis=1)\n",
    "X_train.shape"
   ]
  },
  {
   "cell_type": "markdown",
   "metadata": {},
   "source": [
    "Fill not a number(NaN) with values for X_test"
   ]
  },
  {
   "cell_type": "code",
   "execution_count": 162,
   "metadata": {
    "collapsed": false
   },
   "outputs": [
    {
     "data": {
      "text/plain": [
       "(351, 193)"
      ]
     },
     "execution_count": 162,
     "metadata": {},
     "output_type": "execute_result"
    }
   ],
   "source": [
    "#X_testp\n",
    "# Fill float columns' NaN values with means\n",
    "X_testp[['LotFrontage', 'MasVnrArea','GarageArea', 'TotalBsmtSF', 'BsmtUnfSF', 'BsmtFinSF2', 'BsmtFinSF1']] = X_testp[\n",
    "    ['LotFrontage', 'MasVnrArea','GarageArea', 'TotalBsmtSF', 'BsmtUnfSF', 'BsmtFinSF2', 'BsmtFinSF1']].fillna(\n",
    "    X_trainp[['LotFrontage', 'MasVnrArea','GarageArea', 'TotalBsmtSF', 'BsmtUnfSF', 'BsmtFinSF2', 'BsmtFinSF1']].mean())\n",
    "\n",
    "# Fill int columns' NaN values with mode, most frequent\n",
    "X_testp[['GarageYrBlt','BsmtFullBath','BsmtHalfBath', 'GarageCars']] = X_testp[\n",
    "    ['GarageYrBlt','BsmtFullBath','BsmtHalfBath', 'GarageCars']].fillna(\n",
    "    X_trainp[['GarageYrBlt','BsmtFullBath','BsmtHalfBath', 'GarageCars']].mode().iloc[0])\n",
    "\n",
    "\n",
    "# build dummies/1-hot encode for two or more categorical values for each column/feature.\n",
    "# for more than binary outcome values, we use n(total number of possiable values/outcomes)-1 = new n (number of variables\n",
    "# to capture all the information about the specify feature)\n",
    "X_test = pd.get_dummies(X_testp, columns=['MSZoning', 'Street','LotShape','LandContour','Utilities','LotConfig'\n",
    "            ,'LandSlope', 'Neighborhood','Condition1','Condition2','BldgType','HouseStyle','RoofStyle','RoofMatl'\n",
    "            ,'Exterior1st','Exterior2nd','MasVnrType','ExterQual','ExterCond','Foundation','BsmtQual','BsmtCond'\n",
    "            ,'BsmtExposure','BsmtFinType1','BsmtFinType2','Heating','HeatingQC','CentralAir','Electrical','KitchenQual'\n",
    "            ,'Functional','GarageType','GarageFinish','GarageQual','GarageCond','PavedDrive','SaleType'\n",
    "            ,'SaleCondition'], drop_first = True)\n",
    "X_test.shape"
   ]
  },
  {
   "cell_type": "code",
   "execution_count": 223,
   "metadata": {
    "collapsed": false
   },
   "outputs": [
    {
     "name": "stdout",
     "output_type": "stream",
     "text": [
      "(819, 193)\n",
      "(351, 193)\n",
      "(819,)\n",
      "(351,)\n"
     ]
    }
   ],
   "source": [
    "print(X_train.shape)\n",
    "print(X_test.shape)\n",
    "print(y_train.shape)\n",
    "print(y_test.shape)"
   ]
  },
  {
   "cell_type": "code",
   "execution_count": 228,
   "metadata": {
    "collapsed": false
   },
   "outputs": [],
   "source": [
    "# It averages to one overall mean, from the mean prediction of each individual tree\n",
    "# to improve the predictive accuracy and controls overfitting from single decision trees\n",
    "regr = RandomForestRegressor()\n",
    "\n",
    "# Range of different parameters, try to find the bests between these.\n",
    "param_grid = {'n_estimators': [100, 500, 700],\n",
    "             'max_features' : [10, 20, 30],\n",
    "             'max_depth'    : [10, 20]}\n",
    "\n",
    "# Search for previous specify parameters, within the given estimator RandomForestRegressor()\n",
    "regr_grid = GridSearchCV(regr, param_grid)\n",
    "\n",
    "# Build a forest of trees from the training set (X_train, y_train)\n",
    "regr_grid.fit(X_train, y_train)\n",
    "\n",
    "# regr_grid.best_params_ --> Function to see best parameters\n",
    "# Take best found parameters and predict values\n",
    "y_estimate = regr_grid.best_estimator_.predict(X_test)"
   ]
  },
  {
   "cell_type": "code",
   "execution_count": 229,
   "metadata": {
    "collapsed": false
   },
   "outputs": [
    {
     "data": {
      "text/plain": [
       "{'max_depth': 20, 'max_features': 30, 'n_estimators': 500}"
      ]
     },
     "execution_count": 229,
     "metadata": {},
     "output_type": "execute_result"
    }
   ],
   "source": [
    "regr_grid.best_params_"
   ]
  },
  {
   "cell_type": "code",
   "execution_count": 230,
   "metadata": {
    "collapsed": false
   },
   "outputs": [
    {
     "data": {
      "text/plain": [
       "array([ 164585.4678521 ,  188002.81741133,  182624.74546677,\n",
       "        178485.82419633,  162288.56653307,  198353.56293129,\n",
       "        161993.84030478,  194546.13003704,  198531.3039898 ,\n",
       "        156653.8145522 ,  186276.6248501 ,  202986.02484887,\n",
       "        156829.02573184,  169101.494552  ,  182764.43816862,\n",
       "        174228.87302294,  173504.32630467,  182377.48749162,\n",
       "        178625.72476595,  197866.90376442])"
      ]
     },
     "execution_count": 230,
     "metadata": {},
     "output_type": "execute_result"
    }
   ],
   "source": [
    "y_estimate[:20]"
   ]
  },
  {
   "cell_type": "markdown",
   "metadata": {},
   "source": [
    "Validate performance:"
   ]
  },
  {
   "cell_type": "code",
   "execution_count": 231,
   "metadata": {
    "collapsed": false
   },
   "outputs": [
    {
     "data": {
      "text/plain": [
       "5005750.240254967"
      ]
     },
     "execution_count": 231,
     "metadata": {},
     "output_type": "execute_result"
    }
   ],
   "source": [
    "np.mean((y_train - regr_grid.predict(X_train)) ** 2)"
   ]
  },
  {
   "cell_type": "code",
   "execution_count": 232,
   "metadata": {
    "collapsed": false
   },
   "outputs": [
    {
     "data": {
      "text/plain": [
       "58598248.44668831"
      ]
     },
     "execution_count": 232,
     "metadata": {},
     "output_type": "execute_result"
    }
   ],
   "source": [
    "np.mean((y_test - y_estimate) ** 2)"
   ]
  },
  {
   "cell_type": "markdown",
   "metadata": {},
   "source": []
  }
 ],
 "metadata": {
  "kernelspec": {
   "display_name": "Python 3",
   "language": "python",
   "name": "python3"
  },
  "language_info": {
   "codemirror_mode": {
    "name": "ipython",
    "version": 3
   },
   "file_extension": ".py",
   "mimetype": "text/x-python",
   "name": "python",
   "nbconvert_exporter": "python",
   "pygments_lexer": "ipython3",
   "version": "3.6.0"
  }
 },
 "nbformat": 4,
 "nbformat_minor": 2
}
