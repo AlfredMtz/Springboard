{
 "cells": [
  {
   "cell_type": "markdown",
   "metadata": {},
   "source": [
    "## Project Code"
   ]
  },
  {
   "cell_type": "markdown",
   "metadata": {},
   "source": [
    "**Preparation:**"
   ]
  },
  {
   "cell_type": "code",
   "execution_count": 1,
   "metadata": {
    "collapsed": false
   },
   "outputs": [],
   "source": [
    "%matplotlib inline\n",
    "import pandas as pd\n",
    "import numpy as np\n",
    "import datetime as dt\n",
    "import matplotlib.pyplot as plt\n",
    "import seaborn as sns\n",
    "#import seaborn as sns; sns.set(color_codes=True)\n",
    "from scipy import stats\n",
    "from sklearn.metrics import mean_squared_error\n",
    "from math import sqrt\n",
    "\n",
    "pd.set_option('precision', 2)                    # Setting prices to exclude decimal points\n",
    "\n",
    "pd.set_option('display.max_columns', 500)        # Setting DataFrame columns to show all of them\n",
    "\n",
    "pd.options.mode.chained_assignment = None        # default='warning signs', when adding new columns to data frames\n",
    "\n",
    "from sklearn.model_selection import train_test_split     # split data into random train and test subsets\n",
    "\n",
    "from sklearn.ensemble import RandomForestClassifier\n",
    "\n",
    "from sklearn.model_selection import GridSearchCV\n",
    "\n",
    "from sklearn.linear_model import LinearRegression\n",
    "\n",
    "from sklearn.ensemble import RandomForestRegressor\n",
    "\n",
    "from sklearn.model_selection import KFold, cross_val_score\n",
    "\n",
    "from sklearn.metrics import  mean_squared_error"
   ]
  },
  {
   "cell_type": "markdown",
   "metadata": {},
   "source": [
    "**Open files to dataframes:**"
   ]
  },
  {
   "cell_type": "code",
   "execution_count": 2,
   "metadata": {
    "collapsed": false
   },
   "outputs": [],
   "source": [
    "# Open housing data into a dataframe\n",
    "dtitles = pd.DataFrame.from_csv('Housing_data/test.csv', index_col=None)\n",
    "\n",
    "# Open housing price data into a dataframe\n",
    "dprices = pd.DataFrame.from_csv('Housing_data/sample_submission.csv', index_col=None)\n",
    "\n",
    "# open weather data file\n",
    "weather_d = pd.DataFrame.from_csv('Weather_data/weather.csv', index_col=None)           "
   ]
  },
  {
   "cell_type": "markdown",
   "metadata": {
    "collapsed": true
   },
   "source": [
    "**Outliers and bad data:**"
   ]
  },
  {
   "cell_type": "markdown",
   "metadata": {},
   "source": [
    "[Exploratory Data Analysis](https://github.com/AlfredMtz/Springboard/blob/master/Ames_project/EDA_for_bad_data.ipynb)"
   ]
  },
  {
   "cell_type": "markdown",
   "metadata": {},
   "source": [
    "**Wrangle housing data:**"
   ]
  },
  {
   "cell_type": "code",
   "execution_count": 3,
   "metadata": {
    "collapsed": false
   },
   "outputs": [],
   "source": [
    "# Merge/combine the properties' descriptions and its sales prices into a new dataframe.\n",
    "h_data = pd.merge(dtitles, dprices, on='Id')\n",
    "\n",
    "# Filtering from 2006-2009!\n",
    "hs_data = h_data[(h_data.YrSold >= 2006) & (h_data.YrSold <= 2009)] \n",
    "\n",
    "# Remove columns/features with more than 1000 NaN values\n",
    "hs_data = hs_data.dropna(axis=1, thresh=1000)\n",
    "\n",
    "# Rename columns\n",
    "hs_data = hs_data.rename(columns={\"MoSold\":\"month\", \"YrSold\":\"year\"})          \n",
    "\n",
    "# Building dataframe to a series datetime index                                                                          \n",
    "hs_data.loc[:, 'day'] = 1                                                       \n",
    "\n",
    "# adding column as one datetime.\n",
    "date = pd.to_datetime(hs_data[['year', 'month', 'day']])                        \n",
    "hs_data.loc[:, 'Date'] = date\n",
    "hs_data.loc[:, 'Date'] = hs_data.Date.dt.to_period('M')\n",
    "                                                                                   \n",
    "# Seting, sorting and renaming index\n",
    "hs_data = hs_data.set_index('Date').sort_index()                               \n",
    "hs_data.drop(['day'], axis=1, inplace=True)\n",
    "\n",
    "# changing/rename index to string object for later joining\n",
    "hs_data.index = hs_data.index.map(str).rename('Year_Month')"
   ]
  },
  {
   "cell_type": "markdown",
   "metadata": {},
   "source": [
    "**Cleaning weather data and join dataframes:**"
   ]
  },
  {
   "cell_type": "code",
   "execution_count": 4,
   "metadata": {
    "collapsed": false
   },
   "outputs": [],
   "source": [
    "# Sorting to data needed\n",
    "weather_d1 = weather_d[weather_d.STATION_NAME == 'AMES 8 WSW IA US']                   \n",
    "weather_d2 = weather_d1[(weather_d1.DATE >= 20060101) & (weather_d1.DATE <= 20091231)]\n",
    "weather_d3 = weather_d2[['DATE', 'PRCP', 'SNOW', 'TMAX', 'TMIN']]\n",
    "\n",
    " # Getting date to datetime, setting and sortinging index to ('Date')\n",
    "weather_d3.loc[:, 'Date'] = pd.to_datetime(weather_d3.DATE, format='%Y%m%d')           \n",
    "weather_d4 = weather_d3[['Date', 'PRCP', 'SNOW', 'TMAX', 'TMIN']]                      \n",
    "\n",
    "# Building and setting index to year, and month.\n",
    "weather_d4['Date'] =weather_d4.Date.dt.to_period('M')                                   \n",
    "weather_data = weather_d4.set_index('Date').sort_index()                                 \n",
    "\n",
    "# Changed corrupted values to Not a Number(NaN)\n",
    "weather_data[weather_data == -9999] = np.nan                                   \n",
    "\n",
    "# Changed names for columns\n",
    "col = ['Avg_Prcp', 'Avg_Snow', 'Avg_Tmax', 'Avg_Tmin']                          \n",
    "weather_data.columns = col\n",
    "\n",
    "# Getting weather averages\n",
    "wth_data_avg = weather_data.groupby(weather_data.index).mean()                 \n",
    "\n",
    "# Change index type to string object for later merging of dataframes\n",
    "wth_data_avg.index = wth_data_avg.index.map(str).rename('Year_Month') \n",
    "\n",
    "# join new housing and weather dataframes\n",
    "hs_wth_data = hs_data.join(wth_data_avg)\n",
    "\n",
    "# changing index to dates\n",
    "hs_wth_df = hs_wth_data.reset_index(level=['Year_Month'])\n",
    "\n",
    "# Drop 'Id' column, not needed\n",
    "data = hs_wth_df.drop('Id', 1)"
   ]
  },
  {
   "cell_type": "markdown",
   "metadata": {},
   "source": [
    "**Data Split:**"
   ]
  },
  {
   "cell_type": "code",
   "execution_count": 5,
   "metadata": {
    "collapsed": false
   },
   "outputs": [
    {
     "name": "stdout",
     "output_type": "stream",
     "text": [
      "(906, 78)\n",
      "(389, 78)\n",
      "(906,)\n",
      "(389,)\n"
     ]
    }
   ],
   "source": [
    "# Value drop\n",
    "X, y = data.drop(['Year_Month', 'SalePrice'], axis=1), data.SalePrice\n",
    "\n",
    "# Data split\n",
    "X_trainp, X_testp, y_train, y_test = train_test_split(X, y, test_size=0.30, random_state = 5)\n",
    "\n",
    "print(X_trainp.shape)\n",
    "print(X_testp.shape)\n",
    "print(y_train.shape)\n",
    "print(y_test.shape)"
   ]
  },
  {
   "cell_type": "markdown",
   "metadata": {},
   "source": [
    "**Fill not a number(NaN) with values for X_train:**"
   ]
  },
  {
   "cell_type": "code",
   "execution_count": 6,
   "metadata": {
    "collapsed": false
   },
   "outputs": [
    {
     "data": {
      "text/plain": [
       "(906, 255)"
      ]
     },
     "execution_count": 6,
     "metadata": {},
     "output_type": "execute_result"
    }
   ],
   "source": [
    "# Fix values for X_train\n",
    "\n",
    "# Fill float(numerical) columns' NaN values with means\n",
    "X_trainp[['LotFrontage', 'MasVnrArea','GarageArea', 'TotalBsmtSF', 'BsmtUnfSF', 'BsmtFinSF2', 'BsmtFinSF1']] = X_trainp[\n",
    "    ['LotFrontage', 'MasVnrArea','GarageArea', 'TotalBsmtSF', 'BsmtUnfSF', 'BsmtFinSF2', 'BsmtFinSF1']].fillna(\n",
    "    X_trainp[['LotFrontage', 'MasVnrArea','GarageArea', 'TotalBsmtSF', 'BsmtUnfSF', 'BsmtFinSF2', 'BsmtFinSF1']].mean())\n",
    "\n",
    "# Fill int(numerical) columns' NaN values with mode, most frequent\n",
    "X_trainp[['GarageYrBlt','BsmtFullBath','BsmtHalfBath', 'GarageCars']] = X_trainp[\n",
    "    ['GarageYrBlt','BsmtFullBath','BsmtHalfBath', 'GarageCars']].fillna(\n",
    "    X_trainp[['GarageYrBlt','BsmtFullBath','BsmtHalfBath', 'GarageCars']].mode().iloc[0])\n",
    "\n",
    "# find categorical features\n",
    "#categorical_features = attach_all_data.select_dtypes(include=['object'])\n",
    "\n",
    "# Fill categorical columns' NaN values with mode, most frequent\n",
    "X_trainp[['MSZoning', 'Street','LotShape','LandContour','Utilities','LotConfig','LandSlope', 'Neighborhood','Condition1','Condition2','BldgType','HouseStyle','RoofStyle','RoofMatl'\n",
    "            ,'Exterior1st','Exterior2nd','MasVnrType','ExterQual','ExterCond','Foundation','BsmtQual','BsmtCond'\n",
    "            ,'BsmtExposure','BsmtFinType1','BsmtFinType2','Heating','HeatingQC','CentralAir','Electrical','KitchenQual'\n",
    "            ,'Functional','GarageType','GarageFinish','GarageQual','GarageCond','PavedDrive','SaleType'\n",
    "            ,'SaleCondition']] = X_trainp[['MSZoning', 'Street','LotShape','LandContour','Utilities','LotConfig'\n",
    "            ,'LandSlope', 'Neighborhood','Condition1','Condition2','BldgType','HouseStyle','RoofStyle','RoofMatl'\n",
    "            ,'Exterior1st','Exterior2nd','MasVnrType','ExterQual','ExterCond','Foundation','BsmtQual','BsmtCond'\n",
    "            ,'BsmtExposure','BsmtFinType1','BsmtFinType2','Heating','HeatingQC','CentralAir','Electrical','KitchenQual'\n",
    "            ,'Functional','GarageType','GarageFinish','GarageQual','GarageCond','PavedDrive','SaleType'\n",
    "            ,'SaleCondition']].fillna(X_trainp[['MSZoning', 'Street','LotShape','LandContour','Utilities','LotConfig'\n",
    "            ,'LandSlope', 'Neighborhood','Condition1','Condition2','BldgType','HouseStyle','RoofStyle','RoofMatl'\n",
    "            ,'Exterior1st','Exterior2nd','MasVnrType','ExterQual','ExterCond','Foundation','BsmtQual','BsmtCond'\n",
    "            ,'BsmtExposure','BsmtFinType1','BsmtFinType2','Heating','HeatingQC','CentralAir','Electrical','KitchenQual'\n",
    "            ,'Functional','GarageType','GarageFinish','GarageQual','GarageCond','PavedDrive','SaleType'\n",
    "            ,'SaleCondition']].mode().iloc[0])\n",
    "\n",
    "X_train_dummies = pd.get_dummies(X_trainp)\n",
    "X_train = X_train_dummies\n",
    "X_train.shape"
   ]
  },
  {
   "cell_type": "markdown",
   "metadata": {},
   "source": [
    "**Fill not a number(NaN) with values for X_test:**"
   ]
  },
  {
   "cell_type": "code",
   "execution_count": 7,
   "metadata": {
    "collapsed": false
   },
   "outputs": [
    {
     "name": "stdout",
     "output_type": "stream",
     "text": [
      "(906, 255)\n",
      "(389, 255)\n",
      "(906,)\n",
      "(389,)\n"
     ]
    }
   ],
   "source": [
    "# Fix values for X_test \n",
    "\n",
    "# Fill float columns' NaN values with means\n",
    "X_testp[['LotFrontage', 'MasVnrArea','GarageArea', 'TotalBsmtSF', 'BsmtUnfSF', 'BsmtFinSF2', 'BsmtFinSF1']] = X_testp[\n",
    "    ['LotFrontage', 'MasVnrArea','GarageArea', 'TotalBsmtSF', 'BsmtUnfSF', 'BsmtFinSF2', 'BsmtFinSF1']].fillna(\n",
    "    X_trainp[['LotFrontage', 'MasVnrArea','GarageArea', 'TotalBsmtSF', 'BsmtUnfSF', 'BsmtFinSF2', 'BsmtFinSF1']].mean())\n",
    "\n",
    "# Fill int columns' NaN values with mode, most frequent\n",
    "X_testp[['GarageYrBlt','BsmtFullBath','BsmtHalfBath', 'GarageCars']] = X_testp[\n",
    "    ['GarageYrBlt','BsmtFullBath','BsmtHalfBath', 'GarageCars']].fillna(\n",
    "    X_trainp[['GarageYrBlt','BsmtFullBath','BsmtHalfBath', 'GarageCars']].mode().iloc[0])\n",
    "\n",
    "# Fill categorical columns' NaN values with mode, most frequent\n",
    "X_testp[['MSZoning', 'Street','LotShape','LandContour','Utilities','LotConfig'\n",
    "            ,'LandSlope', 'Neighborhood','Condition1','Condition2','BldgType','HouseStyle','RoofStyle','RoofMatl'\n",
    "            ,'Exterior1st','Exterior2nd','MasVnrType','ExterQual','ExterCond','Foundation','BsmtQual','BsmtCond'\n",
    "            ,'BsmtExposure','BsmtFinType1','BsmtFinType2','Heating','HeatingQC','CentralAir','Electrical','KitchenQual'\n",
    "            ,'Functional','GarageType','GarageFinish','GarageQual','GarageCond','PavedDrive','SaleType'\n",
    "            ,'SaleCondition']] = X_testp[['MSZoning', 'Street','LotShape','LandContour','Utilities','LotConfig'\n",
    "            ,'LandSlope', 'Neighborhood','Condition1','Condition2','BldgType','HouseStyle','RoofStyle','RoofMatl'\n",
    "            ,'Exterior1st','Exterior2nd','MasVnrType','ExterQual','ExterCond','Foundation','BsmtQual','BsmtCond'\n",
    "            ,'BsmtExposure','BsmtFinType1','BsmtFinType2','Heating','HeatingQC','CentralAir','Electrical','KitchenQual'\n",
    "            ,'Functional','GarageType','GarageFinish','GarageQual','GarageCond','PavedDrive','SaleType'\n",
    "            ,'SaleCondition']].fillna(X_trainp[['MSZoning', 'Street','LotShape','LandContour','Utilities','LotConfig'\n",
    "            ,'LandSlope', 'Neighborhood','Condition1','Condition2','BldgType','HouseStyle','RoofStyle','RoofMatl'\n",
    "            ,'Exterior1st','Exterior2nd','MasVnrType','ExterQual','ExterCond','Foundation','BsmtQual','BsmtCond'\n",
    "            ,'BsmtExposure','BsmtFinType1','BsmtFinType2','Heating','HeatingQC','CentralAir','Electrical','KitchenQual'\n",
    "            ,'Functional','GarageType','GarageFinish','GarageQual','GarageCond','PavedDrive','SaleType'\n",
    "            ,'SaleCondition']].mode().iloc[0])\n",
    "\n",
    "X_test_dummies = pd.get_dummies(X_testp)\n",
    "X_test = X_test_dummies.reindex(columns = X_train_dummies.columns).fillna(0)\n",
    "\n",
    "print(X_train.shape)\n",
    "print(X_test.shape)\n",
    "print(y_train.shape)\n",
    "print(y_test.shape)"
   ]
  },
  {
   "cell_type": "markdown",
   "metadata": {},
   "source": [
    "**Model:**"
   ]
  },
  {
   "cell_type": "code",
   "execution_count": 8,
   "metadata": {
    "collapsed": false
   },
   "outputs": [],
   "source": [
    "# It averages to one overall mean, from the mean prediction of each individual tree\n",
    "# to improve the predictive accuracy and controls overfitting from single decision trees\n",
    "rfr = RandomForestRegressor()\n",
    "\n",
    "# Range of different parameters, try to find the bests between these.\n",
    "param_grid = {'n_estimators': [100, 250, 300],\n",
    "             'max_features' : [\"auto\", \"sqrt\", \"log2\"],\n",
    "             'max_depth'    : [2,4,8],\n",
    "             \"bootstrap\"    : [True, False]}\n",
    "\n",
    "# Search for previous specify parameters, within the given estimator RandomForestRegressor()\n",
    "rfr_grid = GridSearchCV(rfr, param_grid)\n",
    "\n",
    "# Build a forest of trees from the training set (X_train, y_train)\n",
    "rfr_grid.fit(X_train, y_train)\n",
    "\n",
    "# regr_grid.best_params_ --> Function to see best parameters\n",
    "# Take best found parameters and predict values\n",
    "y_predict = rfr_grid.best_estimator_.predict(X_test)"
   ]
  },
  {
   "cell_type": "code",
   "execution_count": 9,
   "metadata": {
    "collapsed": false
   },
   "outputs": [
    {
     "data": {
      "text/plain": [
       "{'bootstrap': True,\n",
       " 'max_depth': 8,\n",
       " 'max_features': 'auto',\n",
       " 'n_estimators': 100}"
      ]
     },
     "execution_count": 9,
     "metadata": {},
     "output_type": "execute_result"
    }
   ],
   "source": [
    "rfr_grid.best_params_"
   ]
  },
  {
   "cell_type": "markdown",
   "metadata": {},
   "source": [
    "**Performance:**"
   ]
  },
  {
   "cell_type": "code",
   "execution_count": 10,
   "metadata": {
    "collapsed": false
   },
   "outputs": [
    {
     "name": "stdout",
     "output_type": "stream",
     "text": [
      "RMSE: 4113.1333714563425\n"
     ]
    }
   ],
   "source": [
    "# Mean Square Error\n",
    "MSE = mean_squared_error(y_test, y_predict)\n",
    "\n",
    "# Root Mean Square Error\n",
    "RMSE = sqrt(MSE)\n",
    "print(\"RMSE:\", RMSE)"
   ]
  },
  {
   "cell_type": "code",
   "execution_count": 11,
   "metadata": {
    "collapsed": false
   },
   "outputs": [
    {
     "data": {
      "image/png": "[encoded data removed]",
      "text/plain": [
       "<matplotlib.figure.Figure at 0x162510ba2e8>"
      ]
     },
     "metadata": {},
     "output_type": "display_data"
    }
   ],
   "source": [
    "fig, ax = plt.subplots()\n",
    "fig.set_size_inches(10.5, 5.5)\n",
    "ax = sns.regplot(y_test, y_predict)\n",
    "ax.set_title('Actual vs. Predicted Values')\n",
    "ax.set_xlabel('y_test: Actual Prices')\n",
    "ax.set_ylabel('y_predict: Predicted Prices')\n",
    "plt.show()"
   ]
  },
  {
   "cell_type": "code",
   "execution_count": 12,
   "metadata": {
    "collapsed": false
   },
   "outputs": [
    {
     "data": {
      "text/html": [
       "<div>\n",
       "<style>\n",
       "    .dataframe thead tr:only-child th {\n",
       "        text-align: right;\n",
       "    }\n",
       "\n",
       "    .dataframe thead th {\n",
       "        text-align: left;\n",
       "    }\n",
       "\n",
       "    .dataframe tbody tr th {\n",
       "        vertical-align: top;\n",
       "    }\n",
       "</style>\n",
       "<table border=\"1\" class=\"dataframe\">\n",
       "  <thead>\n",
       "    <tr style=\"text-align: right;\">\n",
       "      <th></th>\n",
       "      <th>Features</th>\n",
       "      <th>Importance</th>\n",
       "    </tr>\n",
       "  </thead>\n",
       "  <tbody>\n",
       "    <tr>\n",
       "      <th>20</th>\n",
       "      <td>BedroomAbvGr</td>\n",
       "      <td>5.63e-01</td>\n",
       "    </tr>\n",
       "    <tr>\n",
       "      <th>2</th>\n",
       "      <td>LotArea</td>\n",
       "      <td>3.85e-01</td>\n",
       "    </tr>\n",
       "    <tr>\n",
       "      <th>34</th>\n",
       "      <td>month</td>\n",
       "      <td>1.73e-02</td>\n",
       "    </tr>\n",
       "    <tr>\n",
       "      <th>28</th>\n",
       "      <td>OpenPorchSF</td>\n",
       "      <td>4.53e-03</td>\n",
       "    </tr>\n",
       "    <tr>\n",
       "      <th>38</th>\n",
       "      <td>Avg_Tmax</td>\n",
       "      <td>2.45e-03</td>\n",
       "    </tr>\n",
       "    <tr>\n",
       "      <th>39</th>\n",
       "      <td>Avg_Tmin</td>\n",
       "      <td>1.92e-03</td>\n",
       "    </tr>\n",
       "    <tr>\n",
       "      <th>1</th>\n",
       "      <td>LotFrontage</td>\n",
       "      <td>1.90e-03</td>\n",
       "    </tr>\n",
       "    <tr>\n",
       "      <th>15</th>\n",
       "      <td>GrLivArea</td>\n",
       "      <td>1.27e-03</td>\n",
       "    </tr>\n",
       "    <tr>\n",
       "      <th>36</th>\n",
       "      <td>Avg_Prcp</td>\n",
       "      <td>1.09e-03</td>\n",
       "    </tr>\n",
       "    <tr>\n",
       "      <th>7</th>\n",
       "      <td>MasVnrArea</td>\n",
       "      <td>9.50e-04</td>\n",
       "    </tr>\n",
       "  </tbody>\n",
       "</table>\n",
       "</div>"
      ],
      "text/plain": [
       "        Features  Importance\n",
       "20  BedroomAbvGr    5.63e-01\n",
       "2        LotArea    3.85e-01\n",
       "34         month    1.73e-02\n",
       "28   OpenPorchSF    4.53e-03\n",
       "38      Avg_Tmax    2.45e-03\n",
       "39      Avg_Tmin    1.92e-03\n",
       "1    LotFrontage    1.90e-03\n",
       "15     GrLivArea    1.27e-03\n",
       "36      Avg_Prcp    1.09e-03\n",
       "7     MasVnrArea    9.50e-04"
      ]
     },
     "execution_count": 12,
     "metadata": {},
     "output_type": "execute_result"
    }
   ],
   "source": [
    "rfr_bp = rfr_grid.best_estimator_.fit(X_train, y_train)\n",
    "result = pd.DataFrame(list(zip(X_train.columns,  rfr_bp.feature_importances_)), columns=['Features', 'Importance'])\n",
    "results = result.sort_values('Importance', ascending=False)\n",
    "results.head(10)"
   ]
  },
  {
   "cell_type": "code",
   "execution_count": 13,
   "metadata": {
    "collapsed": false
   },
   "outputs": [
    {
     "data": {
      "image/png": "[encoded data removed]",
      "text/plain": [
       "<matplotlib.figure.Figure at 0x1625119d908>"
      ]
     },
     "metadata": {},
     "output_type": "display_data"
    }
   ],
   "source": [
    "fig, ax = plt.subplots()\n",
    "fig.set_size_inches(10.5, 5.5)\n",
    "sns.barplot(results['Importance'][:20], results['Features'][:20])\n",
    "ax.set_title(\" Homes' Feature Importance in Regards to Value\")\n",
    "ax.set_xlabel('Feature Importance')\n",
    "ax.set_ylabel(\"Homes' Features\")\n",
    "plt.show()"
   ]
  }
 ],
 "metadata": {
  "kernelspec": {
   "display_name": "Python 3",
   "language": "python",
   "name": "python3"
  },
  "language_info": {
   "codemirror_mode": {
    "name": "ipython",
    "version": 3
   },
   "file_extension": ".py",
   "mimetype": "text/x-python",
   "name": "python",
   "nbconvert_exporter": "python",
   "pygments_lexer": "ipython3",
   "version": "3.6.0"
  }
 },
 "nbformat": 4,
 "nbformat_minor": 2
}
