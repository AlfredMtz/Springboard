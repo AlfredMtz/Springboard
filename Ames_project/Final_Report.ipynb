{
 "cells": [
  {
   "cell_type": "markdown",
   "metadata": {},
   "source": [
    "\n",
    "## Analysis and Prediction of House Prices Through Random Forest"
   ]
  },
  {
   "cell_type": "markdown",
   "metadata": {},
   "source": [
    "By: Alfredo Martinez\n",
    "\n",
    "Date: 2017"
   ]
  },
  {
   "cell_type": "markdown",
   "metadata": {},
   "source": [
    "### Introduction\n",
    "\n",
    "The real estate market plays an essential role in our economy, in some way or another at some point we are touch by its behavior. People that mostly care about the trending values of this market are buyers, sellers, renters, investors and many others, and for most of us, when we first consider purchasing a home, we relate its price to the number of rooms, kitchen style, yard space, living room area, etc. a property has. However, we will find out through this dataset,  that other factors can influence the negotiations and prices when it comes to purchasing a real estate property. \n",
    "\n",
    "### Goal\n",
    "The goal of this project is to create a regression model that can more accurately predict the price of residential homes given the different homes' features and weather data available to us.\n",
    "\n",
    "### Client\n",
    "The analysis is for business client Keller Williams Realty, Inc.; the model serves to better estimate the prices of real estate properties through several homes’ features and yearly weather. The practical value come as sharper report analyses for agents, investors, business owners and general practitioners of the real estate business, providing stronger negotiations in the sales, purchases and strategic agreements in real estate properties.\n",
    "\n",
    "\n",
    "### Data\n",
    "\n",
    "Housing\n",
    "\n",
    "The data collected constitute of the “The Ames Housing Dataset” and was originally compiled by Dean De Cock. This data is publicly available and constitue of major characteristics, year and month sale price for each home in Ames Iowa between the year 2006-2009 and part of 2010.\n",
    "\n",
    "Weather Data\n",
    "\n",
    "The weather data was obtained from the National Center for Enviromental Information website, it includes daily, monthly and yearly records from different weather stations in the city of Ames, Iowa.\n",
    "\n",
    "### Cleaning Data\n",
    "\n",
    "\n",
    "  During data analysis, one of the early steps is cleaning our data. This process can help us avoid working with erroneous   data or outliers, which can influence and cover actual or truth values within your model and analysis. Furthermore, our data   needs to take a format in which the predictive model can accept our the data.\n",
    "\n",
    "   The cleaning process steps for this projects outlined as follow:\n",
    "\n",
    "\n",
    "**Data Preparation:**\n",
    "\n",
    "   First, we opened libraries and packages needed, then preceded to open data files into DataFrames.\n",
    "\n",
    "\n",
    "**Bad Data and Outliers**\n",
    "\n",
    "   This project's implementation is through Random Forest and Decision Trees which are not very sensitive to outliers. However, I still wanted to do a quick [Exploratory Data Analysis](https://github.com/AlfredMtz/Springboard/blob/master/Ames_project/EDA_for_bad_data.ipynb) to see if there was anything out there that appeared to be error type data.\n",
    "\n",
    "\n",
    "![alt text](z1_testbaddata.png \"CHECKING FOR BAD DATA\")\n",
    "\n",
    "---\n",
    "![alt text](z2_testbaddata.png \"CHECKING FOR BAD DATA\")\n",
    "\n",
    "---\n",
    "![alt text](z3_testbaddata.png \"CHECKING FOR BAD DATA\")\n",
    "\n",
    "---\n",
    "![alt text](z4_testbaddata.png \"CHECKING FOR BAD DATA\")\n",
    "\n",
    "\n",
    "After analysis of a couple key variables, we concluded that nothing was outstanding in regards of erroneous data, so we moved on.\n",
    "\n",
    "\n",
    "**Preprocessing Housing data:**\n",
    "\n",
    "We had two different data files for housing, one consisted of the home's features, and the other contained the prices. We first attached these two data frames to their corresponding values, then filtered cells to dates between 2006 and 2009; I decided on this range by the most available weather dates in my weather data. And lastly, renamed sale dates columns and built a DateTime index for the homes.\n",
    "\n",
    "**Preprocessing Weather Data:**\n",
    "\n",
    "Our weather data files consisted of records from different weather stations. \n",
    "\n",
    "We filtered and subtracted the weather station which provided the best recordings available. Next, the dates were filtered to match our housing dates, and significant weather variables were subtracted.\n",
    "\n",
    "Corrupted values showed as a digit (-999), we changed them through numpy library as NaN(not a number values), then we filled them with the average values of their corresponding variables.\n",
    "\n",
    "After cleaning and building the data frames, these were joint to form a single data frame file.\n",
    "\n",
    "\n",
    "**Data Conversion to Fit Model Building:**\n",
    "\n",
    "We split the new data frame into our train and test objects. From this point, we filled our train variables' NaN values with means and modes by either being an integer or floating value. Also, for categorical variables, we built dummy columns since our model works only with numerical points, but not data types such as objects or strings.\n",
    "\n",
    "For our test data, we preceded to use the mean and mode values from our training data for any NaN value. The reason for this was the fact that we don't know if there will be something different about the new data(test) that can change the basis of our model. And finally, we reindex(transfer) the dummy variables from our training data to capture all the possible categorical columns values into our test set."
   ]
  },
  {
   "cell_type": "markdown",
   "metadata": {},
   "source": [
    "---"
   ]
  },
  {
   "cell_type": "markdown",
   "metadata": {
    "collapsed": true
   },
   "source": [
    "### Exploratory Data Analysis"
   ]
  },
  {
   "cell_type": "markdown",
   "metadata": {},
   "source": [
    "The upcoming work and charts show some of the most exciting findings while going throughout exploratory data analysis, it covers data for both housing and weather files.\n",
    "\n",
    "[Code](https://github.com/AlfredMtz/Springboard/blob/master/Ames_project/Data_story.ipynb)"
   ]
  },
  {
   "cell_type": "markdown",
   "metadata": {
    "collapsed": true
   },
   "source": [
    "FIG1\n",
    "![alt text](z1_findings.png \"FIG1\")\n",
    "\n",
    "Through this first chart, we can see how the majority of these homes were in a close range price of \\$170,000 and \\$190,000. Also, just a few houses had an estimated cost of \\$240,000 or more. These details give insight into how the cost of living is probably not that high for this particular city.\n",
    "\n",
    "---\n",
    "\n",
    "FIG2\n",
    "![alt text](z2_findings.png \"FIG2\")\n",
    "\n",
    "For this second histogram, we see how people make more home purchases during the summer season in May, June, and July and how the sales of homes start declining through November, December, January, and February. The difference in sales between these two seasons is quite outstanding to be twice as much.\n",
    " - Winter to Summer months have roughly a 150% increase in sales\n",
    " - $\\frac{Summer(50) - Winter(20)}{Winter(20)}  x  100 = 150\\% Increase$ \n",
    "\n",
    "The findings on this chart show a strong distribution throughout the months for every year; there could be different factors causing this placement for the sale of these homes. One factor causing the drastic hiked during summer could be the warmers weather and would be further study in future analysis. Other possible causes for this lifted in sales could be the increase and availability of finish home projects from builders or the tax return funds available to many people just before these months allowing for extra fundings in the purchase of homes.\n",
    "\n",
    "---\n",
    "\n",
    "FIG3\n",
    "![alt text](z3_findings.png \"FIG3\")\n",
    "\n",
    "Next, we analyzed the number of bedrooms in the homes. We found how there is a positive relationship between the number of bedrooms and sale price of homes. Most of the homes have between one and five bedrooms, but people seem to prefer the three bedrooms homes as we see a slightly more significant amount of purchases in comparison to others, and the estimate range price of these three bedrooms houses was between \\$150,000 and \\$250,000.\n",
    "\n",
    "---\n",
    "\n",
    "FIG4\n",
    "![alt text](z4_findings.png \"FIG4\")\n",
    "\n",
    "After analyzing the number of bathrooms against the homes' prices we found there was no relationship between the ascending number of bathrooms to price.  Although, we can see that the majority homes have between one to two bathrooms and their corresponding estimated cost was between \\$140,000 and \\$280,000.\n",
    "\n",
    "Up next we are be exploring and analyzing the square feet area of the real estate properties; Lot Area and Living Area.\n",
    "\n",
    "---\n",
    "\n",
    "FIG5\n",
    "![alt text](z5_findings.png \"FIG5\")\n",
    "\n",
    "The plot above shows a positive relationship between the homes Lot Square Footage and price, which is expected as the land is an essential asset of real estate properties. Most houses sold had an estimated Lot Square Footage range of 1,000 to 28,000 and a Sale Price range of 140,000 to 240,000. Also, Most homes have a Lot Square Footage range of 1,000 to 28,000 and a Sale Price range of 140,000 to 240,000.\n",
    "\n",
    "---\n",
    "\n",
    "FIG6\n",
    "![alt text](z6_findings.png \"FIG6\")\n",
    "\n",
    "In the case of the Living Area Square Footage and home prices, there no indeed a good relationship. Other insights that we can notice is how most homes sold had an estimated range of Living Square Feet Area of 400 to 3000, and Sale Price range of \\$140,000 to \\$240,000.\n",
    "\n",
    "So far we have notice data points which could be outliers in our data, but as we have mentioned before they will be left alone as we are going to be working on a random forest algorithms which are fortunately not very sensitive to this type of data points.\n",
    "\n",
    "Up next we are going to be analyzing our weather data and how is distributed through the months. This data was exciting to explore since will be used for future analysis and add to our predictive model to see how important weather and timing of the year affects the value of homes.\n",
    "\n",
    "---\n",
    "\n",
    "FIG7\n",
    "![alt text](z7_findings.png \"FIG7\")\n",
    "\n",
    "On this first weather figure, we can see how some winter months show less precipitation than the rest of the months,  March through May has an estimated consistent amount of Precipitation of .10 inches throughout the years and the precipitation during summer months highly variated through this four year period.\n",
    "\n",
    "---\n",
    "FIG8\n",
    "![alt text](z8_findings.png \"FIG8\")\n",
    "\n",
    "In regards of snow in our second graph, we see how snow always shows present during winter months, while May through October shows no presence of snow at all.\n",
    "\n",
    "---\n",
    "FIG9\n",
    "![alt text](z9_findings.png \"FIG9\")\n",
    "\n",
    "This last graph shows the average temperatures through the year; we see how May through October had the highest temperatures, with estimated average maximum temperatures range of 70 to 85 degrees. Also, December through February had the lowest temperatures, with estimated average Minimum Temperatures range of 5 to 25 degrees.\n",
    "\n",
    "\n",
    "\n",
    "**Summaries**\n",
    "\n",
    "Surprisingly the visualization of the data on hand served as a significant step for us to find relevant information about these homes, their market, and weather through the year. We can now see what the average price of homes is in the city, how the cost of homes increase as the number of rooms increase, giving us insight on what a person should expect to pay for the homes in the area. We also see how people tend to buy more houses during summer when there is no snow and temperature are higher, probably turning into a seller's market from the increase in homes' demand, and switching to a more difficult negotiation to the buyer in home prices.\n",
    "\n",
    "\n",
    "All these are valuable trends of the market and weather and can serve as a good starting point when analyzing the value of a home."
   ]
  },
  {
   "cell_type": "markdown",
   "metadata": {
    "collapsed": true
   },
   "source": [
    "### Inference Analysis"
   ]
  },
  {
   "cell_type": "markdown",
   "metadata": {
    "collapsed": true
   },
   "source": [
    "We tried to infer specific ideas and try to find answers through our sample data which can hopefully give us insights of the actual population of homes.\n",
    "\n",
    "Up next is some of the studies done in features such as air units in the homes, One story vs. Two story homes, and whether there is a significant difference in price between houses with front fences or not fence. Lets now go over and check each of these studies.\n",
    "\n",
    "[Code](https://github.com/AlfredMtz/Springboard/blob/master/Ames_project/Amesproject-Inferential%20Analysis.ipynb)"
   ]
  },
  {
   "cell_type": "markdown",
   "metadata": {},
   "source": [
    "#### Finding a difference in prices between houses with and without a central air unit\n",
    "\n",
    "**Ho:** Average price of houses with central air unit **=** average price of houses without central air unit\n",
    "\n",
    "\n",
    "**Ha:** Average price of houses with central air unit $\\neq$ average price of houses without central air unit\n",
    "\n",
    "\n",
    "#### Average prices between house with and without central air conditioning\n",
    "\n",
    "House Average Price with Central Air Continioning: \\$180233.18821323398\n",
    "\n",
    "House Average Price without Central Air Continioning: \\$175487.13481860465\n",
    "\n",
    "Average difference in prices is:  **\\$4,746**\n",
    "\n",
    "#### Is this difference statistically significant within a significance level of .05?\n",
    "\n",
    "**p-value:** 0.010090621217186681\n",
    " \n",
    "Our probability value of 0.010090621217186681(1%) is less than our set significance level 0f .05(5%), so we can reject the null hypothesis and accept the alternative theory. So, we can conclude that there is a statistical difference in prices between houses with central air units and homes without central air units. Also, There is a practical difference since we have almost a 5,000 dollars difference in average between this two different groups."
   ]
  },
  {
   "cell_type": "markdown",
   "metadata": {},
   "source": [
    "#### Up next, we try to find and see if there is a difference in prices between  One story houses and Two story houses\n",
    "\n",
    "**Ho:** Average price of 1Story houses **=** Average price of 2Story houses\n",
    "\n",
    "\n",
    "**Ha:** Average price 1Story houses $\\neq$ average price of 2Story houses\n",
    "\n",
    "Average Price for 1Story Houses: 177241.8944210845\n",
    "\n",
    "Average Price for 2Story Houses: 184862.86511858634\n",
    "\n",
    "Average difference in prices is:  **\\$7,621**\n",
    "\n",
    "**pvalue:** 3.5535259636604621e-13\n",
    "\n",
    "#### Is this difference statistically significant within a significance level of .05?\n",
    "\n",
    "Our probability value of 3.5535259636604621e-13 is far less than our set significance level 0f .05(5%), so we can reject the null hypothesis and accept the alternative hypothesis.\n",
    "\n",
    "So, we can conclude that there is a statistical difference in prices between 1Story houses and 2Story houses. Having a practical difference of \\$7,621"
   ]
  },
  {
   "cell_type": "markdown",
   "metadata": {},
   "source": [
    "#### For our last inferential analysis we tryied to determine and see if  there was a price difference betwee houses with good privacy fence and houses with a minimum privacy fence?\n",
    "\n",
    "**Ho:** Average price of houses with a good privacy fence **=** Average price of houses without a good privacy fence\n",
    "\n",
    "\n",
    "**Ha:** Average price of houses with a good privacy fence $\\neq$ Average price of houses without a good privacy fence\n",
    "\n",
    "Average price of houses with good privacy fence \\$180536.3744333333\n",
    "\n",
    "Average price of houses with minimum privacy fence \\$178473.1263473333\n",
    "\n",
    "Average difference in prices is:  **\\$2,063**\n",
    "\n",
    "**pvalue:** 0.37003494954970051\n",
    "\n",
    "#### Is this difference statistically significant within a significance level of .05?\n",
    "\n",
    "Our p-value of 0.37003494954970051 is greater than our set significance level 0f .05(5%), so we can not reject the null hypothesis.\n",
    "\n",
    "---"
   ]
  },
  {
   "cell_type": "markdown",
   "metadata": {
    "collapsed": true
   },
   "source": [
    "### Machine learning Modeling and Analysis"
   ]
  },
  {
   "cell_type": "markdown",
   "metadata": {},
   "source": [
    "[Code](https://github.com/AlfredMtz/Springboard/blob/master/Ames_project/amesproject.ipynb)\n",
    "\n",
    "The goal of our model is to predict home prices with the data on hand. As mention earlier we will be using Random Forest Predictive algorithm to find these values. For our data, the target variable is continuous, so it best served to use a regression function.\n",
    "\n",
    "The process done to build our model was as followed; Through the usage of python ski-learn library, we created a random forest of trees regression model object and found the best estimators(parameters) to generate the model, after this, our training data set was fitted into our model.  The best parameters for our data consisted of the usage of bootstrapping for our trees, tree depth of eight(edges from the tree's root node to the node), square number of features, and number of estimators(trees) of two hundred and fifty. To obtain our predicted values, we built a price predicted object(y_predict) by scaling out libraries, random forest regressor,  best estimators and predict libraries.\n",
    "\n",
    "The following graphs show the comparing actual vs. predicted prices. We see a strong positive linear relationship."
   ]
  },
  {
   "cell_type": "markdown",
   "metadata": {
    "collapsed": true
   },
   "source": [
    "![alt text](z1_ml.png \"FIGURE 1\")"
   ]
  },
  {
   "cell_type": "markdown",
   "metadata": {
    "collapsed": true
   },
   "source": [
    "The method used to calculate the performance of our model was through the Root Mean Square Error(RMSE), which gave us an error of \\$4213. This value was analyzed and determined as a small error difference.\n",
    "\n",
    "---\n",
    "\n",
    "**The following charts shows the feature importance for our model:**"
   ]
  },
  {
   "cell_type": "markdown",
   "metadata": {},
   "source": [
    "![alt text](z2_ml.PNG \"FIGURE 1\") "
   ]
  },
  {
   "cell_type": "markdown",
   "metadata": {
    "collapsed": true
   },
   "source": [
    "![alt text](z9_featureimp.png \"FIGURE 1\")"
   ]
  },
  {
   "cell_type": "markdown",
   "metadata": {},
   "source": [
    "We see how Homes' bedrooms, Lot Square Feet Area, the time of the year when the sale of a home happens, an Open Porch, Average Maximum and Minimum Temperature are some of the critical determinants of prices.\n",
    "\n",
    "---\n",
    "\n",
    "### Conclusion\n",
    "\n",
    "After cleaning and analyzing our data, building our model and subtracting the importance of features, we can determine how  \n",
    "Random Forest is a great alternative to the use of linear regression and the determinants of coeffieicients when analyzing continues target values. We determined by practice and agreed in how this is one of the most useful algorithms in the market; which shows as the outcome accuracy value of our model. Furthermore, through the use of this model, we see how much more important weather and time of the year in regards to determining houses' values are in contrast to other homes features.\n"
   ]
  },
  {
   "cell_type": "markdown",
   "metadata": {},
   "source": [
    "---"
   ]
  }
 ],
 "metadata": {
  "kernelspec": {
   "display_name": "Python 3",
   "language": "python",
   "name": "python3"
  },
  "language_info": {
   "codemirror_mode": {
    "name": "ipython",
    "version": 3
   },
   "file_extension": ".py",
   "mimetype": "text/x-python",
   "name": "python",
   "nbconvert_exporter": "python",
   "pygments_lexer": "ipython3",
   "version": "3.5.4"
  }
 },
 "nbformat": 4,
 "nbformat_minor": 2
}
