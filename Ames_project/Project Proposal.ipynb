{
 "cells": [
  {
   "cell_type": "markdown",
   "metadata": {},
   "source": [
    "**By:** Alfredo Martinez\n",
    "\n",
    "**Date:** 2017"
   ]
  },
  {
   "cell_type": "markdown",
   "metadata": {},
   "source": [
    "## Project Proposal\n",
    "\n",
    "### [Real Estate Price Prediction through Random Forest]"
   ]
  },
  {
   "cell_type": "markdown",
   "metadata": {},
   "source": [
    "#### Objective:\n",
    "\n",
    "Price prediction of residential homes\n",
    "\n",
    "\n",
    "#### Project’s Value and Client:\n",
    "\n",
    "The business client is real estate agency, Keller Williams Realty, Inc.; they use the model to better estimate the price of real estate properties through several homes’ features and yearly weather.\n",
    "\n",
    "The practical value come as sharper report analyses for agents, investors, business owners and general practitioners of the real estate business, providing stronger negotiations in the sales, purchases and strategic agreements in real estate properties.\n"
   ]
  },
  {
   "cell_type": "markdown",
   "metadata": {},
   "source": [
    "#### Resources/Data:\n",
    "\n",
    "Housing data:\n",
    "\n",
    "https://www.kaggle.com/c/house-prices-advanced-regression-techniques/data\n",
    "\n",
    "Weather data:\n",
    "\n",
    "https://www.ncdc.noaa.gov/cdo-web/search?datasetid=GHCND\n",
    "\n",
    "*The data is publicly free and can be subtracted/download from their corresponding websites.\n"
   ]
  },
  {
   "cell_type": "markdown",
   "metadata": {},
   "source": [
    "#### Approach to solving the problem:\n",
    "**1.**\tObtain each data set from its corresponding source\n",
    "\n",
    "**2.**\tClean, structure and organize data.\n",
    "\n",
    "**3.**\tBuild analysis/predictive model \n",
    "\n",
    "**4.**\tProvide summary explaining the findings\n"
   ]
  },
  {
   "cell_type": "markdown",
   "metadata": {},
   "source": [
    "#### Deliverables:\n",
    "**A presentation:** Slides of how was this done and its business values.\n",
    "\n",
    "**Story:** Problem, analysis, and conclusions.\n",
    "\n",
    "**Code:** Code description, and productivity.\n"
   ]
  }
 ],
 "metadata": {
  "kernelspec": {
   "display_name": "Python 3",
   "language": "python",
   "name": "python3"
  },
  "language_info": {
   "codemirror_mode": {
    "name": "ipython",
    "version": 3
   },
   "file_extension": ".py",
   "mimetype": "text/x-python",
   "name": "python",
   "nbconvert_exporter": "python",
   "pygments_lexer": "ipython3",
   "version": "3.6.0"
  }
 },
 "nbformat": 4,
 "nbformat_minor": 2
}
